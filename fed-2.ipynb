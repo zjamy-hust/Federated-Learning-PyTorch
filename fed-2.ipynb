{
 "cells": [
  {
   "cell_type": "code",
   "execution_count": null,
   "metadata": {
    "scrolled": false
   },
   "outputs": [],
   "source": [
    "%run src/federated_main.py --model=test --dataset=cifar --gpu=2 --iid=1 \\\n",
    "--epochs=5 --lr=0.01 --local_bs=50 --local_ep=50 --num_users=16 --frac=1"
   ]
  },
  {
   "cell_type": "markdown",
   "metadata": {},
   "source": [
    "%run src/federated_main.py --model=test --dataset=cifar --gpu=2 --iid=0 \\\n",
    "--epochs=5 --lr=0.01 --local_bs=50 --local_ep=50 --num_users=10 --frac=1\n",
    "\n",
    "100%|██████████| 5/5 [1:48:39<00:00, 1303.93s/it]\n",
    " \n",
    " Results after 5 global rounds of training:\n",
    "|---- Test Accuracy: 37.00%\n",
    "\n",
    " Total Run Time: 6526.5896\n",
    " \n",
    " %run src/federated_main.py --model=test --dataset=cifar --gpu=2 --iid=0 \\\n",
    "--epochs=5 --lr=0.01 --local_bs=50 --local_ep=50 --num_users=1 --frac=1\n",
    " 100%|██████████| 5/5 [17:41<00:00, 212.37s/it]\n",
    " \n",
    " Results after 5 global rounds of training:\n",
    "|---- Test Accuracy: 19.45%\n",
    "Total Run Time: 1070.0343\n",
    "\n",
    "%run src/federated_main.py --model=test --dataset=cifar --gpu=2 --iid=0 \\\n",
    "--epochs=5 --lr=0.01 --local_bs=50 --local_ep=50 --num_users=100 --frac=1\n",
    "Results after 5 global rounds of training:\n",
    "|---- Test Accuracy: 38.07%\n",
    "\n",
    "Total Run Time: 10767.4726\n",
    "\n",
    "%run src/federated_main.py --model=test --dataset=cifar --gpu=2 --iid=0 \\\n",
    "--epochs=5 --lr=0.01 --local_bs=50 --local_ep=50 --num_users=1 --frac=1\n",
    "Results after 5 global rounds of training:\n",
    "|---- Test Accuracy: 78.30%\n",
    "\n",
    "\n",
    "%run src/federated_main.py --model=test --dataset=cifar --gpu=2 --iid=0 \\\n",
    "--epochs=5 --lr=0.01 --local_bs=50 --local_ep=50 --num_users=16 --frac=1\n",
    "\n",
    " Results after 5 global rounds of training:\n",
    "|---- Test Accuracy: 54.15%\n",
    "\n",
    "%run src/federated_main.py --model=test --dataset=cifar --gpu=2 --iid=0 \\\n",
    "--epochs=5 --lr=0.01 --local_bs=50 --local_ep=50 --num_users=20 --frac=1\n",
    "\n",
    " Results after 5 global rounds of training:\n",
    "|---- Test Accuracy: 34.69%\n",
    "\n",
    " Total Run Time: 6677.7586\n",
    " \n",
    " \n"
   ]
  },
  {
   "cell_type": "code",
   "execution_count": null,
   "metadata": {},
   "outputs": [],
   "source": []
  },
  {
   "cell_type": "code",
   "execution_count": null,
   "metadata": {},
   "outputs": [],
   "source": []
  }
 ],
 "metadata": {
  "kernelspec": {
   "display_name": "Python 3",
   "language": "python",
   "name": "python3"
  },
  "language_info": {
   "codemirror_mode": {
    "name": "ipython",
    "version": 3
   },
   "file_extension": ".py",
   "mimetype": "text/x-python",
   "name": "python",
   "nbconvert_exporter": "python",
   "pygments_lexer": "ipython3",
   "version": "3.6.9"
  }
 },
 "nbformat": 4,
 "nbformat_minor": 4
}
