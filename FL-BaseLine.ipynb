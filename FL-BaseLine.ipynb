{
 "cells": [
  {
   "cell_type": "markdown",
   "metadata": {},
   "source": [
    "**Federated-Learning-PyTorch**\n",
    "\n",
    "*reproducing by Zhao Juan*\n",
    "\n",
    "Paper Title: **Communication-Efficient Learning of Deep Networks from Decentralized Data**\n",
    "\n",
    "source code from: https://github.com/AshwinRJ/Federated-Learning-PyTorch\n",
    "\n",
    "Problem Statement: **I can't reproduce the paper's Figure 4's good result.How is your reproducint result?**\n",
    "\n",
    "gitdiff (the code I modified)\n",
    "\n"
   ]
  },
  {
   "cell_type": "code",
   "execution_count": 1,
   "metadata": {},
   "outputs": [
    {
     "name": "stdout",
     "output_type": "stream",
     "text": [
      "Files already downloaded and verified\n",
      "Files already downloaded and verified\n"
     ]
    },
    {
     "name": "stderr",
     "output_type": "stream",
     "text": [
      "\r",
      "  0%|          | 0/50 [00:00<?, ?it/s]"
     ]
    },
    {
     "name": "stdout",
     "output_type": "stream",
     "text": [
      "TestmyNet(\n",
      "  (conv1): Conv2d(3, 64, kernel_size=(3, 3), stride=(1, 1), padding=(1, 1))\n",
      "  (conv2): Conv2d(64, 64, kernel_size=(3, 3), stride=(1, 1), padding=(1, 1))\n",
      "  (pool1): MaxPool2d(kernel_size=2, stride=2, padding=0, dilation=1, ceil_mode=False)\n",
      "  (bn1): BatchNorm2d(64, eps=1e-05, momentum=0.1, affine=True, track_running_stats=True)\n",
      "  (relu1): ReLU()\n",
      "  (conv3): Conv2d(64, 128, kernel_size=(3, 3), stride=(1, 1), padding=(1, 1))\n",
      "  (conv4): Conv2d(128, 128, kernel_size=(3, 3), stride=(1, 1), padding=(1, 1))\n",
      "  (pool2): MaxPool2d(kernel_size=2, stride=2, padding=1, dilation=1, ceil_mode=False)\n",
      "  (bn2): BatchNorm2d(128, eps=1e-05, momentum=0.1, affine=True, track_running_stats=True)\n",
      "  (relu2): ReLU()\n",
      "  (conv5): Conv2d(128, 128, kernel_size=(3, 3), stride=(1, 1), padding=(1, 1))\n",
      "  (conv6): Conv2d(128, 128, kernel_size=(3, 3), stride=(1, 1), padding=(1, 1))\n",
      "  (conv7): Conv2d(128, 128, kernel_size=(1, 1), stride=(1, 1), padding=(1, 1))\n",
      "  (pool3): MaxPool2d(kernel_size=2, stride=2, padding=1, dilation=1, ceil_mode=False)\n",
      "  (bn3): BatchNorm2d(128, eps=1e-05, momentum=0.1, affine=True, track_running_stats=True)\n",
      "  (relu3): ReLU()\n",
      "  (conv8): Conv2d(128, 256, kernel_size=(3, 3), stride=(1, 1), padding=(1, 1))\n",
      "  (conv9): Conv2d(256, 256, kernel_size=(3, 3), stride=(1, 1), padding=(1, 1))\n",
      "  (conv10): Conv2d(256, 256, kernel_size=(1, 1), stride=(1, 1), padding=(1, 1))\n",
      "  (pool4): MaxPool2d(kernel_size=2, stride=2, padding=1, dilation=1, ceil_mode=False)\n",
      "  (bn4): BatchNorm2d(256, eps=1e-05, momentum=0.1, affine=True, track_running_stats=True)\n",
      "  (relu4): ReLU()\n",
      "  (conv11): Conv2d(256, 512, kernel_size=(3, 3), stride=(1, 1), padding=(1, 1))\n",
      "  (conv12): Conv2d(512, 512, kernel_size=(3, 3), stride=(1, 1), padding=(1, 1))\n",
      "  (conv13): Conv2d(512, 512, kernel_size=(1, 1), stride=(1, 1), padding=(1, 1))\n",
      "  (pool5): MaxPool2d(kernel_size=2, stride=2, padding=1, dilation=1, ceil_mode=False)\n",
      "  (bn5): BatchNorm2d(512, eps=1e-05, momentum=0.1, affine=True, track_running_stats=True)\n",
      "  (relu5): ReLU()\n",
      "  (fc14): Linear(in_features=8192, out_features=1024, bias=True)\n",
      "  (drop1): Dropout2d(p=0.5, inplace=False)\n",
      "  (fc15): Linear(in_features=1024, out_features=1024, bias=True)\n",
      "  (drop2): Dropout2d(p=0.5, inplace=False)\n",
      "  (fc16): Linear(in_features=1024, out_features=10, bias=True)\n",
      ")\n",
      "Train Epoch: 1 [0/50000 (0%)]\tLoss: 2.347893\n",
      "Train Epoch: 1 [3200/50000 (6%)]\tLoss: 1.849604\n",
      "Train Epoch: 1 [6400/50000 (13%)]\tLoss: 1.700643\n",
      "Train Epoch: 1 [9600/50000 (19%)]\tLoss: 1.495165\n",
      "Train Epoch: 1 [12800/50000 (26%)]\tLoss: 1.639058\n",
      "Train Epoch: 1 [16000/50000 (32%)]\tLoss: 1.538303\n",
      "Train Epoch: 1 [19200/50000 (38%)]\tLoss: 1.408621\n",
      "Train Epoch: 1 [22400/50000 (45%)]\tLoss: 1.235811\n",
      "Train Epoch: 1 [25600/50000 (51%)]\tLoss: 1.291546\n",
      "Train Epoch: 1 [28800/50000 (58%)]\tLoss: 1.485872\n",
      "Train Epoch: 1 [32000/50000 (64%)]\tLoss: 1.279041\n",
      "Train Epoch: 1 [35200/50000 (70%)]\tLoss: 1.425295\n",
      "Train Epoch: 1 [38400/50000 (77%)]\tLoss: 1.183543\n",
      "Train Epoch: 1 [41600/50000 (83%)]\tLoss: 1.120894\n",
      "Train Epoch: 1 [44800/50000 (90%)]\tLoss: 1.073376\n",
      "Train Epoch: 1 [48000/50000 (96%)]\tLoss: 1.101496\n"
     ]
    },
    {
     "name": "stderr",
     "output_type": "stream",
     "text": [
      "\r",
      "  2%|▏         | 1/50 [03:30<2:51:30, 210.01s/it]"
     ]
    },
    {
     "name": "stdout",
     "output_type": "stream",
     "text": [
      "\n",
      "Train loss: 1.427442007738611\n",
      "Train Epoch: 2 [0/50000 (0%)]\tLoss: 1.208870\n",
      "Train Epoch: 2 [3200/50000 (6%)]\tLoss: 1.084650\n",
      "Train Epoch: 2 [6400/50000 (13%)]\tLoss: 0.792037\n",
      "Train Epoch: 2 [9600/50000 (19%)]\tLoss: 1.005487\n",
      "Train Epoch: 2 [12800/50000 (26%)]\tLoss: 0.746283\n",
      "Train Epoch: 2 [16000/50000 (32%)]\tLoss: 0.877595\n",
      "Train Epoch: 2 [19200/50000 (38%)]\tLoss: 1.091688\n",
      "Train Epoch: 2 [22400/50000 (45%)]\tLoss: 0.794656\n",
      "Train Epoch: 2 [25600/50000 (51%)]\tLoss: 0.924173\n",
      "Train Epoch: 2 [28800/50000 (58%)]\tLoss: 1.059787\n",
      "Train Epoch: 2 [32000/50000 (64%)]\tLoss: 0.974813\n",
      "Train Epoch: 2 [35200/50000 (70%)]\tLoss: 0.715872\n",
      "Train Epoch: 2 [38400/50000 (77%)]\tLoss: 0.956109\n",
      "Train Epoch: 2 [41600/50000 (83%)]\tLoss: 0.875144\n",
      "Train Epoch: 2 [44800/50000 (90%)]\tLoss: 0.686961\n",
      "Train Epoch: 2 [48000/50000 (96%)]\tLoss: 0.738562\n"
     ]
    },
    {
     "name": "stderr",
     "output_type": "stream",
     "text": [
      "\r",
      "  4%|▍         | 2/50 [06:55<2:46:56, 208.69s/it]"
     ]
    },
    {
     "name": "stdout",
     "output_type": "stream",
     "text": [
      "\n",
      "Train loss: 0.9056636653745266\n",
      "Train Epoch: 3 [0/50000 (0%)]\tLoss: 0.818724\n",
      "Train Epoch: 3 [3200/50000 (6%)]\tLoss: 0.927285\n",
      "Train Epoch: 3 [6400/50000 (13%)]\tLoss: 0.780073\n",
      "Train Epoch: 3 [9600/50000 (19%)]\tLoss: 0.755589\n",
      "Train Epoch: 3 [12800/50000 (26%)]\tLoss: 0.789674\n",
      "Train Epoch: 3 [16000/50000 (32%)]\tLoss: 0.806796\n",
      "Train Epoch: 3 [19200/50000 (38%)]\tLoss: 0.941132\n",
      "Train Epoch: 3 [22400/50000 (45%)]\tLoss: 0.781869\n",
      "Train Epoch: 3 [25600/50000 (51%)]\tLoss: 0.733338\n",
      "Train Epoch: 3 [28800/50000 (58%)]\tLoss: 0.788722\n",
      "Train Epoch: 3 [32000/50000 (64%)]\tLoss: 0.733831\n",
      "Train Epoch: 3 [35200/50000 (70%)]\tLoss: 0.925583\n",
      "Train Epoch: 3 [38400/50000 (77%)]\tLoss: 0.717464\n",
      "Train Epoch: 3 [41600/50000 (83%)]\tLoss: 0.671901\n",
      "Train Epoch: 3 [44800/50000 (90%)]\tLoss: 0.725136\n",
      "Train Epoch: 3 [48000/50000 (96%)]\tLoss: 0.759594\n"
     ]
    },
    {
     "name": "stderr",
     "output_type": "stream",
     "text": [
      "\r",
      "  6%|▌         | 3/50 [10:24<2:43:27, 208.68s/it]"
     ]
    },
    {
     "name": "stdout",
     "output_type": "stream",
     "text": [
      "\n",
      "Train loss: 0.724891096162979\n",
      "Train Epoch: 4 [0/50000 (0%)]\tLoss: 0.483201\n",
      "Train Epoch: 4 [3200/50000 (6%)]\tLoss: 0.371798\n",
      "Train Epoch: 4 [6400/50000 (13%)]\tLoss: 0.621481\n",
      "Train Epoch: 4 [9600/50000 (19%)]\tLoss: 0.614935\n",
      "Train Epoch: 4 [12800/50000 (26%)]\tLoss: 0.776693\n",
      "Train Epoch: 4 [16000/50000 (32%)]\tLoss: 0.662931\n",
      "Train Epoch: 4 [19200/50000 (38%)]\tLoss: 0.573700\n",
      "Train Epoch: 4 [22400/50000 (45%)]\tLoss: 0.523484\n",
      "Train Epoch: 4 [25600/50000 (51%)]\tLoss: 0.541634\n",
      "Train Epoch: 4 [28800/50000 (58%)]\tLoss: 0.574853\n",
      "Train Epoch: 4 [32000/50000 (64%)]\tLoss: 0.580330\n",
      "Train Epoch: 4 [35200/50000 (70%)]\tLoss: 0.526280\n",
      "Train Epoch: 4 [38400/50000 (77%)]\tLoss: 0.443990\n",
      "Train Epoch: 4 [41600/50000 (83%)]\tLoss: 0.573531\n",
      "Train Epoch: 4 [44800/50000 (90%)]\tLoss: 0.644911\n",
      "Train Epoch: 4 [48000/50000 (96%)]\tLoss: 0.491195\n"
     ]
    },
    {
     "name": "stderr",
     "output_type": "stream",
     "text": [
      "\r",
      "  8%|▊         | 4/50 [13:51<2:39:37, 208.21s/it]"
     ]
    },
    {
     "name": "stdout",
     "output_type": "stream",
     "text": [
      "\n",
      "Train loss: 0.620331067982537\n",
      "Train Epoch: 5 [0/50000 (0%)]\tLoss: 0.398260\n",
      "Train Epoch: 5 [3200/50000 (6%)]\tLoss: 0.570832\n",
      "Train Epoch: 5 [6400/50000 (13%)]\tLoss: 0.446666\n",
      "Train Epoch: 5 [9600/50000 (19%)]\tLoss: 0.411190\n",
      "Train Epoch: 5 [12800/50000 (26%)]\tLoss: 0.598089\n",
      "Train Epoch: 5 [16000/50000 (32%)]\tLoss: 0.485946\n",
      "Train Epoch: 5 [19200/50000 (38%)]\tLoss: 0.636289\n",
      "Train Epoch: 5 [22400/50000 (45%)]\tLoss: 0.446589\n",
      "Train Epoch: 5 [25600/50000 (51%)]\tLoss: 0.414283\n",
      "Train Epoch: 5 [28800/50000 (58%)]\tLoss: 0.568887\n",
      "Train Epoch: 5 [32000/50000 (64%)]\tLoss: 0.589380\n",
      "Train Epoch: 5 [35200/50000 (70%)]\tLoss: 0.445405\n",
      "Train Epoch: 5 [38400/50000 (77%)]\tLoss: 0.567287\n",
      "Train Epoch: 5 [41600/50000 (83%)]\tLoss: 0.472524\n",
      "Train Epoch: 5 [44800/50000 (90%)]\tLoss: 0.525946\n",
      "Train Epoch: 5 [48000/50000 (96%)]\tLoss: 0.843942\n"
     ]
    },
    {
     "name": "stderr",
     "output_type": "stream",
     "text": [
      "\r",
      " 10%|█         | 5/50 [17:23<2:36:56, 209.26s/it]"
     ]
    },
    {
     "name": "stdout",
     "output_type": "stream",
     "text": [
      "\n",
      "Train loss: 0.5495123802053045\n",
      "Train Epoch: 6 [0/50000 (0%)]\tLoss: 0.558017\n",
      "Train Epoch: 6 [3200/50000 (6%)]\tLoss: 0.661303\n",
      "Train Epoch: 6 [6400/50000 (13%)]\tLoss: 0.515602\n",
      "Train Epoch: 6 [9600/50000 (19%)]\tLoss: 0.348727\n",
      "Train Epoch: 6 [12800/50000 (26%)]\tLoss: 0.669888\n",
      "Train Epoch: 6 [16000/50000 (32%)]\tLoss: 0.416308\n",
      "Train Epoch: 6 [19200/50000 (38%)]\tLoss: 0.354203\n",
      "Train Epoch: 6 [22400/50000 (45%)]\tLoss: 0.620943\n",
      "Train Epoch: 6 [25600/50000 (51%)]\tLoss: 0.494377\n",
      "Train Epoch: 6 [28800/50000 (58%)]\tLoss: 0.353988\n",
      "Train Epoch: 6 [32000/50000 (64%)]\tLoss: 0.589020\n",
      "Train Epoch: 6 [35200/50000 (70%)]\tLoss: 0.399227\n",
      "Train Epoch: 6 [38400/50000 (77%)]\tLoss: 0.429181\n",
      "Train Epoch: 6 [41600/50000 (83%)]\tLoss: 0.561712\n",
      "Train Epoch: 6 [44800/50000 (90%)]\tLoss: 0.343302\n",
      "Train Epoch: 6 [48000/50000 (96%)]\tLoss: 0.565973\n"
     ]
    },
    {
     "name": "stderr",
     "output_type": "stream",
     "text": [
      "\r",
      " 12%|█▏        | 6/50 [20:54<2:33:57, 209.95s/it]"
     ]
    },
    {
     "name": "stdout",
     "output_type": "stream",
     "text": [
      "\n",
      "Train loss: 0.49124431087995124\n",
      "Train Epoch: 7 [0/50000 (0%)]\tLoss: 0.692441\n",
      "Train Epoch: 7 [3200/50000 (6%)]\tLoss: 0.451441\n",
      "Train Epoch: 7 [6400/50000 (13%)]\tLoss: 0.352192\n",
      "Train Epoch: 7 [9600/50000 (19%)]\tLoss: 0.780844\n",
      "Train Epoch: 7 [12800/50000 (26%)]\tLoss: 0.829395\n",
      "Train Epoch: 7 [16000/50000 (32%)]\tLoss: 0.400271\n",
      "Train Epoch: 7 [19200/50000 (38%)]\tLoss: 0.577275\n",
      "Train Epoch: 7 [22400/50000 (45%)]\tLoss: 0.372421\n",
      "Train Epoch: 7 [25600/50000 (51%)]\tLoss: 0.479555\n",
      "Train Epoch: 7 [28800/50000 (58%)]\tLoss: 0.428619\n",
      "Train Epoch: 7 [32000/50000 (64%)]\tLoss: 0.580043\n",
      "Train Epoch: 7 [35200/50000 (70%)]\tLoss: 0.472804\n",
      "Train Epoch: 7 [38400/50000 (77%)]\tLoss: 0.588456\n",
      "Train Epoch: 7 [41600/50000 (83%)]\tLoss: 0.354327\n",
      "Train Epoch: 7 [44800/50000 (90%)]\tLoss: 0.241395\n",
      "Train Epoch: 7 [48000/50000 (96%)]\tLoss: 0.299824\n"
     ]
    },
    {
     "name": "stderr",
     "output_type": "stream",
     "text": [
      "\r",
      " 14%|█▍        | 7/50 [24:27<2:31:01, 210.74s/it]"
     ]
    },
    {
     "name": "stdout",
     "output_type": "stream",
     "text": [
      "\n",
      "Train loss: 0.45013891027101777\n",
      "Train Epoch: 8 [0/50000 (0%)]\tLoss: 0.484669\n",
      "Train Epoch: 8 [3200/50000 (6%)]\tLoss: 0.631038\n",
      "Train Epoch: 8 [6400/50000 (13%)]\tLoss: 0.674250\n",
      "Train Epoch: 8 [9600/50000 (19%)]\tLoss: 0.264931\n",
      "Train Epoch: 8 [12800/50000 (26%)]\tLoss: 0.305768\n",
      "Train Epoch: 8 [16000/50000 (32%)]\tLoss: 0.381703\n",
      "Train Epoch: 8 [19200/50000 (38%)]\tLoss: 0.476514\n",
      "Train Epoch: 8 [22400/50000 (45%)]\tLoss: 0.339170\n",
      "Train Epoch: 8 [25600/50000 (51%)]\tLoss: 0.481161\n",
      "Train Epoch: 8 [28800/50000 (58%)]\tLoss: 0.522317\n",
      "Train Epoch: 8 [32000/50000 (64%)]\tLoss: 0.375519\n",
      "Train Epoch: 8 [35200/50000 (70%)]\tLoss: 0.371077\n",
      "Train Epoch: 8 [38400/50000 (77%)]\tLoss: 0.343385\n",
      "Train Epoch: 8 [41600/50000 (83%)]\tLoss: 0.344818\n",
      "Train Epoch: 8 [44800/50000 (90%)]\tLoss: 0.431722\n",
      "Train Epoch: 8 [48000/50000 (96%)]\tLoss: 0.463922\n"
     ]
    },
    {
     "name": "stderr",
     "output_type": "stream",
     "text": [
      "\r",
      " 16%|█▌        | 8/50 [27:57<2:27:25, 210.61s/it]"
     ]
    },
    {
     "name": "stdout",
     "output_type": "stream",
     "text": [
      "\n",
      "Train loss: 0.4147174525100862\n",
      "Train Epoch: 9 [0/50000 (0%)]\tLoss: 0.248545\n",
      "Train Epoch: 9 [3200/50000 (6%)]\tLoss: 0.323374\n",
      "Train Epoch: 9 [6400/50000 (13%)]\tLoss: 0.501202\n",
      "Train Epoch: 9 [9600/50000 (19%)]\tLoss: 0.298425\n",
      "Train Epoch: 9 [12800/50000 (26%)]\tLoss: 0.378204\n",
      "Train Epoch: 9 [16000/50000 (32%)]\tLoss: 0.292629\n",
      "Train Epoch: 9 [19200/50000 (38%)]\tLoss: 0.254817\n",
      "Train Epoch: 9 [22400/50000 (45%)]\tLoss: 0.565935\n",
      "Train Epoch: 9 [25600/50000 (51%)]\tLoss: 0.370850\n",
      "Train Epoch: 9 [28800/50000 (58%)]\tLoss: 0.354025\n",
      "Train Epoch: 9 [32000/50000 (64%)]\tLoss: 0.254434\n",
      "Train Epoch: 9 [35200/50000 (70%)]\tLoss: 0.360495\n",
      "Train Epoch: 9 [38400/50000 (77%)]\tLoss: 0.292902\n",
      "Train Epoch: 9 [41600/50000 (83%)]\tLoss: 0.731211\n",
      "Train Epoch: 9 [44800/50000 (90%)]\tLoss: 0.307352\n",
      "Train Epoch: 9 [48000/50000 (96%)]\tLoss: 0.385704\n"
     ]
    },
    {
     "name": "stderr",
     "output_type": "stream",
     "text": [
      "\r",
      " 18%|█▊        | 9/50 [31:26<2:23:36, 210.17s/it]"
     ]
    },
    {
     "name": "stdout",
     "output_type": "stream",
     "text": [
      "\n",
      "Train loss: 0.37472218400834467\n",
      "Train Epoch: 10 [0/50000 (0%)]\tLoss: 0.383212\n",
      "Train Epoch: 10 [3200/50000 (6%)]\tLoss: 0.252109\n",
      "Train Epoch: 10 [6400/50000 (13%)]\tLoss: 0.535227\n",
      "Train Epoch: 10 [9600/50000 (19%)]\tLoss: 0.244643\n",
      "Train Epoch: 10 [12800/50000 (26%)]\tLoss: 0.479342\n",
      "Train Epoch: 10 [16000/50000 (32%)]\tLoss: 0.323423\n",
      "Train Epoch: 10 [19200/50000 (38%)]\tLoss: 0.283397\n",
      "Train Epoch: 10 [22400/50000 (45%)]\tLoss: 0.574435\n",
      "Train Epoch: 10 [25600/50000 (51%)]\tLoss: 0.286772\n",
      "Train Epoch: 10 [28800/50000 (58%)]\tLoss: 0.429649\n",
      "Train Epoch: 10 [32000/50000 (64%)]\tLoss: 0.419421\n",
      "Train Epoch: 10 [35200/50000 (70%)]\tLoss: 0.410283\n",
      "Train Epoch: 10 [38400/50000 (77%)]\tLoss: 0.316624\n",
      "Train Epoch: 10 [41600/50000 (83%)]\tLoss: 0.348404\n",
      "Train Epoch: 10 [44800/50000 (90%)]\tLoss: 0.443048\n",
      "Train Epoch: 10 [48000/50000 (96%)]\tLoss: 0.368424\n"
     ]
    },
    {
     "name": "stderr",
     "output_type": "stream",
     "text": [
      "\r",
      " 20%|██        | 10/50 [34:56<2:20:02, 210.06s/it]"
     ]
    },
    {
     "name": "stdout",
     "output_type": "stream",
     "text": [
      "\n",
      "Train loss: 0.34557604325739927\n",
      "Train Epoch: 11 [0/50000 (0%)]\tLoss: 0.251168\n",
      "Train Epoch: 11 [3200/50000 (6%)]\tLoss: 0.315869\n",
      "Train Epoch: 11 [6400/50000 (13%)]\tLoss: 0.361947\n",
      "Train Epoch: 11 [9600/50000 (19%)]\tLoss: 0.398184\n",
      "Train Epoch: 11 [12800/50000 (26%)]\tLoss: 0.586379\n",
      "Train Epoch: 11 [16000/50000 (32%)]\tLoss: 0.228453\n",
      "Train Epoch: 11 [19200/50000 (38%)]\tLoss: 0.369869\n",
      "Train Epoch: 11 [22400/50000 (45%)]\tLoss: 0.294260\n",
      "Train Epoch: 11 [25600/50000 (51%)]\tLoss: 0.475640\n",
      "Train Epoch: 11 [28800/50000 (58%)]\tLoss: 0.574731\n",
      "Train Epoch: 11 [32000/50000 (64%)]\tLoss: 0.487209\n",
      "Train Epoch: 11 [35200/50000 (70%)]\tLoss: 0.316417\n",
      "Train Epoch: 11 [38400/50000 (77%)]\tLoss: 0.216743\n",
      "Train Epoch: 11 [41600/50000 (83%)]\tLoss: 0.386934\n",
      "Train Epoch: 11 [44800/50000 (90%)]\tLoss: 0.341116\n",
      "Train Epoch: 11 [48000/50000 (96%)]\tLoss: 0.332919\n"
     ]
    },
    {
     "name": "stderr",
     "output_type": "stream",
     "text": [
      "\r",
      " 22%|██▏       | 11/50 [38:28<2:16:57, 210.71s/it]"
     ]
    },
    {
     "name": "stdout",
     "output_type": "stream",
     "text": [
      "\n",
      "Train loss: 0.3234824412371344\n",
      "Train Epoch: 12 [0/50000 (0%)]\tLoss: 0.430308\n",
      "Train Epoch: 12 [3200/50000 (6%)]\tLoss: 0.137622\n",
      "Train Epoch: 12 [6400/50000 (13%)]\tLoss: 0.411924\n",
      "Train Epoch: 12 [9600/50000 (19%)]\tLoss: 0.439849\n",
      "Train Epoch: 12 [12800/50000 (26%)]\tLoss: 0.295313\n",
      "Train Epoch: 12 [16000/50000 (32%)]\tLoss: 0.188738\n",
      "Train Epoch: 12 [19200/50000 (38%)]\tLoss: 0.407342\n",
      "Train Epoch: 12 [22400/50000 (45%)]\tLoss: 0.455063\n",
      "Train Epoch: 12 [25600/50000 (51%)]\tLoss: 0.270227\n",
      "Train Epoch: 12 [28800/50000 (58%)]\tLoss: 0.322389\n",
      "Train Epoch: 12 [32000/50000 (64%)]\tLoss: 0.270348\n",
      "Train Epoch: 12 [35200/50000 (70%)]\tLoss: 0.299554\n",
      "Train Epoch: 12 [38400/50000 (77%)]\tLoss: 0.322916\n",
      "Train Epoch: 12 [41600/50000 (83%)]\tLoss: 0.215743\n",
      "Train Epoch: 12 [44800/50000 (90%)]\tLoss: 0.399964\n",
      "Train Epoch: 12 [48000/50000 (96%)]\tLoss: 0.158712\n"
     ]
    },
    {
     "name": "stderr",
     "output_type": "stream",
     "text": [
      "\r",
      " 24%|██▍       | 12/50 [42:03<2:14:18, 212.08s/it]"
     ]
    },
    {
     "name": "stdout",
     "output_type": "stream",
     "text": [
      "\n",
      "Train loss: 0.29490886008381234\n",
      "Train Epoch: 13 [0/50000 (0%)]\tLoss: 0.307655\n",
      "Train Epoch: 13 [3200/50000 (6%)]\tLoss: 0.453727\n",
      "Train Epoch: 13 [6400/50000 (13%)]\tLoss: 0.104889\n",
      "Train Epoch: 13 [9600/50000 (19%)]\tLoss: 0.373710\n",
      "Train Epoch: 13 [12800/50000 (26%)]\tLoss: 0.222825\n",
      "Train Epoch: 13 [16000/50000 (32%)]\tLoss: 0.395858\n",
      "Train Epoch: 13 [19200/50000 (38%)]\tLoss: 0.266542\n",
      "Train Epoch: 13 [22400/50000 (45%)]\tLoss: 0.209578\n",
      "Train Epoch: 13 [25600/50000 (51%)]\tLoss: 0.201905\n",
      "Train Epoch: 13 [28800/50000 (58%)]\tLoss: 0.273283\n",
      "Train Epoch: 13 [32000/50000 (64%)]\tLoss: 0.409028\n",
      "Train Epoch: 13 [35200/50000 (70%)]\tLoss: 0.228411\n",
      "Train Epoch: 13 [38400/50000 (77%)]\tLoss: 0.289129\n",
      "Train Epoch: 13 [41600/50000 (83%)]\tLoss: 0.331721\n",
      "Train Epoch: 13 [44800/50000 (90%)]\tLoss: 0.252949\n",
      "Train Epoch: 13 [48000/50000 (96%)]\tLoss: 0.260232\n"
     ]
    },
    {
     "name": "stderr",
     "output_type": "stream",
     "text": [
      "\r",
      " 26%|██▌       | 13/50 [45:41<2:11:41, 213.57s/it]"
     ]
    },
    {
     "name": "stdout",
     "output_type": "stream",
     "text": [
      "\n",
      "Train loss: 0.2773081403787789\n",
      "Train Epoch: 14 [0/50000 (0%)]\tLoss: 0.257137\n",
      "Train Epoch: 14 [3200/50000 (6%)]\tLoss: 0.133363\n",
      "Train Epoch: 14 [6400/50000 (13%)]\tLoss: 0.191689\n",
      "Train Epoch: 14 [9600/50000 (19%)]\tLoss: 0.479784\n",
      "Train Epoch: 14 [12800/50000 (26%)]\tLoss: 0.285481\n",
      "Train Epoch: 14 [16000/50000 (32%)]\tLoss: 0.363527\n",
      "Train Epoch: 14 [19200/50000 (38%)]\tLoss: 0.229494\n",
      "Train Epoch: 14 [22400/50000 (45%)]\tLoss: 0.144769\n",
      "Train Epoch: 14 [25600/50000 (51%)]\tLoss: 0.185667\n",
      "Train Epoch: 14 [28800/50000 (58%)]\tLoss: 0.118141\n",
      "Train Epoch: 14 [32000/50000 (64%)]\tLoss: 0.178558\n",
      "Train Epoch: 14 [35200/50000 (70%)]\tLoss: 0.383488\n",
      "Train Epoch: 14 [38400/50000 (77%)]\tLoss: 0.254079\n",
      "Train Epoch: 14 [41600/50000 (83%)]\tLoss: 0.122891\n",
      "Train Epoch: 14 [44800/50000 (90%)]\tLoss: 0.474007\n",
      "Train Epoch: 14 [48000/50000 (96%)]\tLoss: 0.203423\n"
     ]
    },
    {
     "name": "stderr",
     "output_type": "stream",
     "text": [
      "\r",
      " 28%|██▊       | 14/50 [49:26<2:10:12, 217.02s/it]"
     ]
    },
    {
     "name": "stdout",
     "output_type": "stream",
     "text": [
      "\n",
      "Train loss: 0.2581281198040985\n",
      "Train Epoch: 15 [0/50000 (0%)]\tLoss: 0.153540\n",
      "Train Epoch: 15 [3200/50000 (6%)]\tLoss: 0.128613\n",
      "Train Epoch: 15 [6400/50000 (13%)]\tLoss: 0.280770\n",
      "Train Epoch: 15 [9600/50000 (19%)]\tLoss: 0.223292\n",
      "Train Epoch: 15 [12800/50000 (26%)]\tLoss: 0.161116\n",
      "Train Epoch: 15 [16000/50000 (32%)]\tLoss: 0.055449\n",
      "Train Epoch: 15 [19200/50000 (38%)]\tLoss: 0.245610\n",
      "Train Epoch: 15 [22400/50000 (45%)]\tLoss: 0.137979\n",
      "Train Epoch: 15 [25600/50000 (51%)]\tLoss: 0.234872\n",
      "Train Epoch: 15 [28800/50000 (58%)]\tLoss: 0.193481\n",
      "Train Epoch: 15 [32000/50000 (64%)]\tLoss: 0.285997\n",
      "Train Epoch: 15 [35200/50000 (70%)]\tLoss: 0.300741\n",
      "Train Epoch: 15 [38400/50000 (77%)]\tLoss: 0.168901\n",
      "Train Epoch: 15 [41600/50000 (83%)]\tLoss: 0.301152\n",
      "Train Epoch: 15 [44800/50000 (90%)]\tLoss: 0.326035\n",
      "Train Epoch: 15 [48000/50000 (96%)]\tLoss: 0.380707\n"
     ]
    },
    {
     "name": "stderr",
     "output_type": "stream",
     "text": [
      "\r",
      " 30%|███       | 15/50 [52:54<2:05:02, 214.36s/it]"
     ]
    },
    {
     "name": "stdout",
     "output_type": "stream",
     "text": [
      "\n",
      "Train loss: 0.24084410352913468\n",
      "Train Epoch: 16 [0/50000 (0%)]\tLoss: 0.110070\n",
      "Train Epoch: 16 [3200/50000 (6%)]\tLoss: 0.336243\n",
      "Train Epoch: 16 [6400/50000 (13%)]\tLoss: 0.061340\n",
      "Train Epoch: 16 [9600/50000 (19%)]\tLoss: 0.141709\n",
      "Train Epoch: 16 [12800/50000 (26%)]\tLoss: 0.316940\n",
      "Train Epoch: 16 [16000/50000 (32%)]\tLoss: 0.300198\n",
      "Train Epoch: 16 [19200/50000 (38%)]\tLoss: 0.082782\n",
      "Train Epoch: 16 [22400/50000 (45%)]\tLoss: 0.215460\n",
      "Train Epoch: 16 [25600/50000 (51%)]\tLoss: 0.177218\n",
      "Train Epoch: 16 [28800/50000 (58%)]\tLoss: 0.219161\n",
      "Train Epoch: 16 [32000/50000 (64%)]\tLoss: 0.126953\n",
      "Train Epoch: 16 [35200/50000 (70%)]\tLoss: 0.184852\n",
      "Train Epoch: 16 [38400/50000 (77%)]\tLoss: 0.212395\n",
      "Train Epoch: 16 [41600/50000 (83%)]\tLoss: 0.351615\n",
      "Train Epoch: 16 [44800/50000 (90%)]\tLoss: 0.260168\n",
      "Train Epoch: 16 [48000/50000 (96%)]\tLoss: 0.303619\n"
     ]
    },
    {
     "name": "stderr",
     "output_type": "stream",
     "text": [
      "\r",
      " 32%|███▏      | 16/50 [56:26<2:01:10, 213.83s/it]"
     ]
    },
    {
     "name": "stdout",
     "output_type": "stream",
     "text": [
      "\n",
      "Train loss: 0.22006532172088886\n",
      "Train Epoch: 17 [0/50000 (0%)]\tLoss: 0.210120\n",
      "Train Epoch: 17 [3200/50000 (6%)]\tLoss: 0.271528\n",
      "Train Epoch: 17 [6400/50000 (13%)]\tLoss: 0.191977\n",
      "Train Epoch: 17 [9600/50000 (19%)]\tLoss: 0.217508\n",
      "Train Epoch: 17 [12800/50000 (26%)]\tLoss: 0.132800\n",
      "Train Epoch: 17 [16000/50000 (32%)]\tLoss: 0.299075\n",
      "Train Epoch: 17 [19200/50000 (38%)]\tLoss: 0.317011\n",
      "Train Epoch: 17 [22400/50000 (45%)]\tLoss: 0.155169\n",
      "Train Epoch: 17 [25600/50000 (51%)]\tLoss: 0.174755\n",
      "Train Epoch: 17 [28800/50000 (58%)]\tLoss: 0.275997\n",
      "Train Epoch: 17 [32000/50000 (64%)]\tLoss: 0.193612\n",
      "Train Epoch: 17 [35200/50000 (70%)]\tLoss: 0.108819\n",
      "Train Epoch: 17 [38400/50000 (77%)]\tLoss: 0.410280\n",
      "Train Epoch: 17 [41600/50000 (83%)]\tLoss: 0.236202\n",
      "Train Epoch: 17 [44800/50000 (90%)]\tLoss: 0.459007\n",
      "Train Epoch: 17 [48000/50000 (96%)]\tLoss: 0.086300\n"
     ]
    },
    {
     "name": "stderr",
     "output_type": "stream",
     "text": [
      "\r",
      " 34%|███▍      | 17/50 [1:00:11<1:59:24, 217.10s/it]"
     ]
    },
    {
     "name": "stdout",
     "output_type": "stream",
     "text": [
      "\n",
      "Train loss: 0.21403307486277864\n",
      "Train Epoch: 18 [0/50000 (0%)]\tLoss: 0.250265\n",
      "Train Epoch: 18 [3200/50000 (6%)]\tLoss: 0.117934\n",
      "Train Epoch: 18 [6400/50000 (13%)]\tLoss: 0.234779\n",
      "Train Epoch: 18 [9600/50000 (19%)]\tLoss: 0.183623\n",
      "Train Epoch: 18 [12800/50000 (26%)]\tLoss: 0.257618\n",
      "Train Epoch: 18 [16000/50000 (32%)]\tLoss: 0.263933\n",
      "Train Epoch: 18 [19200/50000 (38%)]\tLoss: 0.166102\n",
      "Train Epoch: 18 [22400/50000 (45%)]\tLoss: 0.219358\n",
      "Train Epoch: 18 [25600/50000 (51%)]\tLoss: 0.276891\n",
      "Train Epoch: 18 [28800/50000 (58%)]\tLoss: 0.396403\n",
      "Train Epoch: 18 [32000/50000 (64%)]\tLoss: 0.191125\n",
      "Train Epoch: 18 [35200/50000 (70%)]\tLoss: 0.127553\n",
      "Train Epoch: 18 [38400/50000 (77%)]\tLoss: 0.164008\n",
      "Train Epoch: 18 [41600/50000 (83%)]\tLoss: 0.083845\n",
      "Train Epoch: 18 [44800/50000 (90%)]\tLoss: 0.157570\n",
      "Train Epoch: 18 [48000/50000 (96%)]\tLoss: 0.209302\n"
     ]
    },
    {
     "name": "stderr",
     "output_type": "stream",
     "text": [
      "\r",
      " 36%|███▌      | 18/50 [1:03:48<1:55:41, 216.92s/it]"
     ]
    },
    {
     "name": "stdout",
     "output_type": "stream",
     "text": [
      "\n",
      "Train loss: 0.19580221614893287\n",
      "Train Epoch: 19 [0/50000 (0%)]\tLoss: 0.369870\n",
      "Train Epoch: 19 [3200/50000 (6%)]\tLoss: 0.085328\n",
      "Train Epoch: 19 [6400/50000 (13%)]\tLoss: 0.107079\n",
      "Train Epoch: 19 [9600/50000 (19%)]\tLoss: 0.189290\n",
      "Train Epoch: 19 [12800/50000 (26%)]\tLoss: 0.074760\n",
      "Train Epoch: 19 [16000/50000 (32%)]\tLoss: 0.491856\n",
      "Train Epoch: 19 [19200/50000 (38%)]\tLoss: 0.217305\n",
      "Train Epoch: 19 [22400/50000 (45%)]\tLoss: 0.118967\n",
      "Train Epoch: 19 [25600/50000 (51%)]\tLoss: 0.233708\n",
      "Train Epoch: 19 [28800/50000 (58%)]\tLoss: 0.167834\n",
      "Train Epoch: 19 [32000/50000 (64%)]\tLoss: 0.078092\n",
      "Train Epoch: 19 [35200/50000 (70%)]\tLoss: 0.212471\n",
      "Train Epoch: 19 [38400/50000 (77%)]\tLoss: 0.228601\n",
      "Train Epoch: 19 [41600/50000 (83%)]\tLoss: 0.201388\n",
      "Train Epoch: 19 [44800/50000 (90%)]\tLoss: 0.206637\n",
      "Train Epoch: 19 [48000/50000 (96%)]\tLoss: 0.157892\n"
     ]
    },
    {
     "name": "stderr",
     "output_type": "stream",
     "text": [
      "\r",
      " 38%|███▊      | 19/50 [1:07:25<1:52:09, 217.09s/it]"
     ]
    },
    {
     "name": "stdout",
     "output_type": "stream",
     "text": [
      "\n",
      "Train loss: 0.1873229822320173\n",
      "Train Epoch: 20 [0/50000 (0%)]\tLoss: 0.174212\n",
      "Train Epoch: 20 [3200/50000 (6%)]\tLoss: 0.046327\n",
      "Train Epoch: 20 [6400/50000 (13%)]\tLoss: 0.086465\n",
      "Train Epoch: 20 [9600/50000 (19%)]\tLoss: 0.218790\n",
      "Train Epoch: 20 [12800/50000 (26%)]\tLoss: 0.136047\n",
      "Train Epoch: 20 [16000/50000 (32%)]\tLoss: 0.460899\n",
      "Train Epoch: 20 [19200/50000 (38%)]\tLoss: 0.185148\n",
      "Train Epoch: 20 [22400/50000 (45%)]\tLoss: 0.145711\n",
      "Train Epoch: 20 [25600/50000 (51%)]\tLoss: 0.072602\n",
      "Train Epoch: 20 [28800/50000 (58%)]\tLoss: 0.080822\n",
      "Train Epoch: 20 [32000/50000 (64%)]\tLoss: 0.073615\n",
      "Train Epoch: 20 [35200/50000 (70%)]\tLoss: 0.125018\n",
      "Train Epoch: 20 [38400/50000 (77%)]\tLoss: 0.094115\n",
      "Train Epoch: 20 [41600/50000 (83%)]\tLoss: 0.174170\n",
      "Train Epoch: 20 [44800/50000 (90%)]\tLoss: 0.352228\n",
      "Train Epoch: 20 [48000/50000 (96%)]\tLoss: 0.114349\n"
     ]
    },
    {
     "name": "stderr",
     "output_type": "stream",
     "text": [
      "\r",
      " 40%|████      | 20/50 [1:11:08<1:49:23, 218.78s/it]"
     ]
    },
    {
     "name": "stdout",
     "output_type": "stream",
     "text": [
      "\n",
      "Train loss: 0.17588465451203344\n",
      "Train Epoch: 21 [0/50000 (0%)]\tLoss: 0.208664\n",
      "Train Epoch: 21 [3200/50000 (6%)]\tLoss: 0.144879\n",
      "Train Epoch: 21 [6400/50000 (13%)]\tLoss: 0.154899\n",
      "Train Epoch: 21 [9600/50000 (19%)]\tLoss: 0.210402\n",
      "Train Epoch: 21 [12800/50000 (26%)]\tLoss: 0.175938\n",
      "Train Epoch: 21 [16000/50000 (32%)]\tLoss: 0.130683\n",
      "Train Epoch: 21 [19200/50000 (38%)]\tLoss: 0.077825\n",
      "Train Epoch: 21 [22400/50000 (45%)]\tLoss: 0.241419\n",
      "Train Epoch: 21 [25600/50000 (51%)]\tLoss: 0.138125\n",
      "Train Epoch: 21 [28800/50000 (58%)]\tLoss: 0.061077\n",
      "Train Epoch: 21 [32000/50000 (64%)]\tLoss: 0.170370\n",
      "Train Epoch: 21 [35200/50000 (70%)]\tLoss: 0.043100\n",
      "Train Epoch: 21 [38400/50000 (77%)]\tLoss: 0.128790\n",
      "Train Epoch: 21 [41600/50000 (83%)]\tLoss: 0.101043\n",
      "Train Epoch: 21 [44800/50000 (90%)]\tLoss: 0.101054\n",
      "Train Epoch: 21 [48000/50000 (96%)]\tLoss: 0.141161\n"
     ]
    },
    {
     "name": "stderr",
     "output_type": "stream",
     "text": [
      "\r",
      " 42%|████▏     | 21/50 [1:15:01<1:47:47, 223.03s/it]"
     ]
    },
    {
     "name": "stdout",
     "output_type": "stream",
     "text": [
      "\n",
      "Train loss: 0.15959042066570056\n",
      "Train Epoch: 22 [0/50000 (0%)]\tLoss: 0.184839\n",
      "Train Epoch: 22 [3200/50000 (6%)]\tLoss: 0.247188\n",
      "Train Epoch: 22 [6400/50000 (13%)]\tLoss: 0.131664\n",
      "Train Epoch: 22 [9600/50000 (19%)]\tLoss: 0.120225\n",
      "Train Epoch: 22 [12800/50000 (26%)]\tLoss: 0.157556\n",
      "Train Epoch: 22 [16000/50000 (32%)]\tLoss: 0.207027\n",
      "Train Epoch: 22 [19200/50000 (38%)]\tLoss: 0.166208\n",
      "Train Epoch: 22 [22400/50000 (45%)]\tLoss: 0.126330\n",
      "Train Epoch: 22 [25600/50000 (51%)]\tLoss: 0.077906\n",
      "Train Epoch: 22 [28800/50000 (58%)]\tLoss: 0.145256\n",
      "Train Epoch: 22 [32000/50000 (64%)]\tLoss: 0.175195\n",
      "Train Epoch: 22 [35200/50000 (70%)]\tLoss: 0.199464\n",
      "Train Epoch: 22 [38400/50000 (77%)]\tLoss: 0.187786\n",
      "Train Epoch: 22 [41600/50000 (83%)]\tLoss: 0.081296\n",
      "Train Epoch: 22 [44800/50000 (90%)]\tLoss: 0.233014\n",
      "Train Epoch: 22 [48000/50000 (96%)]\tLoss: 0.145841\n"
     ]
    },
    {
     "name": "stderr",
     "output_type": "stream",
     "text": [
      "\r",
      " 44%|████▍     | 22/50 [1:19:03<1:46:47, 228.86s/it]"
     ]
    },
    {
     "name": "stdout",
     "output_type": "stream",
     "text": [
      "\n",
      "Train loss: 0.15779661230237968\n",
      "Train Epoch: 23 [0/50000 (0%)]\tLoss: 0.115900\n",
      "Train Epoch: 23 [3200/50000 (6%)]\tLoss: 0.176295\n",
      "Train Epoch: 23 [6400/50000 (13%)]\tLoss: 0.085844\n",
      "Train Epoch: 23 [9600/50000 (19%)]\tLoss: 0.088940\n",
      "Train Epoch: 23 [12800/50000 (26%)]\tLoss: 0.043180\n",
      "Train Epoch: 23 [16000/50000 (32%)]\tLoss: 0.180105\n",
      "Train Epoch: 23 [19200/50000 (38%)]\tLoss: 0.080253\n",
      "Train Epoch: 23 [22400/50000 (45%)]\tLoss: 0.154745\n",
      "Train Epoch: 23 [25600/50000 (51%)]\tLoss: 0.066040\n",
      "Train Epoch: 23 [28800/50000 (58%)]\tLoss: 0.180429\n",
      "Train Epoch: 23 [32000/50000 (64%)]\tLoss: 0.118780\n",
      "Train Epoch: 23 [35200/50000 (70%)]\tLoss: 0.115781\n",
      "Train Epoch: 23 [38400/50000 (77%)]\tLoss: 0.361203\n",
      "Train Epoch: 23 [41600/50000 (83%)]\tLoss: 0.204327\n",
      "Train Epoch: 23 [44800/50000 (90%)]\tLoss: 0.223504\n",
      "Train Epoch: 23 [48000/50000 (96%)]\tLoss: 0.124004\n"
     ]
    },
    {
     "name": "stderr",
     "output_type": "stream",
     "text": [
      "\r",
      " 46%|████▌     | 23/50 [1:23:01<1:44:14, 231.66s/it]"
     ]
    },
    {
     "name": "stdout",
     "output_type": "stream",
     "text": [
      "\n",
      "Train loss: 0.14643816171985718\n",
      "Train Epoch: 24 [0/50000 (0%)]\tLoss: 0.149980\n",
      "Train Epoch: 24 [3200/50000 (6%)]\tLoss: 0.229136\n",
      "Train Epoch: 24 [6400/50000 (13%)]\tLoss: 0.195839\n",
      "Train Epoch: 24 [9600/50000 (19%)]\tLoss: 0.056584\n",
      "Train Epoch: 24 [12800/50000 (26%)]\tLoss: 0.115822\n",
      "Train Epoch: 24 [16000/50000 (32%)]\tLoss: 0.167353\n",
      "Train Epoch: 24 [19200/50000 (38%)]\tLoss: 0.087808\n",
      "Train Epoch: 24 [22400/50000 (45%)]\tLoss: 0.037957\n",
      "Train Epoch: 24 [25600/50000 (51%)]\tLoss: 0.276451\n",
      "Train Epoch: 24 [28800/50000 (58%)]\tLoss: 0.129415\n",
      "Train Epoch: 24 [32000/50000 (64%)]\tLoss: 0.175171\n",
      "Train Epoch: 24 [35200/50000 (70%)]\tLoss: 0.162294\n",
      "Train Epoch: 24 [38400/50000 (77%)]\tLoss: 0.167762\n",
      "Train Epoch: 24 [41600/50000 (83%)]\tLoss: 0.109337\n",
      "Train Epoch: 24 [44800/50000 (90%)]\tLoss: 0.086692\n",
      "Train Epoch: 24 [48000/50000 (96%)]\tLoss: 0.235269\n"
     ]
    },
    {
     "name": "stderr",
     "output_type": "stream",
     "text": [
      "\r",
      " 48%|████▊     | 24/50 [1:27:06<1:42:01, 235.44s/it]"
     ]
    },
    {
     "name": "stdout",
     "output_type": "stream",
     "text": [
      "\n",
      "Train loss: 0.1378141331815106\n",
      "Train Epoch: 25 [0/50000 (0%)]\tLoss: 0.095887\n",
      "Train Epoch: 25 [3200/50000 (6%)]\tLoss: 0.154268\n",
      "Train Epoch: 25 [6400/50000 (13%)]\tLoss: 0.038806\n",
      "Train Epoch: 25 [9600/50000 (19%)]\tLoss: 0.252145\n",
      "Train Epoch: 25 [12800/50000 (26%)]\tLoss: 0.075782\n",
      "Train Epoch: 25 [16000/50000 (32%)]\tLoss: 0.048177\n",
      "Train Epoch: 25 [19200/50000 (38%)]\tLoss: 0.050376\n",
      "Train Epoch: 25 [22400/50000 (45%)]\tLoss: 0.079883\n",
      "Train Epoch: 25 [25600/50000 (51%)]\tLoss: 0.105467\n",
      "Train Epoch: 25 [28800/50000 (58%)]\tLoss: 0.125238\n",
      "Train Epoch: 25 [32000/50000 (64%)]\tLoss: 0.107582\n",
      "Train Epoch: 25 [35200/50000 (70%)]\tLoss: 0.170762\n",
      "Train Epoch: 25 [38400/50000 (77%)]\tLoss: 0.201679\n",
      "Train Epoch: 25 [41600/50000 (83%)]\tLoss: 0.247635\n",
      "Train Epoch: 25 [44800/50000 (90%)]\tLoss: 0.120318\n",
      "Train Epoch: 25 [48000/50000 (96%)]\tLoss: 0.214518\n"
     ]
    },
    {
     "name": "stderr",
     "output_type": "stream",
     "text": [
      "\r",
      " 50%|█████     | 25/50 [1:31:01<1:38:04, 235.37s/it]"
     ]
    },
    {
     "name": "stdout",
     "output_type": "stream",
     "text": [
      "\n",
      "Train loss: 0.12773574055160594\n",
      "Train Epoch: 26 [0/50000 (0%)]\tLoss: 0.115838\n",
      "Train Epoch: 26 [3200/50000 (6%)]\tLoss: 0.048105\n",
      "Train Epoch: 26 [6400/50000 (13%)]\tLoss: 0.134894\n",
      "Train Epoch: 26 [9600/50000 (19%)]\tLoss: 0.062399\n",
      "Train Epoch: 26 [12800/50000 (26%)]\tLoss: 0.040004\n",
      "Train Epoch: 26 [16000/50000 (32%)]\tLoss: 0.105386\n",
      "Train Epoch: 26 [19200/50000 (38%)]\tLoss: 0.300489\n",
      "Train Epoch: 26 [22400/50000 (45%)]\tLoss: 0.062272\n",
      "Train Epoch: 26 [25600/50000 (51%)]\tLoss: 0.101905\n",
      "Train Epoch: 26 [28800/50000 (58%)]\tLoss: 0.143952\n",
      "Train Epoch: 26 [32000/50000 (64%)]\tLoss: 0.109851\n",
      "Train Epoch: 26 [35200/50000 (70%)]\tLoss: 0.295487\n",
      "Train Epoch: 26 [38400/50000 (77%)]\tLoss: 0.131218\n",
      "Train Epoch: 26 [41600/50000 (83%)]\tLoss: 0.060578\n",
      "Train Epoch: 26 [44800/50000 (90%)]\tLoss: 0.196625\n",
      "Train Epoch: 26 [48000/50000 (96%)]\tLoss: 0.053546\n"
     ]
    },
    {
     "name": "stderr",
     "output_type": "stream",
     "text": [
      "\r",
      " 52%|█████▏    | 26/50 [1:34:32<1:31:14, 228.10s/it]"
     ]
    },
    {
     "name": "stdout",
     "output_type": "stream",
     "text": [
      "\n",
      "Train loss: 0.12018739597459831\n",
      "Train Epoch: 27 [0/50000 (0%)]\tLoss: 0.103197\n",
      "Train Epoch: 27 [3200/50000 (6%)]\tLoss: 0.065182\n",
      "Train Epoch: 27 [6400/50000 (13%)]\tLoss: 0.075842\n",
      "Train Epoch: 27 [9600/50000 (19%)]\tLoss: 0.109480\n",
      "Train Epoch: 27 [12800/50000 (26%)]\tLoss: 0.141602\n",
      "Train Epoch: 27 [16000/50000 (32%)]\tLoss: 0.062571\n",
      "Train Epoch: 27 [19200/50000 (38%)]\tLoss: 0.166829\n",
      "Train Epoch: 27 [22400/50000 (45%)]\tLoss: 0.164390\n",
      "Train Epoch: 27 [25600/50000 (51%)]\tLoss: 0.179725\n",
      "Train Epoch: 27 [28800/50000 (58%)]\tLoss: 0.084576\n",
      "Train Epoch: 27 [32000/50000 (64%)]\tLoss: 0.151572\n",
      "Train Epoch: 27 [35200/50000 (70%)]\tLoss: 0.090875\n",
      "Train Epoch: 27 [38400/50000 (77%)]\tLoss: 0.071746\n",
      "Train Epoch: 27 [41600/50000 (83%)]\tLoss: 0.207521\n",
      "Train Epoch: 27 [44800/50000 (90%)]\tLoss: 0.189683\n",
      "Train Epoch: 27 [48000/50000 (96%)]\tLoss: 0.058790\n"
     ]
    },
    {
     "name": "stderr",
     "output_type": "stream",
     "text": [
      "\r",
      " 54%|█████▍    | 27/50 [1:38:02<1:25:22, 222.72s/it]"
     ]
    },
    {
     "name": "stdout",
     "output_type": "stream",
     "text": [
      "\n",
      "Train loss: 0.11835989000661598\n",
      "Train Epoch: 28 [0/50000 (0%)]\tLoss: 0.091145\n",
      "Train Epoch: 28 [3200/50000 (6%)]\tLoss: 0.042174\n",
      "Train Epoch: 28 [6400/50000 (13%)]\tLoss: 0.122224\n",
      "Train Epoch: 28 [9600/50000 (19%)]\tLoss: 0.065006\n",
      "Train Epoch: 28 [12800/50000 (26%)]\tLoss: 0.069834\n",
      "Train Epoch: 28 [16000/50000 (32%)]\tLoss: 0.134167\n",
      "Train Epoch: 28 [19200/50000 (38%)]\tLoss: 0.136815\n",
      "Train Epoch: 28 [22400/50000 (45%)]\tLoss: 0.073072\n",
      "Train Epoch: 28 [25600/50000 (51%)]\tLoss: 0.191343\n",
      "Train Epoch: 28 [28800/50000 (58%)]\tLoss: 0.191193\n",
      "Train Epoch: 28 [32000/50000 (64%)]\tLoss: 0.148428\n",
      "Train Epoch: 28 [35200/50000 (70%)]\tLoss: 0.017465\n",
      "Train Epoch: 28 [38400/50000 (77%)]\tLoss: 0.181521\n",
      "Train Epoch: 28 [41600/50000 (83%)]\tLoss: 0.138217\n",
      "Train Epoch: 28 [44800/50000 (90%)]\tLoss: 0.070357\n",
      "Train Epoch: 28 [48000/50000 (96%)]\tLoss: 0.062331\n"
     ]
    },
    {
     "name": "stderr",
     "output_type": "stream",
     "text": [
      "\r",
      " 56%|█████▌    | 28/50 [1:41:34<1:20:28, 219.46s/it]"
     ]
    },
    {
     "name": "stdout",
     "output_type": "stream",
     "text": [
      "\n",
      "Train loss: 0.10945904387585113\n",
      "Train Epoch: 29 [0/50000 (0%)]\tLoss: 0.133635\n",
      "Train Epoch: 29 [3200/50000 (6%)]\tLoss: 0.051784\n",
      "Train Epoch: 29 [6400/50000 (13%)]\tLoss: 0.121572\n",
      "Train Epoch: 29 [9600/50000 (19%)]\tLoss: 0.174306\n",
      "Train Epoch: 29 [12800/50000 (26%)]\tLoss: 0.058548\n",
      "Train Epoch: 29 [16000/50000 (32%)]\tLoss: 0.039953\n",
      "Train Epoch: 29 [19200/50000 (38%)]\tLoss: 0.024306\n",
      "Train Epoch: 29 [22400/50000 (45%)]\tLoss: 0.035347\n",
      "Train Epoch: 29 [25600/50000 (51%)]\tLoss: 0.066927\n",
      "Train Epoch: 29 [28800/50000 (58%)]\tLoss: 0.065945\n",
      "Train Epoch: 29 [32000/50000 (64%)]\tLoss: 0.117988\n",
      "Train Epoch: 29 [35200/50000 (70%)]\tLoss: 0.095610\n",
      "Train Epoch: 29 [38400/50000 (77%)]\tLoss: 0.121859\n",
      "Train Epoch: 29 [41600/50000 (83%)]\tLoss: 0.093728\n",
      "Train Epoch: 29 [44800/50000 (90%)]\tLoss: 0.115185\n",
      "Train Epoch: 29 [48000/50000 (96%)]\tLoss: 0.038974\n"
     ]
    },
    {
     "name": "stderr",
     "output_type": "stream",
     "text": [
      "\r",
      " 58%|█████▊    | 29/50 [1:45:02<1:15:39, 216.16s/it]"
     ]
    },
    {
     "name": "stdout",
     "output_type": "stream",
     "text": [
      "\n",
      "Train loss: 0.10273883963489662\n",
      "Train Epoch: 30 [0/50000 (0%)]\tLoss: 0.051018\n",
      "Train Epoch: 30 [3200/50000 (6%)]\tLoss: 0.101204\n",
      "Train Epoch: 30 [6400/50000 (13%)]\tLoss: 0.207358\n",
      "Train Epoch: 30 [9600/50000 (19%)]\tLoss: 0.047700\n",
      "Train Epoch: 30 [12800/50000 (26%)]\tLoss: 0.096849\n",
      "Train Epoch: 30 [16000/50000 (32%)]\tLoss: 0.116115\n",
      "Train Epoch: 30 [19200/50000 (38%)]\tLoss: 0.032133\n",
      "Train Epoch: 30 [22400/50000 (45%)]\tLoss: 0.033951\n",
      "Train Epoch: 30 [25600/50000 (51%)]\tLoss: 0.106214\n",
      "Train Epoch: 30 [28800/50000 (58%)]\tLoss: 0.085904\n",
      "Train Epoch: 30 [32000/50000 (64%)]\tLoss: 0.035294\n",
      "Train Epoch: 30 [35200/50000 (70%)]\tLoss: 0.043509\n",
      "Train Epoch: 30 [38400/50000 (77%)]\tLoss: 0.075653\n",
      "Train Epoch: 30 [41600/50000 (83%)]\tLoss: 0.023601\n",
      "Train Epoch: 30 [44800/50000 (90%)]\tLoss: 0.173579\n",
      "Train Epoch: 30 [48000/50000 (96%)]\tLoss: 0.022289\n"
     ]
    },
    {
     "name": "stderr",
     "output_type": "stream",
     "text": [
      "\r",
      " 60%|██████    | 30/50 [1:48:32<1:11:21, 214.06s/it]"
     ]
    },
    {
     "name": "stdout",
     "output_type": "stream",
     "text": [
      "\n",
      "Train loss: 0.098403355009649\n",
      "Train Epoch: 31 [0/50000 (0%)]\tLoss: 0.154348\n",
      "Train Epoch: 31 [3200/50000 (6%)]\tLoss: 0.024903\n",
      "Train Epoch: 31 [6400/50000 (13%)]\tLoss: 0.147408\n",
      "Train Epoch: 31 [9600/50000 (19%)]\tLoss: 0.078016\n",
      "Train Epoch: 31 [12800/50000 (26%)]\tLoss: 0.124923\n",
      "Train Epoch: 31 [16000/50000 (32%)]\tLoss: 0.176823\n",
      "Train Epoch: 31 [19200/50000 (38%)]\tLoss: 0.105301\n",
      "Train Epoch: 31 [22400/50000 (45%)]\tLoss: 0.066073\n",
      "Train Epoch: 31 [25600/50000 (51%)]\tLoss: 0.055638\n",
      "Train Epoch: 31 [28800/50000 (58%)]\tLoss: 0.076352\n",
      "Train Epoch: 31 [32000/50000 (64%)]\tLoss: 0.119614\n",
      "Train Epoch: 31 [35200/50000 (70%)]\tLoss: 0.123427\n",
      "Train Epoch: 31 [38400/50000 (77%)]\tLoss: 0.113833\n",
      "Train Epoch: 31 [41600/50000 (83%)]\tLoss: 0.043340\n",
      "Train Epoch: 31 [44800/50000 (90%)]\tLoss: 0.022100\n",
      "Train Epoch: 31 [48000/50000 (96%)]\tLoss: 0.098705\n"
     ]
    },
    {
     "name": "stderr",
     "output_type": "stream",
     "text": [
      "\r",
      " 62%|██████▏   | 31/50 [1:52:03<1:07:29, 213.14s/it]"
     ]
    },
    {
     "name": "stdout",
     "output_type": "stream",
     "text": [
      "\n",
      "Train loss: 0.09848055267995914\n",
      "Train Epoch: 32 [0/50000 (0%)]\tLoss: 0.089083\n",
      "Train Epoch: 32 [3200/50000 (6%)]\tLoss: 0.150670\n",
      "Train Epoch: 32 [6400/50000 (13%)]\tLoss: 0.036979\n",
      "Train Epoch: 32 [9600/50000 (19%)]\tLoss: 0.104188\n",
      "Train Epoch: 32 [12800/50000 (26%)]\tLoss: 0.108052\n",
      "Train Epoch: 32 [16000/50000 (32%)]\tLoss: 0.018531\n",
      "Train Epoch: 32 [19200/50000 (38%)]\tLoss: 0.081274\n",
      "Train Epoch: 32 [22400/50000 (45%)]\tLoss: 0.134667\n",
      "Train Epoch: 32 [25600/50000 (51%)]\tLoss: 0.105092\n",
      "Train Epoch: 32 [28800/50000 (58%)]\tLoss: 0.025347\n",
      "Train Epoch: 32 [32000/50000 (64%)]\tLoss: 0.094064\n",
      "Train Epoch: 32 [35200/50000 (70%)]\tLoss: 0.137678\n",
      "Train Epoch: 32 [38400/50000 (77%)]\tLoss: 0.084639\n",
      "Train Epoch: 32 [41600/50000 (83%)]\tLoss: 0.006518\n",
      "Train Epoch: 32 [44800/50000 (90%)]\tLoss: 0.007415\n",
      "Train Epoch: 32 [48000/50000 (96%)]\tLoss: 0.093830\n"
     ]
    },
    {
     "name": "stderr",
     "output_type": "stream",
     "text": [
      "\r",
      " 64%|██████▍   | 32/50 [1:55:36<1:03:58, 213.23s/it]"
     ]
    },
    {
     "name": "stdout",
     "output_type": "stream",
     "text": [
      "\n",
      "Train loss: 0.08768255324930647\n",
      "Train Epoch: 33 [0/50000 (0%)]\tLoss: 0.042841\n",
      "Train Epoch: 33 [3200/50000 (6%)]\tLoss: 0.012625\n",
      "Train Epoch: 33 [6400/50000 (13%)]\tLoss: 0.101721\n",
      "Train Epoch: 33 [9600/50000 (19%)]\tLoss: 0.083308\n",
      "Train Epoch: 33 [12800/50000 (26%)]\tLoss: 0.076721\n",
      "Train Epoch: 33 [16000/50000 (32%)]\tLoss: 0.008397\n",
      "Train Epoch: 33 [19200/50000 (38%)]\tLoss: 0.099357\n",
      "Train Epoch: 33 [22400/50000 (45%)]\tLoss: 0.159829\n",
      "Train Epoch: 33 [25600/50000 (51%)]\tLoss: 0.033832\n",
      "Train Epoch: 33 [28800/50000 (58%)]\tLoss: 0.123361\n",
      "Train Epoch: 33 [32000/50000 (64%)]\tLoss: 0.046742\n",
      "Train Epoch: 33 [35200/50000 (70%)]\tLoss: 0.020094\n",
      "Train Epoch: 33 [38400/50000 (77%)]\tLoss: 0.162753\n",
      "Train Epoch: 33 [41600/50000 (83%)]\tLoss: 0.104275\n",
      "Train Epoch: 33 [44800/50000 (90%)]\tLoss: 0.028128\n",
      "Train Epoch: 33 [48000/50000 (96%)]\tLoss: 0.024387\n"
     ]
    },
    {
     "name": "stderr",
     "output_type": "stream",
     "text": [
      "\r",
      " 66%|██████▌   | 33/50 [1:59:06<1:00:06, 212.15s/it]"
     ]
    },
    {
     "name": "stdout",
     "output_type": "stream",
     "text": [
      "\n",
      "Train loss: 0.09006308991065406\n",
      "Train Epoch: 34 [0/50000 (0%)]\tLoss: 0.238948\n",
      "Train Epoch: 34 [3200/50000 (6%)]\tLoss: 0.062708\n",
      "Train Epoch: 34 [6400/50000 (13%)]\tLoss: 0.084805\n",
      "Train Epoch: 34 [9600/50000 (19%)]\tLoss: 0.120065\n",
      "Train Epoch: 34 [12800/50000 (26%)]\tLoss: 0.101806\n",
      "Train Epoch: 34 [16000/50000 (32%)]\tLoss: 0.009249\n",
      "Train Epoch: 34 [19200/50000 (38%)]\tLoss: 0.105830\n",
      "Train Epoch: 34 [22400/50000 (45%)]\tLoss: 0.103403\n",
      "Train Epoch: 34 [25600/50000 (51%)]\tLoss: 0.031677\n",
      "Train Epoch: 34 [28800/50000 (58%)]\tLoss: 0.079559\n",
      "Train Epoch: 34 [32000/50000 (64%)]\tLoss: 0.296121\n",
      "Train Epoch: 34 [35200/50000 (70%)]\tLoss: 0.097584\n",
      "Train Epoch: 34 [38400/50000 (77%)]\tLoss: 0.061682\n",
      "Train Epoch: 34 [41600/50000 (83%)]\tLoss: 0.007904\n",
      "Train Epoch: 34 [44800/50000 (90%)]\tLoss: 0.132056\n",
      "Train Epoch: 34 [48000/50000 (96%)]\tLoss: 0.141073\n"
     ]
    },
    {
     "name": "stderr",
     "output_type": "stream",
     "text": [
      "\r",
      " 68%|██████▊   | 34/50 [2:02:35<56:18, 211.17s/it]  "
     ]
    },
    {
     "name": "stdout",
     "output_type": "stream",
     "text": [
      "\n",
      "Train loss: 0.08426177857683072\n",
      "Train Epoch: 35 [0/50000 (0%)]\tLoss: 0.062461\n",
      "Train Epoch: 35 [3200/50000 (6%)]\tLoss: 0.127318\n",
      "Train Epoch: 35 [6400/50000 (13%)]\tLoss: 0.022904\n",
      "Train Epoch: 35 [9600/50000 (19%)]\tLoss: 0.051458\n",
      "Train Epoch: 35 [12800/50000 (26%)]\tLoss: 0.052949\n",
      "Train Epoch: 35 [16000/50000 (32%)]\tLoss: 0.065514\n",
      "Train Epoch: 35 [19200/50000 (38%)]\tLoss: 0.195593\n",
      "Train Epoch: 35 [22400/50000 (45%)]\tLoss: 0.035456\n",
      "Train Epoch: 35 [25600/50000 (51%)]\tLoss: 0.052725\n",
      "Train Epoch: 35 [28800/50000 (58%)]\tLoss: 0.040933\n",
      "Train Epoch: 35 [32000/50000 (64%)]\tLoss: 0.062308\n",
      "Train Epoch: 35 [35200/50000 (70%)]\tLoss: 0.150515\n",
      "Train Epoch: 35 [38400/50000 (77%)]\tLoss: 0.234522\n",
      "Train Epoch: 35 [41600/50000 (83%)]\tLoss: 0.054606\n",
      "Train Epoch: 35 [44800/50000 (90%)]\tLoss: 0.077077\n",
      "Train Epoch: 35 [48000/50000 (96%)]\tLoss: 0.004425\n"
     ]
    },
    {
     "name": "stderr",
     "output_type": "stream",
     "text": [
      "\r",
      " 70%|███████   | 35/50 [2:06:06<52:49, 211.30s/it]"
     ]
    },
    {
     "name": "stdout",
     "output_type": "stream",
     "text": [
      "\n",
      "Train loss: 0.08278193502017604\n",
      "Train Epoch: 36 [0/50000 (0%)]\tLoss: 0.032858\n",
      "Train Epoch: 36 [3200/50000 (6%)]\tLoss: 0.072828\n",
      "Train Epoch: 36 [6400/50000 (13%)]\tLoss: 0.116646\n",
      "Train Epoch: 36 [9600/50000 (19%)]\tLoss: 0.140046\n",
      "Train Epoch: 36 [12800/50000 (26%)]\tLoss: 0.066031\n",
      "Train Epoch: 36 [16000/50000 (32%)]\tLoss: 0.059174\n",
      "Train Epoch: 36 [19200/50000 (38%)]\tLoss: 0.043674\n",
      "Train Epoch: 36 [22400/50000 (45%)]\tLoss: 0.082824\n",
      "Train Epoch: 36 [25600/50000 (51%)]\tLoss: 0.048793\n",
      "Train Epoch: 36 [28800/50000 (58%)]\tLoss: 0.078410\n",
      "Train Epoch: 36 [32000/50000 (64%)]\tLoss: 0.004360\n",
      "Train Epoch: 36 [35200/50000 (70%)]\tLoss: 0.153435\n",
      "Train Epoch: 36 [38400/50000 (77%)]\tLoss: 0.010923\n",
      "Train Epoch: 36 [41600/50000 (83%)]\tLoss: 0.048703\n",
      "Train Epoch: 36 [44800/50000 (90%)]\tLoss: 0.121058\n",
      "Train Epoch: 36 [48000/50000 (96%)]\tLoss: 0.071228\n"
     ]
    },
    {
     "name": "stderr",
     "output_type": "stream",
     "text": [
      "\r",
      " 72%|███████▏  | 36/50 [2:09:36<49:14, 211.01s/it]"
     ]
    },
    {
     "name": "stdout",
     "output_type": "stream",
     "text": [
      "\n",
      "Train loss: 0.07225940099907228\n",
      "Train Epoch: 37 [0/50000 (0%)]\tLoss: 0.020796\n",
      "Train Epoch: 37 [3200/50000 (6%)]\tLoss: 0.177804\n",
      "Train Epoch: 37 [6400/50000 (13%)]\tLoss: 0.098647\n",
      "Train Epoch: 37 [9600/50000 (19%)]\tLoss: 0.070907\n",
      "Train Epoch: 37 [12800/50000 (26%)]\tLoss: 0.126257\n",
      "Train Epoch: 37 [16000/50000 (32%)]\tLoss: 0.145859\n",
      "Train Epoch: 37 [19200/50000 (38%)]\tLoss: 0.121274\n",
      "Train Epoch: 37 [22400/50000 (45%)]\tLoss: 0.039037\n",
      "Train Epoch: 37 [25600/50000 (51%)]\tLoss: 0.088446\n",
      "Train Epoch: 37 [28800/50000 (58%)]\tLoss: 0.119884\n",
      "Train Epoch: 37 [32000/50000 (64%)]\tLoss: 0.052714\n",
      "Train Epoch: 37 [35200/50000 (70%)]\tLoss: 0.057190\n",
      "Train Epoch: 37 [38400/50000 (77%)]\tLoss: 0.104772\n",
      "Train Epoch: 37 [41600/50000 (83%)]\tLoss: 0.132420\n",
      "Train Epoch: 37 [44800/50000 (90%)]\tLoss: 0.023270\n",
      "Train Epoch: 37 [48000/50000 (96%)]\tLoss: 0.099385\n"
     ]
    },
    {
     "name": "stderr",
     "output_type": "stream",
     "text": [
      "\r",
      " 74%|███████▍  | 37/50 [2:13:07<45:40, 210.82s/it]"
     ]
    },
    {
     "name": "stdout",
     "output_type": "stream",
     "text": [
      "\n",
      "Train loss: 0.0726200177152927\n",
      "Train Epoch: 38 [0/50000 (0%)]\tLoss: 0.076108\n",
      "Train Epoch: 38 [3200/50000 (6%)]\tLoss: 0.041189\n",
      "Train Epoch: 38 [6400/50000 (13%)]\tLoss: 0.071069\n",
      "Train Epoch: 38 [9600/50000 (19%)]\tLoss: 0.066768\n",
      "Train Epoch: 38 [12800/50000 (26%)]\tLoss: 0.067109\n",
      "Train Epoch: 38 [16000/50000 (32%)]\tLoss: 0.092546\n",
      "Train Epoch: 38 [19200/50000 (38%)]\tLoss: 0.033540\n",
      "Train Epoch: 38 [22400/50000 (45%)]\tLoss: 0.088147\n",
      "Train Epoch: 38 [25600/50000 (51%)]\tLoss: 0.072667\n",
      "Train Epoch: 38 [28800/50000 (58%)]\tLoss: 0.020341\n",
      "Train Epoch: 38 [32000/50000 (64%)]\tLoss: 0.191597\n",
      "Train Epoch: 38 [35200/50000 (70%)]\tLoss: 0.018363\n",
      "Train Epoch: 38 [38400/50000 (77%)]\tLoss: 0.119630\n",
      "Train Epoch: 38 [41600/50000 (83%)]\tLoss: 0.090627\n",
      "Train Epoch: 38 [44800/50000 (90%)]\tLoss: 0.119879\n",
      "Train Epoch: 38 [48000/50000 (96%)]\tLoss: 0.092999\n"
     ]
    },
    {
     "name": "stderr",
     "output_type": "stream",
     "text": [
      "\r",
      " 76%|███████▌  | 38/50 [2:16:38<42:09, 210.78s/it]"
     ]
    },
    {
     "name": "stdout",
     "output_type": "stream",
     "text": [
      "\n",
      "Train loss: 0.06945212806969205\n",
      "Train Epoch: 39 [0/50000 (0%)]\tLoss: 0.171318\n",
      "Train Epoch: 39 [3200/50000 (6%)]\tLoss: 0.121646\n",
      "Train Epoch: 39 [6400/50000 (13%)]\tLoss: 0.027103\n",
      "Train Epoch: 39 [9600/50000 (19%)]\tLoss: 0.011681\n",
      "Train Epoch: 39 [12800/50000 (26%)]\tLoss: 0.075834\n",
      "Train Epoch: 39 [16000/50000 (32%)]\tLoss: 0.056176\n",
      "Train Epoch: 39 [19200/50000 (38%)]\tLoss: 0.072862\n",
      "Train Epoch: 39 [22400/50000 (45%)]\tLoss: 0.009955\n",
      "Train Epoch: 39 [25600/50000 (51%)]\tLoss: 0.026060\n",
      "Train Epoch: 39 [28800/50000 (58%)]\tLoss: 0.023694\n",
      "Train Epoch: 39 [32000/50000 (64%)]\tLoss: 0.142800\n",
      "Train Epoch: 39 [35200/50000 (70%)]\tLoss: 0.038377\n",
      "Train Epoch: 39 [38400/50000 (77%)]\tLoss: 0.179543\n",
      "Train Epoch: 39 [41600/50000 (83%)]\tLoss: 0.087106\n",
      "Train Epoch: 39 [44800/50000 (90%)]\tLoss: 0.028979\n",
      "Train Epoch: 39 [48000/50000 (96%)]\tLoss: 0.044542\n"
     ]
    },
    {
     "name": "stderr",
     "output_type": "stream",
     "text": [
      "\r",
      " 78%|███████▊  | 39/50 [2:20:05<38:28, 209.88s/it]"
     ]
    },
    {
     "name": "stdout",
     "output_type": "stream",
     "text": [
      "\n",
      "Train loss: 0.06724370696330015\n",
      "Train Epoch: 40 [0/50000 (0%)]\tLoss: 0.024779\n",
      "Train Epoch: 40 [3200/50000 (6%)]\tLoss: 0.058167\n",
      "Train Epoch: 40 [6400/50000 (13%)]\tLoss: 0.113937\n",
      "Train Epoch: 40 [9600/50000 (19%)]\tLoss: 0.095991\n",
      "Train Epoch: 40 [12800/50000 (26%)]\tLoss: 0.023260\n",
      "Train Epoch: 40 [16000/50000 (32%)]\tLoss: 0.055491\n",
      "Train Epoch: 40 [19200/50000 (38%)]\tLoss: 0.061117\n",
      "Train Epoch: 40 [22400/50000 (45%)]\tLoss: 0.027804\n",
      "Train Epoch: 40 [25600/50000 (51%)]\tLoss: 0.078559\n",
      "Train Epoch: 40 [28800/50000 (58%)]\tLoss: 0.068462\n",
      "Train Epoch: 40 [32000/50000 (64%)]\tLoss: 0.023624\n",
      "Train Epoch: 40 [35200/50000 (70%)]\tLoss: 0.086503\n",
      "Train Epoch: 40 [38400/50000 (77%)]\tLoss: 0.015081\n",
      "Train Epoch: 40 [41600/50000 (83%)]\tLoss: 0.009590\n",
      "Train Epoch: 40 [44800/50000 (90%)]\tLoss: 0.095644\n",
      "Train Epoch: 40 [48000/50000 (96%)]\tLoss: 0.060895\n"
     ]
    },
    {
     "name": "stderr",
     "output_type": "stream",
     "text": [
      "\r",
      " 80%|████████  | 40/50 [2:23:36<35:01, 210.15s/it]"
     ]
    },
    {
     "name": "stdout",
     "output_type": "stream",
     "text": [
      "\n",
      "Train loss: 0.07078861658517367\n",
      "Train Epoch: 41 [0/50000 (0%)]\tLoss: 0.040221\n",
      "Train Epoch: 41 [3200/50000 (6%)]\tLoss: 0.007089\n",
      "Train Epoch: 41 [6400/50000 (13%)]\tLoss: 0.118285\n",
      "Train Epoch: 41 [9600/50000 (19%)]\tLoss: 0.038782\n",
      "Train Epoch: 41 [12800/50000 (26%)]\tLoss: 0.131011\n",
      "Train Epoch: 41 [16000/50000 (32%)]\tLoss: 0.111932\n",
      "Train Epoch: 41 [19200/50000 (38%)]\tLoss: 0.135816\n",
      "Train Epoch: 41 [22400/50000 (45%)]\tLoss: 0.004874\n",
      "Train Epoch: 41 [25600/50000 (51%)]\tLoss: 0.071637\n",
      "Train Epoch: 41 [28800/50000 (58%)]\tLoss: 0.010050\n",
      "Train Epoch: 41 [32000/50000 (64%)]\tLoss: 0.068860\n",
      "Train Epoch: 41 [35200/50000 (70%)]\tLoss: 0.035138\n",
      "Train Epoch: 41 [38400/50000 (77%)]\tLoss: 0.005799\n",
      "Train Epoch: 41 [41600/50000 (83%)]\tLoss: 0.102775\n",
      "Train Epoch: 41 [44800/50000 (90%)]\tLoss: 0.116177\n",
      "Train Epoch: 41 [48000/50000 (96%)]\tLoss: 0.081171\n"
     ]
    },
    {
     "name": "stderr",
     "output_type": "stream",
     "text": [
      "\r",
      " 82%|████████▏ | 41/50 [2:27:06<31:30, 210.06s/it]"
     ]
    },
    {
     "name": "stdout",
     "output_type": "stream",
     "text": [
      "\n",
      "Train loss: 0.06004528306743792\n",
      "Train Epoch: 42 [0/50000 (0%)]\tLoss: 0.007859\n",
      "Train Epoch: 42 [3200/50000 (6%)]\tLoss: 0.273188\n",
      "Train Epoch: 42 [6400/50000 (13%)]\tLoss: 0.022595\n",
      "Train Epoch: 42 [9600/50000 (19%)]\tLoss: 0.085561\n",
      "Train Epoch: 42 [12800/50000 (26%)]\tLoss: 0.003586\n",
      "Train Epoch: 42 [16000/50000 (32%)]\tLoss: 0.036635\n",
      "Train Epoch: 42 [19200/50000 (38%)]\tLoss: 0.052336\n",
      "Train Epoch: 42 [22400/50000 (45%)]\tLoss: 0.166803\n",
      "Train Epoch: 42 [25600/50000 (51%)]\tLoss: 0.135073\n",
      "Train Epoch: 42 [28800/50000 (58%)]\tLoss: 0.179828\n",
      "Train Epoch: 42 [32000/50000 (64%)]\tLoss: 0.030570\n",
      "Train Epoch: 42 [35200/50000 (70%)]\tLoss: 0.079687\n",
      "Train Epoch: 42 [38400/50000 (77%)]\tLoss: 0.027398\n",
      "Train Epoch: 42 [41600/50000 (83%)]\tLoss: 0.049098\n",
      "Train Epoch: 42 [44800/50000 (90%)]\tLoss: 0.093430\n",
      "Train Epoch: 42 [48000/50000 (96%)]\tLoss: 0.080519\n"
     ]
    },
    {
     "name": "stderr",
     "output_type": "stream",
     "text": [
      "\r",
      " 84%|████████▍ | 42/50 [2:30:34<27:56, 209.60s/it]"
     ]
    },
    {
     "name": "stdout",
     "output_type": "stream",
     "text": [
      "\n",
      "Train loss: 0.06059299441500474\n",
      "Train Epoch: 43 [0/50000 (0%)]\tLoss: 0.015806\n",
      "Train Epoch: 43 [3200/50000 (6%)]\tLoss: 0.115012\n",
      "Train Epoch: 43 [6400/50000 (13%)]\tLoss: 0.058707\n",
      "Train Epoch: 43 [9600/50000 (19%)]\tLoss: 0.014058\n",
      "Train Epoch: 43 [12800/50000 (26%)]\tLoss: 0.072227\n",
      "Train Epoch: 43 [16000/50000 (32%)]\tLoss: 0.079957\n",
      "Train Epoch: 43 [19200/50000 (38%)]\tLoss: 0.004972\n",
      "Train Epoch: 43 [22400/50000 (45%)]\tLoss: 0.037141\n",
      "Train Epoch: 43 [25600/50000 (51%)]\tLoss: 0.115802\n",
      "Train Epoch: 43 [28800/50000 (58%)]\tLoss: 0.027423\n",
      "Train Epoch: 43 [32000/50000 (64%)]\tLoss: 0.075750\n",
      "Train Epoch: 43 [35200/50000 (70%)]\tLoss: 0.035058\n",
      "Train Epoch: 43 [38400/50000 (77%)]\tLoss: 0.128702\n",
      "Train Epoch: 43 [41600/50000 (83%)]\tLoss: 0.012830\n",
      "Train Epoch: 43 [44800/50000 (90%)]\tLoss: 0.007597\n",
      "Train Epoch: 43 [48000/50000 (96%)]\tLoss: 0.015560\n"
     ]
    },
    {
     "name": "stderr",
     "output_type": "stream",
     "text": [
      "\r",
      " 86%|████████▌ | 43/50 [2:34:04<24:26, 209.57s/it]"
     ]
    },
    {
     "name": "stdout",
     "output_type": "stream",
     "text": [
      "\n",
      "Train loss: 0.06095494719042355\n",
      "Train Epoch: 44 [0/50000 (0%)]\tLoss: 0.015632\n",
      "Train Epoch: 44 [3200/50000 (6%)]\tLoss: 0.122836\n",
      "Train Epoch: 44 [6400/50000 (13%)]\tLoss: 0.094431\n",
      "Train Epoch: 44 [9600/50000 (19%)]\tLoss: 0.154602\n",
      "Train Epoch: 44 [12800/50000 (26%)]\tLoss: 0.044734\n",
      "Train Epoch: 44 [16000/50000 (32%)]\tLoss: 0.094090\n",
      "Train Epoch: 44 [19200/50000 (38%)]\tLoss: 0.086310\n",
      "Train Epoch: 44 [22400/50000 (45%)]\tLoss: 0.044530\n",
      "Train Epoch: 44 [25600/50000 (51%)]\tLoss: 0.021530\n",
      "Train Epoch: 44 [28800/50000 (58%)]\tLoss: 0.214613\n",
      "Train Epoch: 44 [32000/50000 (64%)]\tLoss: 0.022871\n",
      "Train Epoch: 44 [35200/50000 (70%)]\tLoss: 0.156589\n",
      "Train Epoch: 44 [38400/50000 (77%)]\tLoss: 0.039486\n",
      "Train Epoch: 44 [41600/50000 (83%)]\tLoss: 0.014825\n",
      "Train Epoch: 44 [44800/50000 (90%)]\tLoss: 0.011301\n",
      "Train Epoch: 44 [48000/50000 (96%)]\tLoss: 0.118197\n"
     ]
    },
    {
     "name": "stderr",
     "output_type": "stream",
     "text": [
      "\r",
      " 88%|████████▊ | 44/50 [2:37:36<21:01, 210.17s/it]"
     ]
    },
    {
     "name": "stdout",
     "output_type": "stream",
     "text": [
      "\n",
      "Train loss: 0.05870872100397154\n",
      "Train Epoch: 45 [0/50000 (0%)]\tLoss: 0.025876\n",
      "Train Epoch: 45 [3200/50000 (6%)]\tLoss: 0.093036\n",
      "Train Epoch: 45 [6400/50000 (13%)]\tLoss: 0.078866\n",
      "Train Epoch: 45 [9600/50000 (19%)]\tLoss: 0.036849\n",
      "Train Epoch: 45 [12800/50000 (26%)]\tLoss: 0.100708\n",
      "Train Epoch: 45 [16000/50000 (32%)]\tLoss: 0.038096\n",
      "Train Epoch: 45 [19200/50000 (38%)]\tLoss: 0.044062\n",
      "Train Epoch: 45 [22400/50000 (45%)]\tLoss: 0.058960\n",
      "Train Epoch: 45 [25600/50000 (51%)]\tLoss: 0.083302\n",
      "Train Epoch: 45 [28800/50000 (58%)]\tLoss: 0.102876\n",
      "Train Epoch: 45 [32000/50000 (64%)]\tLoss: 0.013060\n",
      "Train Epoch: 45 [35200/50000 (70%)]\tLoss: 0.065747\n",
      "Train Epoch: 45 [38400/50000 (77%)]\tLoss: 0.040079\n",
      "Train Epoch: 45 [41600/50000 (83%)]\tLoss: 0.054248\n",
      "Train Epoch: 45 [44800/50000 (90%)]\tLoss: 0.048678\n",
      "Train Epoch: 45 [48000/50000 (96%)]\tLoss: 0.065207\n"
     ]
    },
    {
     "name": "stderr",
     "output_type": "stream",
     "text": [
      "\r",
      " 90%|█████████ | 45/50 [2:41:08<17:34, 210.89s/it]"
     ]
    },
    {
     "name": "stdout",
     "output_type": "stream",
     "text": [
      "\n",
      "Train loss: 0.0575477899300218\n",
      "Train Epoch: 46 [0/50000 (0%)]\tLoss: 0.057314\n",
      "Train Epoch: 46 [3200/50000 (6%)]\tLoss: 0.142907\n",
      "Train Epoch: 46 [6400/50000 (13%)]\tLoss: 0.098468\n",
      "Train Epoch: 46 [9600/50000 (19%)]\tLoss: 0.080310\n",
      "Train Epoch: 46 [12800/50000 (26%)]\tLoss: 0.016082\n",
      "Train Epoch: 46 [16000/50000 (32%)]\tLoss: 0.185643\n",
      "Train Epoch: 46 [19200/50000 (38%)]\tLoss: 0.024024\n",
      "Train Epoch: 46 [22400/50000 (45%)]\tLoss: 0.041819\n",
      "Train Epoch: 46 [25600/50000 (51%)]\tLoss: 0.011049\n",
      "Train Epoch: 46 [28800/50000 (58%)]\tLoss: 0.008615\n",
      "Train Epoch: 46 [32000/50000 (64%)]\tLoss: 0.012662\n",
      "Train Epoch: 46 [35200/50000 (70%)]\tLoss: 0.141944\n",
      "Train Epoch: 46 [38400/50000 (77%)]\tLoss: 0.016974\n",
      "Train Epoch: 46 [41600/50000 (83%)]\tLoss: 0.080058\n",
      "Train Epoch: 46 [44800/50000 (90%)]\tLoss: 0.067933\n",
      "Train Epoch: 46 [48000/50000 (96%)]\tLoss: 0.073518\n"
     ]
    },
    {
     "name": "stderr",
     "output_type": "stream",
     "text": [
      "\r",
      " 92%|█████████▏| 46/50 [2:44:39<14:04, 211.02s/it]"
     ]
    },
    {
     "name": "stdout",
     "output_type": "stream",
     "text": [
      "\n",
      "Train loss: 0.05280200547791477\n",
      "Train Epoch: 47 [0/50000 (0%)]\tLoss: 0.019901\n",
      "Train Epoch: 47 [3200/50000 (6%)]\tLoss: 0.039158\n",
      "Train Epoch: 47 [6400/50000 (13%)]\tLoss: 0.034634\n",
      "Train Epoch: 47 [9600/50000 (19%)]\tLoss: 0.069543\n",
      "Train Epoch: 47 [12800/50000 (26%)]\tLoss: 0.093933\n",
      "Train Epoch: 47 [16000/50000 (32%)]\tLoss: 0.010646\n",
      "Train Epoch: 47 [19200/50000 (38%)]\tLoss: 0.052542\n",
      "Train Epoch: 47 [22400/50000 (45%)]\tLoss: 0.039375\n",
      "Train Epoch: 47 [25600/50000 (51%)]\tLoss: 0.050649\n",
      "Train Epoch: 47 [28800/50000 (58%)]\tLoss: 0.009194\n",
      "Train Epoch: 47 [32000/50000 (64%)]\tLoss: 0.065769\n",
      "Train Epoch: 47 [35200/50000 (70%)]\tLoss: 0.067106\n",
      "Train Epoch: 47 [38400/50000 (77%)]\tLoss: 0.039325\n",
      "Train Epoch: 47 [41600/50000 (83%)]\tLoss: 0.150714\n",
      "Train Epoch: 47 [44800/50000 (90%)]\tLoss: 0.027334\n",
      "Train Epoch: 47 [48000/50000 (96%)]\tLoss: 0.047561\n"
     ]
    },
    {
     "name": "stderr",
     "output_type": "stream",
     "text": [
      "\r",
      " 94%|█████████▍| 47/50 [2:48:11<10:33, 211.11s/it]"
     ]
    },
    {
     "name": "stdout",
     "output_type": "stream",
     "text": [
      "\n",
      "Train loss: 0.05328189303713363\n",
      "Train Epoch: 48 [0/50000 (0%)]\tLoss: 0.097906\n",
      "Train Epoch: 48 [3200/50000 (6%)]\tLoss: 0.041142\n",
      "Train Epoch: 48 [6400/50000 (13%)]\tLoss: 0.064976\n",
      "Train Epoch: 48 [9600/50000 (19%)]\tLoss: 0.076002\n",
      "Train Epoch: 48 [12800/50000 (26%)]\tLoss: 0.107979\n",
      "Train Epoch: 48 [16000/50000 (32%)]\tLoss: 0.047264\n",
      "Train Epoch: 48 [19200/50000 (38%)]\tLoss: 0.125099\n",
      "Train Epoch: 48 [22400/50000 (45%)]\tLoss: 0.015873\n",
      "Train Epoch: 48 [25600/50000 (51%)]\tLoss: 0.037618\n",
      "Train Epoch: 48 [28800/50000 (58%)]\tLoss: 0.010399\n",
      "Train Epoch: 48 [32000/50000 (64%)]\tLoss: 0.040747\n",
      "Train Epoch: 48 [35200/50000 (70%)]\tLoss: 0.007725\n",
      "Train Epoch: 48 [38400/50000 (77%)]\tLoss: 0.022201\n",
      "Train Epoch: 48 [41600/50000 (83%)]\tLoss: 0.002661\n",
      "Train Epoch: 48 [44800/50000 (90%)]\tLoss: 0.016506\n",
      "Train Epoch: 48 [48000/50000 (96%)]\tLoss: 0.106957\n"
     ]
    },
    {
     "name": "stderr",
     "output_type": "stream",
     "text": [
      "\r",
      " 96%|█████████▌| 48/50 [2:51:40<07:01, 210.52s/it]"
     ]
    },
    {
     "name": "stdout",
     "output_type": "stream",
     "text": [
      "\n",
      "Train loss: 0.05040273538557217\n",
      "Train Epoch: 49 [0/50000 (0%)]\tLoss: 0.053692\n",
      "Train Epoch: 49 [3200/50000 (6%)]\tLoss: 0.020255\n",
      "Train Epoch: 49 [6400/50000 (13%)]\tLoss: 0.048510\n",
      "Train Epoch: 49 [9600/50000 (19%)]\tLoss: 0.030412\n",
      "Train Epoch: 49 [12800/50000 (26%)]\tLoss: 0.021318\n",
      "Train Epoch: 49 [16000/50000 (32%)]\tLoss: 0.082960\n",
      "Train Epoch: 49 [19200/50000 (38%)]\tLoss: 0.022042\n",
      "Train Epoch: 49 [22400/50000 (45%)]\tLoss: 0.021265\n",
      "Train Epoch: 49 [25600/50000 (51%)]\tLoss: 0.059237\n",
      "Train Epoch: 49 [28800/50000 (58%)]\tLoss: 0.014778\n",
      "Train Epoch: 49 [32000/50000 (64%)]\tLoss: 0.006483\n",
      "Train Epoch: 49 [35200/50000 (70%)]\tLoss: 0.011024\n",
      "Train Epoch: 49 [38400/50000 (77%)]\tLoss: 0.114365\n",
      "Train Epoch: 49 [41600/50000 (83%)]\tLoss: 0.043540\n",
      "Train Epoch: 49 [44800/50000 (90%)]\tLoss: 0.021961\n",
      "Train Epoch: 49 [48000/50000 (96%)]\tLoss: 0.097465\n"
     ]
    },
    {
     "name": "stderr",
     "output_type": "stream",
     "text": [
      "\r",
      " 98%|█████████▊| 49/50 [2:55:07<03:29, 209.45s/it]"
     ]
    },
    {
     "name": "stdout",
     "output_type": "stream",
     "text": [
      "\n",
      "Train loss: 0.044587329428074605\n",
      "Train Epoch: 50 [0/50000 (0%)]\tLoss: 0.027770\n",
      "Train Epoch: 50 [3200/50000 (6%)]\tLoss: 0.069577\n",
      "Train Epoch: 50 [6400/50000 (13%)]\tLoss: 0.006185\n",
      "Train Epoch: 50 [9600/50000 (19%)]\tLoss: 0.028898\n",
      "Train Epoch: 50 [12800/50000 (26%)]\tLoss: 0.003723\n",
      "Train Epoch: 50 [16000/50000 (32%)]\tLoss: 0.047164\n",
      "Train Epoch: 50 [19200/50000 (38%)]\tLoss: 0.055001\n",
      "Train Epoch: 50 [22400/50000 (45%)]\tLoss: 0.027385\n",
      "Train Epoch: 50 [25600/50000 (51%)]\tLoss: 0.016805\n",
      "Train Epoch: 50 [28800/50000 (58%)]\tLoss: 0.063752\n",
      "Train Epoch: 50 [32000/50000 (64%)]\tLoss: 0.058059\n",
      "Train Epoch: 50 [35200/50000 (70%)]\tLoss: 0.041219\n",
      "Train Epoch: 50 [38400/50000 (77%)]\tLoss: 0.035103\n",
      "Train Epoch: 50 [41600/50000 (83%)]\tLoss: 0.024352\n",
      "Train Epoch: 50 [44800/50000 (90%)]\tLoss: 0.069996\n",
      "Train Epoch: 50 [48000/50000 (96%)]\tLoss: 0.024188\n"
     ]
    },
    {
     "name": "stderr",
     "output_type": "stream",
     "text": [
      "100%|██████████| 50/50 [2:58:39<00:00, 214.39s/it]"
     ]
    },
    {
     "name": "stdout",
     "output_type": "stream",
     "text": [
      "\n",
      "Train loss: 0.04742590750685519\n"
     ]
    },
    {
     "name": "stderr",
     "output_type": "stream",
     "text": [
      "\n"
     ]
    },
    {
     "name": "stdout",
     "output_type": "stream",
     "text": [
      "Test on 10000 samples\n",
      "Test Accuracy: 85.84%\n"
     ]
    },
    {
     "data": {
      "image/png": "[encoded data removed]",
      "text/plain": [
       "<Figure size 432x288 with 1 Axes>"
      ]
     },
     "metadata": {
      "needs_background": "light"
     },
     "output_type": "display_data"
    }
   ],
   "source": [
    "%run src/baseline_main.py --model=test --dataset=cifar --gpu=0 --epochs=50 --lr=0.01 --local_bs=50  --num_users=1 --frac=1"
   ]
  },
  {
   "cell_type": "code",
   "execution_count": 2,
   "metadata": {},
   "outputs": [
    {
     "name": "stdout",
     "output_type": "stream",
     "text": [
      "Files already downloaded and verified\n",
      "Files already downloaded and verified\n"
     ]
    },
    {
     "name": "stderr",
     "output_type": "stream",
     "text": [
      "\r",
      "  0%|          | 0/50 [00:00<?, ?it/s]"
     ]
    },
    {
     "name": "stdout",
     "output_type": "stream",
     "text": [
      "TestmyNet(\n",
      "  (conv1): Conv2d(3, 64, kernel_size=(3, 3), stride=(1, 1), padding=(1, 1))\n",
      "  (conv2): Conv2d(64, 64, kernel_size=(3, 3), stride=(1, 1), padding=(1, 1))\n",
      "  (pool1): MaxPool2d(kernel_size=2, stride=2, padding=0, dilation=1, ceil_mode=False)\n",
      "  (bn1): BatchNorm2d(64, eps=1e-05, momentum=0.1, affine=True, track_running_stats=True)\n",
      "  (relu1): ReLU()\n",
      "  (conv3): Conv2d(64, 128, kernel_size=(3, 3), stride=(1, 1), padding=(1, 1))\n",
      "  (conv4): Conv2d(128, 128, kernel_size=(3, 3), stride=(1, 1), padding=(1, 1))\n",
      "  (pool2): MaxPool2d(kernel_size=2, stride=2, padding=1, dilation=1, ceil_mode=False)\n",
      "  (bn2): BatchNorm2d(128, eps=1e-05, momentum=0.1, affine=True, track_running_stats=True)\n",
      "  (relu2): ReLU()\n",
      "  (conv5): Conv2d(128, 128, kernel_size=(3, 3), stride=(1, 1), padding=(1, 1))\n",
      "  (conv6): Conv2d(128, 128, kernel_size=(3, 3), stride=(1, 1), padding=(1, 1))\n",
      "  (conv7): Conv2d(128, 128, kernel_size=(1, 1), stride=(1, 1), padding=(1, 1))\n",
      "  (pool3): MaxPool2d(kernel_size=2, stride=2, padding=1, dilation=1, ceil_mode=False)\n",
      "  (bn3): BatchNorm2d(128, eps=1e-05, momentum=0.1, affine=True, track_running_stats=True)\n",
      "  (relu3): ReLU()\n",
      "  (conv8): Conv2d(128, 256, kernel_size=(3, 3), stride=(1, 1), padding=(1, 1))\n",
      "  (conv9): Conv2d(256, 256, kernel_size=(3, 3), stride=(1, 1), padding=(1, 1))\n",
      "  (conv10): Conv2d(256, 256, kernel_size=(1, 1), stride=(1, 1), padding=(1, 1))\n",
      "  (pool4): MaxPool2d(kernel_size=2, stride=2, padding=1, dilation=1, ceil_mode=False)\n",
      "  (bn4): BatchNorm2d(256, eps=1e-05, momentum=0.1, affine=True, track_running_stats=True)\n",
      "  (relu4): ReLU()\n",
      "  (conv11): Conv2d(256, 512, kernel_size=(3, 3), stride=(1, 1), padding=(1, 1))\n",
      "  (conv12): Conv2d(512, 512, kernel_size=(3, 3), stride=(1, 1), padding=(1, 1))\n",
      "  (conv13): Conv2d(512, 512, kernel_size=(1, 1), stride=(1, 1), padding=(1, 1))\n",
      "  (pool5): MaxPool2d(kernel_size=2, stride=2, padding=1, dilation=1, ceil_mode=False)\n",
      "  (bn5): BatchNorm2d(512, eps=1e-05, momentum=0.1, affine=True, track_running_stats=True)\n",
      "  (relu5): ReLU()\n",
      "  (fc14): Linear(in_features=8192, out_features=1024, bias=True)\n",
      "  (drop1): Dropout2d(p=0.5, inplace=False)\n",
      "  (fc15): Linear(in_features=1024, out_features=1024, bias=True)\n",
      "  (drop2): Dropout2d(p=0.5, inplace=False)\n",
      "  (fc16): Linear(in_features=1024, out_features=10, bias=True)\n",
      ")\n",
      "Train Epoch: 1 [0/50000 (0%)]\tLoss: 2.316316\n",
      "Train Epoch: 1 [3200/50000 (6%)]\tLoss: 1.935826\n",
      "Train Epoch: 1 [6400/50000 (13%)]\tLoss: 1.832584\n",
      "Train Epoch: 1 [9600/50000 (19%)]\tLoss: 1.743796\n",
      "Train Epoch: 1 [12800/50000 (26%)]\tLoss: 1.654569\n",
      "Train Epoch: 1 [16000/50000 (32%)]\tLoss: 1.632165\n",
      "Train Epoch: 1 [19200/50000 (38%)]\tLoss: 1.442399\n",
      "Train Epoch: 1 [22400/50000 (45%)]\tLoss: 1.597472\n",
      "Train Epoch: 1 [25600/50000 (51%)]\tLoss: 1.489354\n",
      "Train Epoch: 1 [28800/50000 (58%)]\tLoss: 1.345976\n",
      "Train Epoch: 1 [32000/50000 (64%)]\tLoss: 1.661558\n",
      "Train Epoch: 1 [35200/50000 (70%)]\tLoss: 1.028354\n",
      "Train Epoch: 1 [38400/50000 (77%)]\tLoss: 1.010173\n",
      "Train Epoch: 1 [41600/50000 (83%)]\tLoss: 1.121276\n",
      "Train Epoch: 1 [44800/50000 (90%)]\tLoss: 1.185909\n",
      "Train Epoch: 1 [48000/50000 (96%)]\tLoss: 1.105835\n"
     ]
    },
    {
     "name": "stderr",
     "output_type": "stream",
     "text": [
      "\r",
      "  2%|▏         | 1/50 [04:12<3:26:05, 252.35s/it]"
     ]
    },
    {
     "name": "stdout",
     "output_type": "stream",
     "text": [
      "\n",
      "Train loss: 1.4292227923107879\n",
      "Train Epoch: 2 [0/50000 (0%)]\tLoss: 1.149416\n",
      "Train Epoch: 2 [3200/50000 (6%)]\tLoss: 1.068117\n",
      "Train Epoch: 2 [6400/50000 (13%)]\tLoss: 0.892238\n",
      "Train Epoch: 2 [9600/50000 (19%)]\tLoss: 1.228624\n",
      "Train Epoch: 2 [12800/50000 (26%)]\tLoss: 1.059439\n",
      "Train Epoch: 2 [16000/50000 (32%)]\tLoss: 1.098423\n",
      "Train Epoch: 2 [19200/50000 (38%)]\tLoss: 1.044076\n",
      "Train Epoch: 2 [22400/50000 (45%)]\tLoss: 0.547440\n",
      "Train Epoch: 2 [25600/50000 (51%)]\tLoss: 0.988028\n",
      "Train Epoch: 2 [28800/50000 (58%)]\tLoss: 0.935491\n",
      "Train Epoch: 2 [32000/50000 (64%)]\tLoss: 0.889060\n",
      "Train Epoch: 2 [35200/50000 (70%)]\tLoss: 0.842870\n",
      "Train Epoch: 2 [38400/50000 (77%)]\tLoss: 0.715490\n",
      "Train Epoch: 2 [41600/50000 (83%)]\tLoss: 1.343502\n",
      "Train Epoch: 2 [44800/50000 (90%)]\tLoss: 1.113891\n",
      "Train Epoch: 2 [48000/50000 (96%)]\tLoss: 0.908020\n"
     ]
    },
    {
     "name": "stderr",
     "output_type": "stream",
     "text": [
      "\r",
      "  4%|▍         | 2/50 [08:23<3:21:28, 251.85s/it]"
     ]
    },
    {
     "name": "stdout",
     "output_type": "stream",
     "text": [
      "\n",
      "Train loss: 0.9043859921757827\n",
      "Train Epoch: 3 [0/50000 (0%)]\tLoss: 0.781501\n",
      "Train Epoch: 3 [3200/50000 (6%)]\tLoss: 0.621116\n",
      "Train Epoch: 3 [6400/50000 (13%)]\tLoss: 0.788017\n",
      "Train Epoch: 3 [9600/50000 (19%)]\tLoss: 0.907621\n",
      "Train Epoch: 3 [12800/50000 (26%)]\tLoss: 0.763255\n",
      "Train Epoch: 3 [16000/50000 (32%)]\tLoss: 0.609347\n",
      "Train Epoch: 3 [19200/50000 (38%)]\tLoss: 0.730382\n",
      "Train Epoch: 3 [22400/50000 (45%)]\tLoss: 0.865562\n",
      "Train Epoch: 3 [25600/50000 (51%)]\tLoss: 0.845837\n",
      "Train Epoch: 3 [28800/50000 (58%)]\tLoss: 0.618809\n",
      "Train Epoch: 3 [32000/50000 (64%)]\tLoss: 0.860892\n",
      "Train Epoch: 3 [35200/50000 (70%)]\tLoss: 0.601345\n",
      "Train Epoch: 3 [38400/50000 (77%)]\tLoss: 0.536486\n",
      "Train Epoch: 3 [41600/50000 (83%)]\tLoss: 0.768947\n",
      "Train Epoch: 3 [44800/50000 (90%)]\tLoss: 0.686187\n",
      "Train Epoch: 3 [48000/50000 (96%)]\tLoss: 0.653507\n"
     ]
    },
    {
     "name": "stderr",
     "output_type": "stream",
     "text": [
      "\r",
      "  6%|▌         | 3/50 [12:25<3:14:59, 248.92s/it]"
     ]
    },
    {
     "name": "stdout",
     "output_type": "stream",
     "text": [
      "\n",
      "Train loss: 0.7285559457510024\n",
      "Train Epoch: 4 [0/50000 (0%)]\tLoss: 0.601011\n",
      "Train Epoch: 4 [3200/50000 (6%)]\tLoss: 0.601720\n",
      "Train Epoch: 4 [6400/50000 (13%)]\tLoss: 0.739040\n",
      "Train Epoch: 4 [9600/50000 (19%)]\tLoss: 0.468743\n",
      "Train Epoch: 4 [12800/50000 (26%)]\tLoss: 0.719546\n",
      "Train Epoch: 4 [16000/50000 (32%)]\tLoss: 0.601428\n",
      "Train Epoch: 4 [19200/50000 (38%)]\tLoss: 0.547322\n",
      "Train Epoch: 4 [22400/50000 (45%)]\tLoss: 0.407513\n",
      "Train Epoch: 4 [25600/50000 (51%)]\tLoss: 0.832021\n",
      "Train Epoch: 4 [28800/50000 (58%)]\tLoss: 0.585581\n",
      "Train Epoch: 4 [32000/50000 (64%)]\tLoss: 0.534946\n",
      "Train Epoch: 4 [35200/50000 (70%)]\tLoss: 0.553007\n",
      "Train Epoch: 4 [38400/50000 (77%)]\tLoss: 0.921635\n",
      "Train Epoch: 4 [41600/50000 (83%)]\tLoss: 0.736338\n",
      "Train Epoch: 4 [44800/50000 (90%)]\tLoss: 0.346115\n",
      "Train Epoch: 4 [48000/50000 (96%)]\tLoss: 0.723577\n"
     ]
    },
    {
     "name": "stderr",
     "output_type": "stream",
     "text": [
      "\r",
      "  8%|▊         | 4/50 [16:23<3:08:30, 245.89s/it]"
     ]
    },
    {
     "name": "stdout",
     "output_type": "stream",
     "text": [
      "\n",
      "Train loss: 0.6197812328558139\n",
      "Train Epoch: 5 [0/50000 (0%)]\tLoss: 0.395134\n",
      "Train Epoch: 5 [3200/50000 (6%)]\tLoss: 0.459754\n",
      "Train Epoch: 5 [6400/50000 (13%)]\tLoss: 0.391116\n",
      "Train Epoch: 5 [9600/50000 (19%)]\tLoss: 0.461023\n",
      "Train Epoch: 5 [12800/50000 (26%)]\tLoss: 0.375179\n",
      "Train Epoch: 5 [16000/50000 (32%)]\tLoss: 0.643215\n",
      "Train Epoch: 5 [19200/50000 (38%)]\tLoss: 0.549943\n",
      "Train Epoch: 5 [22400/50000 (45%)]\tLoss: 0.601098\n",
      "Train Epoch: 5 [25600/50000 (51%)]\tLoss: 0.535841\n",
      "Train Epoch: 5 [28800/50000 (58%)]\tLoss: 0.541501\n",
      "Train Epoch: 5 [32000/50000 (64%)]\tLoss: 0.613518\n",
      "Train Epoch: 5 [35200/50000 (70%)]\tLoss: 0.462831\n",
      "Train Epoch: 5 [38400/50000 (77%)]\tLoss: 0.632256\n",
      "Train Epoch: 5 [41600/50000 (83%)]\tLoss: 0.341364\n",
      "Train Epoch: 5 [44800/50000 (90%)]\tLoss: 0.492077\n",
      "Train Epoch: 5 [48000/50000 (96%)]\tLoss: 0.691674\n"
     ]
    },
    {
     "name": "stderr",
     "output_type": "stream",
     "text": [
      "\r",
      " 10%|█         | 5/50 [20:35<3:05:48, 247.74s/it]"
     ]
    },
    {
     "name": "stdout",
     "output_type": "stream",
     "text": [
      "\n",
      "Train loss: 0.5496201761962508\n",
      "Train Epoch: 6 [0/50000 (0%)]\tLoss: 0.534397\n",
      "Train Epoch: 6 [3200/50000 (6%)]\tLoss: 0.629182\n",
      "Train Epoch: 6 [6400/50000 (13%)]\tLoss: 0.575794\n",
      "Train Epoch: 6 [9600/50000 (19%)]\tLoss: 0.449103\n",
      "Train Epoch: 6 [12800/50000 (26%)]\tLoss: 0.691309\n",
      "Train Epoch: 6 [16000/50000 (32%)]\tLoss: 0.385580\n",
      "Train Epoch: 6 [19200/50000 (38%)]\tLoss: 0.653761\n",
      "Train Epoch: 6 [22400/50000 (45%)]\tLoss: 0.872248\n",
      "Train Epoch: 6 [25600/50000 (51%)]\tLoss: 0.423540\n",
      "Train Epoch: 6 [28800/50000 (58%)]\tLoss: 0.400195\n",
      "Train Epoch: 6 [32000/50000 (64%)]\tLoss: 0.627416\n",
      "Train Epoch: 6 [35200/50000 (70%)]\tLoss: 0.671850\n",
      "Train Epoch: 6 [38400/50000 (77%)]\tLoss: 0.435631\n",
      "Train Epoch: 6 [41600/50000 (83%)]\tLoss: 0.662164\n",
      "Train Epoch: 6 [44800/50000 (90%)]\tLoss: 0.549605\n",
      "Train Epoch: 6 [48000/50000 (96%)]\tLoss: 0.442313\n"
     ]
    },
    {
     "name": "stderr",
     "output_type": "stream",
     "text": [
      "\r",
      " 12%|█▏        | 6/50 [24:44<3:01:55, 248.08s/it]"
     ]
    },
    {
     "name": "stdout",
     "output_type": "stream",
     "text": [
      "\n",
      "Train loss: 0.4900493381349632\n",
      "Train Epoch: 7 [0/50000 (0%)]\tLoss: 0.423692\n",
      "Train Epoch: 7 [3200/50000 (6%)]\tLoss: 0.489247\n",
      "Train Epoch: 7 [6400/50000 (13%)]\tLoss: 0.223651\n",
      "Train Epoch: 7 [9600/50000 (19%)]\tLoss: 0.660903\n",
      "Train Epoch: 7 [12800/50000 (26%)]\tLoss: 0.541637\n",
      "Train Epoch: 7 [16000/50000 (32%)]\tLoss: 0.263402\n",
      "Train Epoch: 7 [19200/50000 (38%)]\tLoss: 0.790986\n",
      "Train Epoch: 7 [22400/50000 (45%)]\tLoss: 0.478984\n",
      "Train Epoch: 7 [25600/50000 (51%)]\tLoss: 0.389438\n",
      "Train Epoch: 7 [28800/50000 (58%)]\tLoss: 0.535540\n",
      "Train Epoch: 7 [32000/50000 (64%)]\tLoss: 0.619151\n",
      "Train Epoch: 7 [35200/50000 (70%)]\tLoss: 0.195790\n",
      "Train Epoch: 7 [38400/50000 (77%)]\tLoss: 0.387615\n",
      "Train Epoch: 7 [41600/50000 (83%)]\tLoss: 0.599568\n",
      "Train Epoch: 7 [44800/50000 (90%)]\tLoss: 0.374054\n",
      "Train Epoch: 7 [48000/50000 (96%)]\tLoss: 0.631526\n"
     ]
    },
    {
     "name": "stderr",
     "output_type": "stream",
     "text": [
      "\r",
      " 14%|█▍        | 7/50 [28:43<2:55:45, 245.24s/it]"
     ]
    },
    {
     "name": "stdout",
     "output_type": "stream",
     "text": [
      "\n",
      "Train loss: 0.4437184858581294\n",
      "Train Epoch: 8 [0/50000 (0%)]\tLoss: 0.427858\n",
      "Train Epoch: 8 [3200/50000 (6%)]\tLoss: 0.445336\n",
      "Train Epoch: 8 [6400/50000 (13%)]\tLoss: 0.398551\n",
      "Train Epoch: 8 [9600/50000 (19%)]\tLoss: 0.448654\n",
      "Train Epoch: 8 [12800/50000 (26%)]\tLoss: 0.258056\n",
      "Train Epoch: 8 [16000/50000 (32%)]\tLoss: 0.391459\n",
      "Train Epoch: 8 [19200/50000 (38%)]\tLoss: 0.248684\n",
      "Train Epoch: 8 [22400/50000 (45%)]\tLoss: 0.385341\n",
      "Train Epoch: 8 [25600/50000 (51%)]\tLoss: 0.596585\n",
      "Train Epoch: 8 [28800/50000 (58%)]\tLoss: 0.269407\n",
      "Train Epoch: 8 [32000/50000 (64%)]\tLoss: 0.468710\n",
      "Train Epoch: 8 [35200/50000 (70%)]\tLoss: 0.344394\n",
      "Train Epoch: 8 [38400/50000 (77%)]\tLoss: 0.542826\n",
      "Train Epoch: 8 [41600/50000 (83%)]\tLoss: 0.438545\n",
      "Train Epoch: 8 [44800/50000 (90%)]\tLoss: 0.451333\n",
      "Train Epoch: 8 [48000/50000 (96%)]\tLoss: 0.365971\n"
     ]
    },
    {
     "name": "stderr",
     "output_type": "stream",
     "text": [
      "\r",
      " 16%|█▌        | 8/50 [32:26<2:46:55, 238.45s/it]"
     ]
    },
    {
     "name": "stdout",
     "output_type": "stream",
     "text": [
      "\n",
      "Train loss: 0.4051633324769452\n",
      "Train Epoch: 9 [0/50000 (0%)]\tLoss: 0.392578\n",
      "Train Epoch: 9 [3200/50000 (6%)]\tLoss: 0.308989\n",
      "Train Epoch: 9 [6400/50000 (13%)]\tLoss: 0.423820\n",
      "Train Epoch: 9 [9600/50000 (19%)]\tLoss: 0.365304\n",
      "Train Epoch: 9 [12800/50000 (26%)]\tLoss: 0.261421\n",
      "Train Epoch: 9 [16000/50000 (32%)]\tLoss: 0.299582\n",
      "Train Epoch: 9 [19200/50000 (38%)]\tLoss: 0.200719\n",
      "Train Epoch: 9 [22400/50000 (45%)]\tLoss: 0.238961\n",
      "Train Epoch: 9 [25600/50000 (51%)]\tLoss: 0.204786\n",
      "Train Epoch: 9 [28800/50000 (58%)]\tLoss: 0.473437\n",
      "Train Epoch: 9 [32000/50000 (64%)]\tLoss: 0.425240\n",
      "Train Epoch: 9 [35200/50000 (70%)]\tLoss: 0.366365\n",
      "Train Epoch: 9 [38400/50000 (77%)]\tLoss: 0.426361\n",
      "Train Epoch: 9 [41600/50000 (83%)]\tLoss: 0.455301\n",
      "Train Epoch: 9 [44800/50000 (90%)]\tLoss: 0.281832\n",
      "Train Epoch: 9 [48000/50000 (96%)]\tLoss: 0.176364\n"
     ]
    },
    {
     "name": "stderr",
     "output_type": "stream",
     "text": [
      "\r",
      " 18%|█▊        | 9/50 [35:57<2:37:18, 230.22s/it]"
     ]
    },
    {
     "name": "stdout",
     "output_type": "stream",
     "text": [
      "\n",
      "Train loss: 0.3732878008709692\n",
      "Train Epoch: 10 [0/50000 (0%)]\tLoss: 0.483980\n",
      "Train Epoch: 10 [3200/50000 (6%)]\tLoss: 0.422170\n",
      "Train Epoch: 10 [6400/50000 (13%)]\tLoss: 0.205450\n",
      "Train Epoch: 10 [9600/50000 (19%)]\tLoss: 0.416093\n",
      "Train Epoch: 10 [12800/50000 (26%)]\tLoss: 0.309345\n",
      "Train Epoch: 10 [16000/50000 (32%)]\tLoss: 0.503789\n",
      "Train Epoch: 10 [19200/50000 (38%)]\tLoss: 0.366543\n",
      "Train Epoch: 10 [22400/50000 (45%)]\tLoss: 0.164727\n",
      "Train Epoch: 10 [25600/50000 (51%)]\tLoss: 0.469490\n",
      "Train Epoch: 10 [28800/50000 (58%)]\tLoss: 0.389863\n",
      "Train Epoch: 10 [32000/50000 (64%)]\tLoss: 0.248859\n",
      "Train Epoch: 10 [35200/50000 (70%)]\tLoss: 0.357010\n",
      "Train Epoch: 10 [38400/50000 (77%)]\tLoss: 0.368701\n",
      "Train Epoch: 10 [41600/50000 (83%)]\tLoss: 0.363707\n",
      "Train Epoch: 10 [44800/50000 (90%)]\tLoss: 0.179140\n",
      "Train Epoch: 10 [48000/50000 (96%)]\tLoss: 0.274199\n"
     ]
    },
    {
     "name": "stderr",
     "output_type": "stream",
     "text": [
      "\r",
      " 20%|██        | 10/50 [39:26<2:29:23, 224.10s/it]"
     ]
    },
    {
     "name": "stdout",
     "output_type": "stream",
     "text": [
      "\n",
      "Train loss: 0.34866307690129866\n",
      "Train Epoch: 11 [0/50000 (0%)]\tLoss: 0.401827\n",
      "Train Epoch: 11 [3200/50000 (6%)]\tLoss: 0.325542\n",
      "Train Epoch: 11 [6400/50000 (13%)]\tLoss: 0.317713\n",
      "Train Epoch: 11 [9600/50000 (19%)]\tLoss: 0.228143\n",
      "Train Epoch: 11 [12800/50000 (26%)]\tLoss: 0.373799\n",
      "Train Epoch: 11 [16000/50000 (32%)]\tLoss: 0.523033\n",
      "Train Epoch: 11 [19200/50000 (38%)]\tLoss: 0.234899\n",
      "Train Epoch: 11 [22400/50000 (45%)]\tLoss: 0.268201\n",
      "Train Epoch: 11 [25600/50000 (51%)]\tLoss: 0.306681\n",
      "Train Epoch: 11 [28800/50000 (58%)]\tLoss: 0.443500\n",
      "Train Epoch: 11 [32000/50000 (64%)]\tLoss: 0.411216\n",
      "Train Epoch: 11 [35200/50000 (70%)]\tLoss: 0.318078\n",
      "Train Epoch: 11 [38400/50000 (77%)]\tLoss: 0.264266\n",
      "Train Epoch: 11 [41600/50000 (83%)]\tLoss: 0.415198\n",
      "Train Epoch: 11 [44800/50000 (90%)]\tLoss: 0.517891\n",
      "Train Epoch: 11 [48000/50000 (96%)]\tLoss: 0.121871\n"
     ]
    },
    {
     "name": "stderr",
     "output_type": "stream",
     "text": [
      "\r",
      " 22%|██▏       | 11/50 [42:56<2:22:53, 219.83s/it]"
     ]
    },
    {
     "name": "stdout",
     "output_type": "stream",
     "text": [
      "\n",
      "Train loss: 0.31855287482900085\n",
      "Train Epoch: 12 [0/50000 (0%)]\tLoss: 0.263391\n",
      "Train Epoch: 12 [3200/50000 (6%)]\tLoss: 0.469549\n",
      "Train Epoch: 12 [6400/50000 (13%)]\tLoss: 0.346284\n",
      "Train Epoch: 12 [9600/50000 (19%)]\tLoss: 0.249768\n",
      "Train Epoch: 12 [12800/50000 (26%)]\tLoss: 0.200948\n",
      "Train Epoch: 12 [16000/50000 (32%)]\tLoss: 0.173920\n",
      "Train Epoch: 12 [19200/50000 (38%)]\tLoss: 0.391621\n",
      "Train Epoch: 12 [22400/50000 (45%)]\tLoss: 0.320816\n",
      "Train Epoch: 12 [25600/50000 (51%)]\tLoss: 0.317919\n",
      "Train Epoch: 12 [28800/50000 (58%)]\tLoss: 0.130810\n",
      "Train Epoch: 12 [32000/50000 (64%)]\tLoss: 0.255390\n",
      "Train Epoch: 12 [35200/50000 (70%)]\tLoss: 0.412933\n",
      "Train Epoch: 12 [38400/50000 (77%)]\tLoss: 0.201489\n",
      "Train Epoch: 12 [41600/50000 (83%)]\tLoss: 0.472621\n",
      "Train Epoch: 12 [44800/50000 (90%)]\tLoss: 0.240219\n",
      "Train Epoch: 12 [48000/50000 (96%)]\tLoss: 0.228891\n"
     ]
    },
    {
     "name": "stderr",
     "output_type": "stream",
     "text": [
      "\r",
      " 24%|██▍       | 12/50 [46:38<2:19:32, 220.33s/it]"
     ]
    },
    {
     "name": "stdout",
     "output_type": "stream",
     "text": [
      "\n",
      "Train loss: 0.29782287583059974\n",
      "Train Epoch: 13 [0/50000 (0%)]\tLoss: 0.163375\n",
      "Train Epoch: 13 [3200/50000 (6%)]\tLoss: 0.343794\n",
      "Train Epoch: 13 [6400/50000 (13%)]\tLoss: 0.274727\n",
      "Train Epoch: 13 [9600/50000 (19%)]\tLoss: 0.326917\n",
      "Train Epoch: 13 [12800/50000 (26%)]\tLoss: 0.326268\n",
      "Train Epoch: 13 [16000/50000 (32%)]\tLoss: 0.266434\n",
      "Train Epoch: 13 [19200/50000 (38%)]\tLoss: 0.323284\n",
      "Train Epoch: 13 [22400/50000 (45%)]\tLoss: 0.311091\n",
      "Train Epoch: 13 [25600/50000 (51%)]\tLoss: 0.279012\n",
      "Train Epoch: 13 [28800/50000 (58%)]\tLoss: 0.184487\n",
      "Train Epoch: 13 [32000/50000 (64%)]\tLoss: 0.182746\n",
      "Train Epoch: 13 [35200/50000 (70%)]\tLoss: 0.372799\n",
      "Train Epoch: 13 [38400/50000 (77%)]\tLoss: 0.314873\n",
      "Train Epoch: 13 [41600/50000 (83%)]\tLoss: 0.229185\n",
      "Train Epoch: 13 [44800/50000 (90%)]\tLoss: 0.206063\n",
      "Train Epoch: 13 [48000/50000 (96%)]\tLoss: 0.240771\n"
     ]
    },
    {
     "name": "stderr",
     "output_type": "stream",
     "text": [
      "\r",
      " 26%|██▌       | 13/50 [50:48<2:21:28, 229.42s/it]"
     ]
    },
    {
     "name": "stdout",
     "output_type": "stream",
     "text": [
      "\n",
      "Train loss: 0.2758279816078408\n",
      "Train Epoch: 14 [0/50000 (0%)]\tLoss: 0.390340\n",
      "Train Epoch: 14 [3200/50000 (6%)]\tLoss: 0.150031\n",
      "Train Epoch: 14 [6400/50000 (13%)]\tLoss: 0.221140\n",
      "Train Epoch: 14 [9600/50000 (19%)]\tLoss: 0.121372\n",
      "Train Epoch: 14 [12800/50000 (26%)]\tLoss: 0.373174\n",
      "Train Epoch: 14 [16000/50000 (32%)]\tLoss: 0.287331\n",
      "Train Epoch: 14 [19200/50000 (38%)]\tLoss: 0.170330\n",
      "Train Epoch: 14 [22400/50000 (45%)]\tLoss: 0.328176\n",
      "Train Epoch: 14 [25600/50000 (51%)]\tLoss: 0.195177\n",
      "Train Epoch: 14 [28800/50000 (58%)]\tLoss: 0.218522\n",
      "Train Epoch: 14 [32000/50000 (64%)]\tLoss: 0.328851\n",
      "Train Epoch: 14 [35200/50000 (70%)]\tLoss: 0.310977\n",
      "Train Epoch: 14 [38400/50000 (77%)]\tLoss: 0.130204\n",
      "Train Epoch: 14 [41600/50000 (83%)]\tLoss: 0.255447\n",
      "Train Epoch: 14 [44800/50000 (90%)]\tLoss: 0.156635\n",
      "Train Epoch: 14 [48000/50000 (96%)]\tLoss: 0.209676\n"
     ]
    },
    {
     "name": "stderr",
     "output_type": "stream",
     "text": [
      "\r",
      " 28%|██▊       | 14/50 [55:02<2:21:57, 236.61s/it]"
     ]
    },
    {
     "name": "stdout",
     "output_type": "stream",
     "text": [
      "\n",
      "Train loss: 0.257444813228248\n",
      "Train Epoch: 15 [0/50000 (0%)]\tLoss: 0.138106\n",
      "Train Epoch: 15 [3200/50000 (6%)]\tLoss: 0.296062\n",
      "Train Epoch: 15 [6400/50000 (13%)]\tLoss: 0.245617\n",
      "Train Epoch: 15 [9600/50000 (19%)]\tLoss: 0.242523\n",
      "Train Epoch: 15 [12800/50000 (26%)]\tLoss: 0.298327\n",
      "Train Epoch: 15 [16000/50000 (32%)]\tLoss: 0.162458\n",
      "Train Epoch: 15 [19200/50000 (38%)]\tLoss: 0.251908\n",
      "Train Epoch: 15 [22400/50000 (45%)]\tLoss: 0.153923\n",
      "Train Epoch: 15 [25600/50000 (51%)]\tLoss: 0.296391\n",
      "Train Epoch: 15 [28800/50000 (58%)]\tLoss: 0.148735\n",
      "Train Epoch: 15 [32000/50000 (64%)]\tLoss: 0.269591\n",
      "Train Epoch: 15 [35200/50000 (70%)]\tLoss: 0.211341\n",
      "Train Epoch: 15 [38400/50000 (77%)]\tLoss: 0.174940\n",
      "Train Epoch: 15 [41600/50000 (83%)]\tLoss: 0.676760\n",
      "Train Epoch: 15 [44800/50000 (90%)]\tLoss: 0.266280\n",
      "Train Epoch: 15 [48000/50000 (96%)]\tLoss: 0.397708\n"
     ]
    },
    {
     "name": "stderr",
     "output_type": "stream",
     "text": [
      "\r",
      " 30%|███       | 15/50 [59:13<2:20:32, 240.93s/it]"
     ]
    },
    {
     "name": "stdout",
     "output_type": "stream",
     "text": [
      "\n",
      "Train loss: 0.2372705131064138\n",
      "Train Epoch: 16 [0/50000 (0%)]\tLoss: 0.139485\n",
      "Train Epoch: 16 [3200/50000 (6%)]\tLoss: 0.396773\n",
      "Train Epoch: 16 [6400/50000 (13%)]\tLoss: 0.205509\n",
      "Train Epoch: 16 [9600/50000 (19%)]\tLoss: 0.343147\n",
      "Train Epoch: 16 [12800/50000 (26%)]\tLoss: 0.221926\n",
      "Train Epoch: 16 [16000/50000 (32%)]\tLoss: 0.173095\n",
      "Train Epoch: 16 [19200/50000 (38%)]\tLoss: 0.091669\n",
      "Train Epoch: 16 [22400/50000 (45%)]\tLoss: 0.245728\n",
      "Train Epoch: 16 [25600/50000 (51%)]\tLoss: 0.247083\n",
      "Train Epoch: 16 [28800/50000 (58%)]\tLoss: 0.242251\n",
      "Train Epoch: 16 [32000/50000 (64%)]\tLoss: 0.157017\n",
      "Train Epoch: 16 [35200/50000 (70%)]\tLoss: 0.140369\n",
      "Train Epoch: 16 [38400/50000 (77%)]\tLoss: 0.149864\n",
      "Train Epoch: 16 [41600/50000 (83%)]\tLoss: 0.157218\n",
      "Train Epoch: 16 [44800/50000 (90%)]\tLoss: 0.191488\n",
      "Train Epoch: 16 [48000/50000 (96%)]\tLoss: 0.212035\n"
     ]
    },
    {
     "name": "stderr",
     "output_type": "stream",
     "text": [
      "\r",
      " 32%|███▏      | 16/50 [1:03:26<2:18:37, 244.63s/it]"
     ]
    },
    {
     "name": "stdout",
     "output_type": "stream",
     "text": [
      "\n",
      "Train loss: 0.22226060445770582\n",
      "Train Epoch: 17 [0/50000 (0%)]\tLoss: 0.291332\n",
      "Train Epoch: 17 [3200/50000 (6%)]\tLoss: 0.211173\n",
      "Train Epoch: 17 [6400/50000 (13%)]\tLoss: 0.135003\n",
      "Train Epoch: 17 [9600/50000 (19%)]\tLoss: 0.192772\n",
      "Train Epoch: 17 [12800/50000 (26%)]\tLoss: 0.225275\n",
      "Train Epoch: 17 [16000/50000 (32%)]\tLoss: 0.280626\n",
      "Train Epoch: 17 [19200/50000 (38%)]\tLoss: 0.199029\n",
      "Train Epoch: 17 [22400/50000 (45%)]\tLoss: 0.072007\n",
      "Train Epoch: 17 [25600/50000 (51%)]\tLoss: 0.161027\n",
      "Train Epoch: 17 [28800/50000 (58%)]\tLoss: 0.322131\n",
      "Train Epoch: 17 [32000/50000 (64%)]\tLoss: 0.105469\n",
      "Train Epoch: 17 [35200/50000 (70%)]\tLoss: 0.348840\n",
      "Train Epoch: 17 [38400/50000 (77%)]\tLoss: 0.252998\n",
      "Train Epoch: 17 [41600/50000 (83%)]\tLoss: 0.242818\n",
      "Train Epoch: 17 [44800/50000 (90%)]\tLoss: 0.198937\n",
      "Train Epoch: 17 [48000/50000 (96%)]\tLoss: 0.073203\n"
     ]
    },
    {
     "name": "stderr",
     "output_type": "stream",
     "text": [
      "\r",
      " 34%|███▍      | 17/50 [1:07:33<2:14:53, 245.25s/it]"
     ]
    },
    {
     "name": "stdout",
     "output_type": "stream",
     "text": [
      "\n",
      "Train loss: 0.20662357359695846\n",
      "Train Epoch: 18 [0/50000 (0%)]\tLoss: 0.209307\n",
      "Train Epoch: 18 [3200/50000 (6%)]\tLoss: 0.114925\n",
      "Train Epoch: 18 [6400/50000 (13%)]\tLoss: 0.193913\n",
      "Train Epoch: 18 [9600/50000 (19%)]\tLoss: 0.161228\n",
      "Train Epoch: 18 [12800/50000 (26%)]\tLoss: 0.145219\n",
      "Train Epoch: 18 [16000/50000 (32%)]\tLoss: 0.227979\n",
      "Train Epoch: 18 [19200/50000 (38%)]\tLoss: 0.319239\n",
      "Train Epoch: 18 [22400/50000 (45%)]\tLoss: 0.102028\n",
      "Train Epoch: 18 [25600/50000 (51%)]\tLoss: 0.076577\n",
      "Train Epoch: 18 [28800/50000 (58%)]\tLoss: 0.105943\n",
      "Train Epoch: 18 [32000/50000 (64%)]\tLoss: 0.142917\n",
      "Train Epoch: 18 [35200/50000 (70%)]\tLoss: 0.229553\n",
      "Train Epoch: 18 [38400/50000 (77%)]\tLoss: 0.352555\n",
      "Train Epoch: 18 [41600/50000 (83%)]\tLoss: 0.090471\n",
      "Train Epoch: 18 [44800/50000 (90%)]\tLoss: 0.241925\n",
      "Train Epoch: 18 [48000/50000 (96%)]\tLoss: 0.143474\n"
     ]
    },
    {
     "name": "stderr",
     "output_type": "stream",
     "text": [
      "\r",
      " 36%|███▌      | 18/50 [1:11:33<2:10:00, 243.77s/it]"
     ]
    },
    {
     "name": "stdout",
     "output_type": "stream",
     "text": [
      "\n",
      "Train loss: 0.19315483883175705\n",
      "Train Epoch: 19 [0/50000 (0%)]\tLoss: 0.237749\n",
      "Train Epoch: 19 [3200/50000 (6%)]\tLoss: 0.076547\n",
      "Train Epoch: 19 [6400/50000 (13%)]\tLoss: 0.212482\n",
      "Train Epoch: 19 [9600/50000 (19%)]\tLoss: 0.137078\n",
      "Train Epoch: 19 [12800/50000 (26%)]\tLoss: 0.260462\n",
      "Train Epoch: 19 [16000/50000 (32%)]\tLoss: 0.109389\n",
      "Train Epoch: 19 [19200/50000 (38%)]\tLoss: 0.077725\n",
      "Train Epoch: 19 [22400/50000 (45%)]\tLoss: 0.211435\n",
      "Train Epoch: 19 [25600/50000 (51%)]\tLoss: 0.290066\n",
      "Train Epoch: 19 [28800/50000 (58%)]\tLoss: 0.142463\n",
      "Train Epoch: 19 [32000/50000 (64%)]\tLoss: 0.072169\n",
      "Train Epoch: 19 [35200/50000 (70%)]\tLoss: 0.161117\n",
      "Train Epoch: 19 [38400/50000 (77%)]\tLoss: 0.358771\n",
      "Train Epoch: 19 [41600/50000 (83%)]\tLoss: 0.110366\n",
      "Train Epoch: 19 [44800/50000 (90%)]\tLoss: 0.113791\n",
      "Train Epoch: 19 [48000/50000 (96%)]\tLoss: 0.069357\n"
     ]
    },
    {
     "name": "stderr",
     "output_type": "stream",
     "text": [
      "\r",
      " 38%|███▊      | 19/50 [1:15:46<2:07:26, 246.65s/it]"
     ]
    },
    {
     "name": "stdout",
     "output_type": "stream",
     "text": [
      "\n",
      "Train loss: 0.18133796438517624\n",
      "Train Epoch: 20 [0/50000 (0%)]\tLoss: 0.128417\n",
      "Train Epoch: 20 [3200/50000 (6%)]\tLoss: 0.130815\n",
      "Train Epoch: 20 [6400/50000 (13%)]\tLoss: 0.134126\n",
      "Train Epoch: 20 [9600/50000 (19%)]\tLoss: 0.197939\n",
      "Train Epoch: 20 [12800/50000 (26%)]\tLoss: 0.097966\n",
      "Train Epoch: 20 [16000/50000 (32%)]\tLoss: 0.140315\n",
      "Train Epoch: 20 [19200/50000 (38%)]\tLoss: 0.304182\n",
      "Train Epoch: 20 [22400/50000 (45%)]\tLoss: 0.134112\n",
      "Train Epoch: 20 [25600/50000 (51%)]\tLoss: 0.313221\n",
      "Train Epoch: 20 [28800/50000 (58%)]\tLoss: 0.159087\n",
      "Train Epoch: 20 [32000/50000 (64%)]\tLoss: 0.119336\n",
      "Train Epoch: 20 [35200/50000 (70%)]\tLoss: 0.154048\n",
      "Train Epoch: 20 [38400/50000 (77%)]\tLoss: 0.143961\n",
      "Train Epoch: 20 [41600/50000 (83%)]\tLoss: 0.156776\n",
      "Train Epoch: 20 [44800/50000 (90%)]\tLoss: 0.220060\n",
      "Train Epoch: 20 [48000/50000 (96%)]\tLoss: 0.120168\n"
     ]
    },
    {
     "name": "stderr",
     "output_type": "stream",
     "text": [
      "\r",
      " 40%|████      | 20/50 [1:19:49<2:02:43, 245.46s/it]"
     ]
    },
    {
     "name": "stdout",
     "output_type": "stream",
     "text": [
      "\n",
      "Train loss: 0.17250575566821544\n",
      "Train Epoch: 21 [0/50000 (0%)]\tLoss: 0.176193\n",
      "Train Epoch: 21 [3200/50000 (6%)]\tLoss: 0.265589\n",
      "Train Epoch: 21 [6400/50000 (13%)]\tLoss: 0.246988\n",
      "Train Epoch: 21 [9600/50000 (19%)]\tLoss: 0.139443\n",
      "Train Epoch: 21 [12800/50000 (26%)]\tLoss: 0.390430\n",
      "Train Epoch: 21 [16000/50000 (32%)]\tLoss: 0.235793\n",
      "Train Epoch: 21 [19200/50000 (38%)]\tLoss: 0.163789\n",
      "Train Epoch: 21 [22400/50000 (45%)]\tLoss: 0.223794\n",
      "Train Epoch: 21 [25600/50000 (51%)]\tLoss: 0.130705\n",
      "Train Epoch: 21 [28800/50000 (58%)]\tLoss: 0.110428\n",
      "Train Epoch: 21 [32000/50000 (64%)]\tLoss: 0.178408\n",
      "Train Epoch: 21 [35200/50000 (70%)]\tLoss: 0.196196\n",
      "Train Epoch: 21 [38400/50000 (77%)]\tLoss: 0.186978\n",
      "Train Epoch: 21 [41600/50000 (83%)]\tLoss: 0.248360\n",
      "Train Epoch: 21 [44800/50000 (90%)]\tLoss: 0.169962\n",
      "Train Epoch: 21 [48000/50000 (96%)]\tLoss: 0.109000\n"
     ]
    },
    {
     "name": "stderr",
     "output_type": "stream",
     "text": [
      "\r",
      " 42%|████▏     | 21/50 [1:23:47<1:57:32, 243.18s/it]"
     ]
    },
    {
     "name": "stdout",
     "output_type": "stream",
     "text": [
      "\n",
      "Train loss: 0.16176610239698072\n",
      "Train Epoch: 22 [0/50000 (0%)]\tLoss: 0.065086\n",
      "Train Epoch: 22 [3200/50000 (6%)]\tLoss: 0.035981\n",
      "Train Epoch: 22 [6400/50000 (13%)]\tLoss: 0.073782\n",
      "Train Epoch: 22 [9600/50000 (19%)]\tLoss: 0.080106\n",
      "Train Epoch: 22 [12800/50000 (26%)]\tLoss: 0.024171\n",
      "Train Epoch: 22 [16000/50000 (32%)]\tLoss: 0.127642\n",
      "Train Epoch: 22 [19200/50000 (38%)]\tLoss: 0.186467\n",
      "Train Epoch: 22 [22400/50000 (45%)]\tLoss: 0.195009\n",
      "Train Epoch: 22 [25600/50000 (51%)]\tLoss: 0.299245\n",
      "Train Epoch: 22 [28800/50000 (58%)]\tLoss: 0.092805\n",
      "Train Epoch: 22 [32000/50000 (64%)]\tLoss: 0.159781\n",
      "Train Epoch: 22 [35200/50000 (70%)]\tLoss: 0.208816\n",
      "Train Epoch: 22 [38400/50000 (77%)]\tLoss: 0.124415\n",
      "Train Epoch: 22 [41600/50000 (83%)]\tLoss: 0.237669\n",
      "Train Epoch: 22 [44800/50000 (90%)]\tLoss: 0.117922\n",
      "Train Epoch: 22 [48000/50000 (96%)]\tLoss: 0.318243\n"
     ]
    },
    {
     "name": "stderr",
     "output_type": "stream",
     "text": [
      "\r",
      " 44%|████▍     | 22/50 [1:27:58<1:54:35, 245.56s/it]"
     ]
    },
    {
     "name": "stdout",
     "output_type": "stream",
     "text": [
      "\n",
      "Train loss: 0.15228685910296638\n",
      "Train Epoch: 23 [0/50000 (0%)]\tLoss: 0.119051\n",
      "Train Epoch: 23 [3200/50000 (6%)]\tLoss: 0.131198\n",
      "Train Epoch: 23 [6400/50000 (13%)]\tLoss: 0.113358\n",
      "Train Epoch: 23 [9600/50000 (19%)]\tLoss: 0.252619\n",
      "Train Epoch: 23 [12800/50000 (26%)]\tLoss: 0.318615\n",
      "Train Epoch: 23 [16000/50000 (32%)]\tLoss: 0.079304\n",
      "Train Epoch: 23 [19200/50000 (38%)]\tLoss: 0.167406\n",
      "Train Epoch: 23 [22400/50000 (45%)]\tLoss: 0.167696\n",
      "Train Epoch: 23 [25600/50000 (51%)]\tLoss: 0.134864\n",
      "Train Epoch: 23 [28800/50000 (58%)]\tLoss: 0.160097\n",
      "Train Epoch: 23 [32000/50000 (64%)]\tLoss: 0.130571\n",
      "Train Epoch: 23 [35200/50000 (70%)]\tLoss: 0.191070\n",
      "Train Epoch: 23 [38400/50000 (77%)]\tLoss: 0.257977\n",
      "Train Epoch: 23 [41600/50000 (83%)]\tLoss: 0.200485\n",
      "Train Epoch: 23 [44800/50000 (90%)]\tLoss: 0.144121\n",
      "Train Epoch: 23 [48000/50000 (96%)]\tLoss: 0.284950\n"
     ]
    },
    {
     "name": "stderr",
     "output_type": "stream",
     "text": [
      "\r",
      " 46%|████▌     | 23/50 [1:32:08<1:51:08, 246.98s/it]"
     ]
    },
    {
     "name": "stdout",
     "output_type": "stream",
     "text": [
      "\n",
      "Train loss: 0.145354752609854\n",
      "Train Epoch: 24 [0/50000 (0%)]\tLoss: 0.079784\n",
      "Train Epoch: 24 [3200/50000 (6%)]\tLoss: 0.121973\n",
      "Train Epoch: 24 [6400/50000 (13%)]\tLoss: 0.205262\n",
      "Train Epoch: 24 [9600/50000 (19%)]\tLoss: 0.185858\n",
      "Train Epoch: 24 [12800/50000 (26%)]\tLoss: 0.177464\n",
      "Train Epoch: 24 [16000/50000 (32%)]\tLoss: 0.214008\n",
      "Train Epoch: 24 [19200/50000 (38%)]\tLoss: 0.059075\n",
      "Train Epoch: 24 [22400/50000 (45%)]\tLoss: 0.123568\n",
      "Train Epoch: 24 [25600/50000 (51%)]\tLoss: 0.108738\n",
      "Train Epoch: 24 [28800/50000 (58%)]\tLoss: 0.233688\n",
      "Train Epoch: 24 [32000/50000 (64%)]\tLoss: 0.222522\n",
      "Train Epoch: 24 [35200/50000 (70%)]\tLoss: 0.120162\n",
      "Train Epoch: 24 [38400/50000 (77%)]\tLoss: 0.117378\n",
      "Train Epoch: 24 [41600/50000 (83%)]\tLoss: 0.166360\n",
      "Train Epoch: 24 [44800/50000 (90%)]\tLoss: 0.126590\n",
      "Train Epoch: 24 [48000/50000 (96%)]\tLoss: 0.324324\n"
     ]
    },
    {
     "name": "stderr",
     "output_type": "stream",
     "text": [
      "\r",
      " 48%|████▊     | 24/50 [1:36:18<1:47:25, 247.90s/it]"
     ]
    },
    {
     "name": "stdout",
     "output_type": "stream",
     "text": [
      "\n",
      "Train loss: 0.13017529814058673\n",
      "Train Epoch: 25 [0/50000 (0%)]\tLoss: 0.113213\n",
      "Train Epoch: 25 [3200/50000 (6%)]\tLoss: 0.052173\n",
      "Train Epoch: 25 [6400/50000 (13%)]\tLoss: 0.057014\n",
      "Train Epoch: 25 [9600/50000 (19%)]\tLoss: 0.088007\n",
      "Train Epoch: 25 [12800/50000 (26%)]\tLoss: 0.221625\n",
      "Train Epoch: 25 [16000/50000 (32%)]\tLoss: 0.096329\n",
      "Train Epoch: 25 [19200/50000 (38%)]\tLoss: 0.311531\n",
      "Train Epoch: 25 [22400/50000 (45%)]\tLoss: 0.087206\n",
      "Train Epoch: 25 [25600/50000 (51%)]\tLoss: 0.276354\n",
      "Train Epoch: 25 [28800/50000 (58%)]\tLoss: 0.075751\n",
      "Train Epoch: 25 [32000/50000 (64%)]\tLoss: 0.198597\n",
      "Train Epoch: 25 [35200/50000 (70%)]\tLoss: 0.105953\n",
      "Train Epoch: 25 [38400/50000 (77%)]\tLoss: 0.082229\n",
      "Train Epoch: 25 [41600/50000 (83%)]\tLoss: 0.108841\n",
      "Train Epoch: 25 [44800/50000 (90%)]\tLoss: 0.164538\n",
      "Train Epoch: 25 [48000/50000 (96%)]\tLoss: 0.227609\n"
     ]
    },
    {
     "name": "stderr",
     "output_type": "stream",
     "text": [
      "\r",
      " 50%|█████     | 25/50 [1:40:23<1:42:55, 247.03s/it]"
     ]
    },
    {
     "name": "stdout",
     "output_type": "stream",
     "text": [
      "\n",
      "Train loss: 0.12916996969443645\n",
      "Train Epoch: 26 [0/50000 (0%)]\tLoss: 0.050586\n",
      "Train Epoch: 26 [3200/50000 (6%)]\tLoss: 0.091448\n",
      "Train Epoch: 26 [6400/50000 (13%)]\tLoss: 0.064275\n",
      "Train Epoch: 26 [9600/50000 (19%)]\tLoss: 0.086418\n",
      "Train Epoch: 26 [12800/50000 (26%)]\tLoss: 0.163685\n",
      "Train Epoch: 26 [16000/50000 (32%)]\tLoss: 0.083863\n",
      "Train Epoch: 26 [19200/50000 (38%)]\tLoss: 0.214619\n",
      "Train Epoch: 26 [22400/50000 (45%)]\tLoss: 0.168122\n",
      "Train Epoch: 26 [25600/50000 (51%)]\tLoss: 0.115631\n",
      "Train Epoch: 26 [28800/50000 (58%)]\tLoss: 0.114324\n",
      "Train Epoch: 26 [32000/50000 (64%)]\tLoss: 0.206818\n",
      "Train Epoch: 26 [35200/50000 (70%)]\tLoss: 0.071167\n",
      "Train Epoch: 26 [38400/50000 (77%)]\tLoss: 0.129161\n",
      "Train Epoch: 26 [41600/50000 (83%)]\tLoss: 0.122122\n",
      "Train Epoch: 26 [44800/50000 (90%)]\tLoss: 0.021023\n",
      "Train Epoch: 26 [48000/50000 (96%)]\tLoss: 0.123847\n"
     ]
    },
    {
     "name": "stderr",
     "output_type": "stream",
     "text": [
      "\r",
      " 52%|█████▏    | 26/50 [1:43:52<1:34:15, 235.63s/it]"
     ]
    },
    {
     "name": "stdout",
     "output_type": "stream",
     "text": [
      "\n",
      "Train loss: 0.1181342292962896\n",
      "Train Epoch: 27 [0/50000 (0%)]\tLoss: 0.059892\n",
      "Train Epoch: 27 [3200/50000 (6%)]\tLoss: 0.070408\n",
      "Train Epoch: 27 [6400/50000 (13%)]\tLoss: 0.054053\n",
      "Train Epoch: 27 [9600/50000 (19%)]\tLoss: 0.051499\n",
      "Train Epoch: 27 [12800/50000 (26%)]\tLoss: 0.097255\n",
      "Train Epoch: 27 [16000/50000 (32%)]\tLoss: 0.093823\n",
      "Train Epoch: 27 [19200/50000 (38%)]\tLoss: 0.129764\n",
      "Train Epoch: 27 [22400/50000 (45%)]\tLoss: 0.128525\n",
      "Train Epoch: 27 [25600/50000 (51%)]\tLoss: 0.015048\n",
      "Train Epoch: 27 [28800/50000 (58%)]\tLoss: 0.130035\n",
      "Train Epoch: 27 [32000/50000 (64%)]\tLoss: 0.233999\n",
      "Train Epoch: 27 [35200/50000 (70%)]\tLoss: 0.136806\n",
      "Train Epoch: 27 [38400/50000 (77%)]\tLoss: 0.104670\n",
      "Train Epoch: 27 [41600/50000 (83%)]\tLoss: 0.068940\n",
      "Train Epoch: 27 [44800/50000 (90%)]\tLoss: 0.054212\n",
      "Train Epoch: 27 [48000/50000 (96%)]\tLoss: 0.281289\n"
     ]
    },
    {
     "name": "stderr",
     "output_type": "stream",
     "text": [
      "\r",
      " 54%|█████▍    | 27/50 [1:47:21<1:27:11, 227.44s/it]"
     ]
    },
    {
     "name": "stdout",
     "output_type": "stream",
     "text": [
      "\n",
      "Train loss: 0.12342818609565077\n",
      "Train Epoch: 28 [0/50000 (0%)]\tLoss: 0.018939\n",
      "Train Epoch: 28 [3200/50000 (6%)]\tLoss: 0.144110\n",
      "Train Epoch: 28 [6400/50000 (13%)]\tLoss: 0.055151\n",
      "Train Epoch: 28 [9600/50000 (19%)]\tLoss: 0.038898\n",
      "Train Epoch: 28 [12800/50000 (26%)]\tLoss: 0.068275\n",
      "Train Epoch: 28 [16000/50000 (32%)]\tLoss: 0.120815\n",
      "Train Epoch: 28 [19200/50000 (38%)]\tLoss: 0.336030\n",
      "Train Epoch: 28 [22400/50000 (45%)]\tLoss: 0.040894\n",
      "Train Epoch: 28 [25600/50000 (51%)]\tLoss: 0.053709\n",
      "Train Epoch: 28 [28800/50000 (58%)]\tLoss: 0.136513\n",
      "Train Epoch: 28 [32000/50000 (64%)]\tLoss: 0.051242\n",
      "Train Epoch: 28 [35200/50000 (70%)]\tLoss: 0.053681\n",
      "Train Epoch: 28 [38400/50000 (77%)]\tLoss: 0.168191\n",
      "Train Epoch: 28 [41600/50000 (83%)]\tLoss: 0.135958\n",
      "Train Epoch: 28 [44800/50000 (90%)]\tLoss: 0.117637\n",
      "Train Epoch: 28 [48000/50000 (96%)]\tLoss: 0.111984\n"
     ]
    },
    {
     "name": "stderr",
     "output_type": "stream",
     "text": [
      "\r",
      " 56%|█████▌    | 28/50 [1:51:11<1:23:44, 228.37s/it]"
     ]
    },
    {
     "name": "stdout",
     "output_type": "stream",
     "text": [
      "\n",
      "Train loss: 0.11466240415783108\n",
      "Train Epoch: 29 [0/50000 (0%)]\tLoss: 0.157676\n",
      "Train Epoch: 29 [3200/50000 (6%)]\tLoss: 0.133105\n",
      "Train Epoch: 29 [6400/50000 (13%)]\tLoss: 0.047790\n",
      "Train Epoch: 29 [9600/50000 (19%)]\tLoss: 0.038560\n",
      "Train Epoch: 29 [12800/50000 (26%)]\tLoss: 0.123573\n",
      "Train Epoch: 29 [16000/50000 (32%)]\tLoss: 0.042843\n",
      "Train Epoch: 29 [19200/50000 (38%)]\tLoss: 0.012910\n",
      "Train Epoch: 29 [22400/50000 (45%)]\tLoss: 0.131289\n",
      "Train Epoch: 29 [25600/50000 (51%)]\tLoss: 0.127060\n",
      "Train Epoch: 29 [28800/50000 (58%)]\tLoss: 0.106216\n",
      "Train Epoch: 29 [32000/50000 (64%)]\tLoss: 0.126562\n",
      "Train Epoch: 29 [35200/50000 (70%)]\tLoss: 0.150828\n",
      "Train Epoch: 29 [38400/50000 (77%)]\tLoss: 0.046368\n",
      "Train Epoch: 29 [41600/50000 (83%)]\tLoss: 0.089884\n",
      "Train Epoch: 29 [44800/50000 (90%)]\tLoss: 0.170563\n",
      "Train Epoch: 29 [48000/50000 (96%)]\tLoss: 0.068897\n"
     ]
    },
    {
     "name": "stderr",
     "output_type": "stream",
     "text": [
      "\r",
      " 58%|█████▊    | 29/50 [1:55:20<1:22:00, 234.33s/it]"
     ]
    },
    {
     "name": "stdout",
     "output_type": "stream",
     "text": [
      "\n",
      "Train loss: 0.1034788843720694\n",
      "Train Epoch: 30 [0/50000 (0%)]\tLoss: 0.050220\n",
      "Train Epoch: 30 [3200/50000 (6%)]\tLoss: 0.030633\n",
      "Train Epoch: 30 [6400/50000 (13%)]\tLoss: 0.086374\n",
      "Train Epoch: 30 [9600/50000 (19%)]\tLoss: 0.026391\n",
      "Train Epoch: 30 [12800/50000 (26%)]\tLoss: 0.169180\n",
      "Train Epoch: 30 [16000/50000 (32%)]\tLoss: 0.117161\n",
      "Train Epoch: 30 [19200/50000 (38%)]\tLoss: 0.192755\n",
      "Train Epoch: 30 [22400/50000 (45%)]\tLoss: 0.108436\n",
      "Train Epoch: 30 [25600/50000 (51%)]\tLoss: 0.153445\n",
      "Train Epoch: 30 [28800/50000 (58%)]\tLoss: 0.130817\n",
      "Train Epoch: 30 [32000/50000 (64%)]\tLoss: 0.052469\n",
      "Train Epoch: 30 [35200/50000 (70%)]\tLoss: 0.318680\n",
      "Train Epoch: 30 [38400/50000 (77%)]\tLoss: 0.130446\n",
      "Train Epoch: 30 [41600/50000 (83%)]\tLoss: 0.186924\n",
      "Train Epoch: 30 [44800/50000 (90%)]\tLoss: 0.110890\n",
      "Train Epoch: 30 [48000/50000 (96%)]\tLoss: 0.063070\n"
     ]
    },
    {
     "name": "stderr",
     "output_type": "stream",
     "text": [
      "\r",
      " 60%|██████    | 30/50 [1:58:47<1:15:23, 226.15s/it]"
     ]
    },
    {
     "name": "stdout",
     "output_type": "stream",
     "text": [
      "\n",
      "Train loss: 0.10120865380596322\n",
      "Train Epoch: 31 [0/50000 (0%)]\tLoss: 0.086972\n",
      "Train Epoch: 31 [3200/50000 (6%)]\tLoss: 0.074576\n",
      "Train Epoch: 31 [6400/50000 (13%)]\tLoss: 0.031283\n",
      "Train Epoch: 31 [9600/50000 (19%)]\tLoss: 0.081187\n",
      "Train Epoch: 31 [12800/50000 (26%)]\tLoss: 0.037360\n",
      "Train Epoch: 31 [16000/50000 (32%)]\tLoss: 0.065806\n",
      "Train Epoch: 31 [19200/50000 (38%)]\tLoss: 0.101788\n",
      "Train Epoch: 31 [22400/50000 (45%)]\tLoss: 0.023400\n",
      "Train Epoch: 31 [25600/50000 (51%)]\tLoss: 0.022394\n",
      "Train Epoch: 31 [28800/50000 (58%)]\tLoss: 0.048727\n",
      "Train Epoch: 31 [32000/50000 (64%)]\tLoss: 0.051057\n",
      "Train Epoch: 31 [35200/50000 (70%)]\tLoss: 0.072017\n",
      "Train Epoch: 31 [38400/50000 (77%)]\tLoss: 0.119039\n",
      "Train Epoch: 31 [41600/50000 (83%)]\tLoss: 0.053365\n",
      "Train Epoch: 31 [44800/50000 (90%)]\tLoss: 0.022607\n",
      "Train Epoch: 31 [48000/50000 (96%)]\tLoss: 0.085187\n"
     ]
    },
    {
     "name": "stderr",
     "output_type": "stream",
     "text": [
      "\r",
      " 62%|██████▏   | 31/50 [2:02:13<1:09:45, 220.27s/it]"
     ]
    },
    {
     "name": "stdout",
     "output_type": "stream",
     "text": [
      "\n",
      "Train loss: 0.09815478093577953\n",
      "Train Epoch: 32 [0/50000 (0%)]\tLoss: 0.064004\n",
      "Train Epoch: 32 [3200/50000 (6%)]\tLoss: 0.258478\n",
      "Train Epoch: 32 [6400/50000 (13%)]\tLoss: 0.094929\n",
      "Train Epoch: 32 [9600/50000 (19%)]\tLoss: 0.085230\n",
      "Train Epoch: 32 [12800/50000 (26%)]\tLoss: 0.122995\n",
      "Train Epoch: 32 [16000/50000 (32%)]\tLoss: 0.037043\n",
      "Train Epoch: 32 [19200/50000 (38%)]\tLoss: 0.096963\n",
      "Train Epoch: 32 [22400/50000 (45%)]\tLoss: 0.100204\n",
      "Train Epoch: 32 [25600/50000 (51%)]\tLoss: 0.107330\n",
      "Train Epoch: 32 [28800/50000 (58%)]\tLoss: 0.121590\n",
      "Train Epoch: 32 [32000/50000 (64%)]\tLoss: 0.055506\n",
      "Train Epoch: 32 [35200/50000 (70%)]\tLoss: 0.080607\n",
      "Train Epoch: 32 [38400/50000 (77%)]\tLoss: 0.090643\n",
      "Train Epoch: 32 [41600/50000 (83%)]\tLoss: 0.045007\n",
      "Train Epoch: 32 [44800/50000 (90%)]\tLoss: 0.061919\n",
      "Train Epoch: 32 [48000/50000 (96%)]\tLoss: 0.029517\n"
     ]
    },
    {
     "name": "stderr",
     "output_type": "stream",
     "text": [
      "\r",
      " 64%|██████▍   | 32/50 [2:05:42<1:05:02, 216.78s/it]"
     ]
    },
    {
     "name": "stdout",
     "output_type": "stream",
     "text": [
      "\n",
      "Train loss: 0.08968160063852473\n",
      "Train Epoch: 33 [0/50000 (0%)]\tLoss: 0.027260\n",
      "Train Epoch: 33 [3200/50000 (6%)]\tLoss: 0.057779\n",
      "Train Epoch: 33 [6400/50000 (13%)]\tLoss: 0.006136\n",
      "Train Epoch: 33 [9600/50000 (19%)]\tLoss: 0.135184\n",
      "Train Epoch: 33 [12800/50000 (26%)]\tLoss: 0.064070\n",
      "Train Epoch: 33 [16000/50000 (32%)]\tLoss: 0.070433\n",
      "Train Epoch: 33 [19200/50000 (38%)]\tLoss: 0.020534\n",
      "Train Epoch: 33 [22400/50000 (45%)]\tLoss: 0.056312\n",
      "Train Epoch: 33 [25600/50000 (51%)]\tLoss: 0.052596\n",
      "Train Epoch: 33 [28800/50000 (58%)]\tLoss: 0.086143\n",
      "Train Epoch: 33 [32000/50000 (64%)]\tLoss: 0.334700\n",
      "Train Epoch: 33 [35200/50000 (70%)]\tLoss: 0.041554\n",
      "Train Epoch: 33 [38400/50000 (77%)]\tLoss: 0.042800\n",
      "Train Epoch: 33 [41600/50000 (83%)]\tLoss: 0.056463\n",
      "Train Epoch: 33 [44800/50000 (90%)]\tLoss: 0.060258\n",
      "Train Epoch: 33 [48000/50000 (96%)]\tLoss: 0.162699\n"
     ]
    },
    {
     "name": "stderr",
     "output_type": "stream",
     "text": [
      "\r",
      " 66%|██████▌   | 33/50 [2:09:12<1:00:50, 214.71s/it]"
     ]
    },
    {
     "name": "stdout",
     "output_type": "stream",
     "text": [
      "\n",
      "Train loss: 0.08738759474750236\n",
      "Train Epoch: 34 [0/50000 (0%)]\tLoss: 0.009704\n",
      "Train Epoch: 34 [3200/50000 (6%)]\tLoss: 0.097644\n",
      "Train Epoch: 34 [6400/50000 (13%)]\tLoss: 0.080447\n",
      "Train Epoch: 34 [9600/50000 (19%)]\tLoss: 0.014489\n",
      "Train Epoch: 34 [12800/50000 (26%)]\tLoss: 0.042243\n",
      "Train Epoch: 34 [16000/50000 (32%)]\tLoss: 0.079648\n",
      "Train Epoch: 34 [19200/50000 (38%)]\tLoss: 0.213987\n",
      "Train Epoch: 34 [22400/50000 (45%)]\tLoss: 0.068691\n",
      "Train Epoch: 34 [25600/50000 (51%)]\tLoss: 0.042415\n",
      "Train Epoch: 34 [28800/50000 (58%)]\tLoss: 0.141897\n",
      "Train Epoch: 34 [32000/50000 (64%)]\tLoss: 0.071684\n",
      "Train Epoch: 34 [35200/50000 (70%)]\tLoss: 0.075772\n",
      "Train Epoch: 34 [38400/50000 (77%)]\tLoss: 0.274733\n",
      "Train Epoch: 34 [41600/50000 (83%)]\tLoss: 0.039723\n",
      "Train Epoch: 34 [44800/50000 (90%)]\tLoss: 0.004714\n",
      "Train Epoch: 34 [48000/50000 (96%)]\tLoss: 0.069625\n"
     ]
    },
    {
     "name": "stderr",
     "output_type": "stream",
     "text": [
      "\r",
      " 68%|██████▊   | 34/50 [2:12:40<56:44, 212.77s/it]  "
     ]
    },
    {
     "name": "stdout",
     "output_type": "stream",
     "text": [
      "\n",
      "Train loss: 0.08539348436683855\n",
      "Train Epoch: 35 [0/50000 (0%)]\tLoss: 0.084697\n",
      "Train Epoch: 35 [3200/50000 (6%)]\tLoss: 0.087796\n",
      "Train Epoch: 35 [6400/50000 (13%)]\tLoss: 0.036505\n",
      "Train Epoch: 35 [9600/50000 (19%)]\tLoss: 0.147163\n",
      "Train Epoch: 35 [12800/50000 (26%)]\tLoss: 0.075472\n",
      "Train Epoch: 35 [16000/50000 (32%)]\tLoss: 0.148319\n",
      "Train Epoch: 35 [19200/50000 (38%)]\tLoss: 0.216523\n",
      "Train Epoch: 35 [22400/50000 (45%)]\tLoss: 0.054743\n",
      "Train Epoch: 35 [25600/50000 (51%)]\tLoss: 0.117082\n",
      "Train Epoch: 35 [28800/50000 (58%)]\tLoss: 0.144147\n",
      "Train Epoch: 35 [32000/50000 (64%)]\tLoss: 0.014922\n",
      "Train Epoch: 35 [35200/50000 (70%)]\tLoss: 0.016036\n",
      "Train Epoch: 35 [38400/50000 (77%)]\tLoss: 0.205578\n",
      "Train Epoch: 35 [41600/50000 (83%)]\tLoss: 0.093027\n",
      "Train Epoch: 35 [44800/50000 (90%)]\tLoss: 0.007946\n",
      "Train Epoch: 35 [48000/50000 (96%)]\tLoss: 0.137273\n"
     ]
    },
    {
     "name": "stderr",
     "output_type": "stream",
     "text": [
      "\r",
      " 70%|███████   | 35/50 [2:16:12<53:09, 212.62s/it]"
     ]
    },
    {
     "name": "stdout",
     "output_type": "stream",
     "text": [
      "\n",
      "Train loss: 0.0828956509755729\n",
      "Train Epoch: 36 [0/50000 (0%)]\tLoss: 0.131927\n",
      "Train Epoch: 36 [3200/50000 (6%)]\tLoss: 0.108255\n",
      "Train Epoch: 36 [6400/50000 (13%)]\tLoss: 0.060995\n",
      "Train Epoch: 36 [9600/50000 (19%)]\tLoss: 0.019027\n",
      "Train Epoch: 36 [12800/50000 (26%)]\tLoss: 0.037988\n",
      "Train Epoch: 36 [16000/50000 (32%)]\tLoss: 0.026315\n",
      "Train Epoch: 36 [19200/50000 (38%)]\tLoss: 0.041204\n",
      "Train Epoch: 36 [22400/50000 (45%)]\tLoss: 0.189771\n",
      "Train Epoch: 36 [25600/50000 (51%)]\tLoss: 0.025886\n",
      "Train Epoch: 36 [28800/50000 (58%)]\tLoss: 0.030029\n",
      "Train Epoch: 36 [32000/50000 (64%)]\tLoss: 0.092072\n",
      "Train Epoch: 36 [35200/50000 (70%)]\tLoss: 0.094921\n",
      "Train Epoch: 36 [38400/50000 (77%)]\tLoss: 0.118068\n",
      "Train Epoch: 36 [41600/50000 (83%)]\tLoss: 0.021711\n",
      "Train Epoch: 36 [44800/50000 (90%)]\tLoss: 0.073818\n",
      "Train Epoch: 36 [48000/50000 (96%)]\tLoss: 0.015900\n"
     ]
    },
    {
     "name": "stderr",
     "output_type": "stream",
     "text": [
      "\r",
      " 72%|███████▏  | 36/50 [2:19:41<49:21, 211.56s/it]"
     ]
    },
    {
     "name": "stdout",
     "output_type": "stream",
     "text": [
      "\n",
      "Train loss: 0.07237612104098148\n",
      "Train Epoch: 37 [0/50000 (0%)]\tLoss: 0.092341\n",
      "Train Epoch: 37 [3200/50000 (6%)]\tLoss: 0.014035\n",
      "Train Epoch: 37 [6400/50000 (13%)]\tLoss: 0.120137\n",
      "Train Epoch: 37 [9600/50000 (19%)]\tLoss: 0.042422\n",
      "Train Epoch: 37 [12800/50000 (26%)]\tLoss: 0.025302\n",
      "Train Epoch: 37 [16000/50000 (32%)]\tLoss: 0.105584\n",
      "Train Epoch: 37 [19200/50000 (38%)]\tLoss: 0.034994\n",
      "Train Epoch: 37 [22400/50000 (45%)]\tLoss: 0.050909\n",
      "Train Epoch: 37 [25600/50000 (51%)]\tLoss: 0.023312\n",
      "Train Epoch: 37 [28800/50000 (58%)]\tLoss: 0.083897\n",
      "Train Epoch: 37 [32000/50000 (64%)]\tLoss: 0.033533\n",
      "Train Epoch: 37 [35200/50000 (70%)]\tLoss: 0.157214\n",
      "Train Epoch: 37 [38400/50000 (77%)]\tLoss: 0.013913\n",
      "Train Epoch: 37 [41600/50000 (83%)]\tLoss: 0.228914\n",
      "Train Epoch: 37 [44800/50000 (90%)]\tLoss: 0.043209\n",
      "Train Epoch: 37 [48000/50000 (96%)]\tLoss: 0.124115\n"
     ]
    },
    {
     "name": "stderr",
     "output_type": "stream",
     "text": [
      "\r",
      " 74%|███████▍  | 37/50 [2:23:10<45:40, 210.83s/it]"
     ]
    },
    {
     "name": "stdout",
     "output_type": "stream",
     "text": [
      "\n",
      "Train loss: 0.0747682874753733\n",
      "Train Epoch: 38 [0/50000 (0%)]\tLoss: 0.042135\n",
      "Train Epoch: 38 [3200/50000 (6%)]\tLoss: 0.021267\n",
      "Train Epoch: 38 [6400/50000 (13%)]\tLoss: 0.045887\n",
      "Train Epoch: 38 [9600/50000 (19%)]\tLoss: 0.053354\n",
      "Train Epoch: 38 [12800/50000 (26%)]\tLoss: 0.044090\n",
      "Train Epoch: 38 [16000/50000 (32%)]\tLoss: 0.152707\n",
      "Train Epoch: 38 [19200/50000 (38%)]\tLoss: 0.107687\n",
      "Train Epoch: 38 [22400/50000 (45%)]\tLoss: 0.059816\n",
      "Train Epoch: 38 [25600/50000 (51%)]\tLoss: 0.051775\n",
      "Train Epoch: 38 [28800/50000 (58%)]\tLoss: 0.007615\n",
      "Train Epoch: 38 [32000/50000 (64%)]\tLoss: 0.041587\n",
      "Train Epoch: 38 [35200/50000 (70%)]\tLoss: 0.072774\n",
      "Train Epoch: 38 [38400/50000 (77%)]\tLoss: 0.018936\n",
      "Train Epoch: 38 [41600/50000 (83%)]\tLoss: 0.048175\n",
      "Train Epoch: 38 [44800/50000 (90%)]\tLoss: 0.091842\n",
      "Train Epoch: 38 [48000/50000 (96%)]\tLoss: 0.037307\n"
     ]
    },
    {
     "name": "stderr",
     "output_type": "stream",
     "text": [
      "\r",
      " 76%|███████▌  | 38/50 [2:26:43<42:16, 211.41s/it]"
     ]
    },
    {
     "name": "stdout",
     "output_type": "stream",
     "text": [
      "\n",
      "Train loss: 0.07790634778144834\n",
      "Train Epoch: 39 [0/50000 (0%)]\tLoss: 0.015390\n",
      "Train Epoch: 39 [3200/50000 (6%)]\tLoss: 0.072017\n",
      "Train Epoch: 39 [6400/50000 (13%)]\tLoss: 0.055789\n",
      "Train Epoch: 39 [9600/50000 (19%)]\tLoss: 0.007768\n",
      "Train Epoch: 39 [12800/50000 (26%)]\tLoss: 0.052913\n",
      "Train Epoch: 39 [16000/50000 (32%)]\tLoss: 0.031374\n",
      "Train Epoch: 39 [19200/50000 (38%)]\tLoss: 0.073514\n",
      "Train Epoch: 39 [22400/50000 (45%)]\tLoss: 0.100775\n",
      "Train Epoch: 39 [25600/50000 (51%)]\tLoss: 0.032986\n",
      "Train Epoch: 39 [28800/50000 (58%)]\tLoss: 0.045626\n",
      "Train Epoch: 39 [32000/50000 (64%)]\tLoss: 0.046613\n",
      "Train Epoch: 39 [35200/50000 (70%)]\tLoss: 0.100950\n",
      "Train Epoch: 39 [38400/50000 (77%)]\tLoss: 0.045790\n",
      "Train Epoch: 39 [41600/50000 (83%)]\tLoss: 0.071273\n",
      "Train Epoch: 39 [44800/50000 (90%)]\tLoss: 0.052249\n",
      "Train Epoch: 39 [48000/50000 (96%)]\tLoss: 0.031703\n"
     ]
    },
    {
     "name": "stderr",
     "output_type": "stream",
     "text": [
      "\r",
      " 78%|███████▊  | 39/50 [2:30:11<38:33, 210.31s/it]"
     ]
    },
    {
     "name": "stdout",
     "output_type": "stream",
     "text": [
      "\n",
      "Train loss: 0.07031017669689153\n",
      "Train Epoch: 40 [0/50000 (0%)]\tLoss: 0.126298\n",
      "Train Epoch: 40 [3200/50000 (6%)]\tLoss: 0.024539\n",
      "Train Epoch: 40 [6400/50000 (13%)]\tLoss: 0.092629\n",
      "Train Epoch: 40 [9600/50000 (19%)]\tLoss: 0.059969\n",
      "Train Epoch: 40 [12800/50000 (26%)]\tLoss: 0.011131\n",
      "Train Epoch: 40 [16000/50000 (32%)]\tLoss: 0.054943\n",
      "Train Epoch: 40 [19200/50000 (38%)]\tLoss: 0.062761\n",
      "Train Epoch: 40 [22400/50000 (45%)]\tLoss: 0.006309\n",
      "Train Epoch: 40 [25600/50000 (51%)]\tLoss: 0.102761\n",
      "Train Epoch: 40 [28800/50000 (58%)]\tLoss: 0.070040\n",
      "Train Epoch: 40 [32000/50000 (64%)]\tLoss: 0.033442\n",
      "Train Epoch: 40 [35200/50000 (70%)]\tLoss: 0.095664\n",
      "Train Epoch: 40 [38400/50000 (77%)]\tLoss: 0.027881\n",
      "Train Epoch: 40 [41600/50000 (83%)]\tLoss: 0.009463\n",
      "Train Epoch: 40 [44800/50000 (90%)]\tLoss: 0.042591\n",
      "Train Epoch: 40 [48000/50000 (96%)]\tLoss: 0.122853\n"
     ]
    },
    {
     "name": "stderr",
     "output_type": "stream",
     "text": [
      "\r",
      " 80%|████████  | 40/50 [2:33:39<34:56, 209.63s/it]"
     ]
    },
    {
     "name": "stdout",
     "output_type": "stream",
     "text": [
      "\n",
      "Train loss: 0.05847209719735581\n",
      "Train Epoch: 41 [0/50000 (0%)]\tLoss: 0.119346\n",
      "Train Epoch: 41 [3200/50000 (6%)]\tLoss: 0.149275\n",
      "Train Epoch: 41 [6400/50000 (13%)]\tLoss: 0.040149\n",
      "Train Epoch: 41 [9600/50000 (19%)]\tLoss: 0.079644\n",
      "Train Epoch: 41 [12800/50000 (26%)]\tLoss: 0.025521\n",
      "Train Epoch: 41 [16000/50000 (32%)]\tLoss: 0.084539\n",
      "Train Epoch: 41 [19200/50000 (38%)]\tLoss: 0.223645\n",
      "Train Epoch: 41 [22400/50000 (45%)]\tLoss: 0.034244\n",
      "Train Epoch: 41 [25600/50000 (51%)]\tLoss: 0.086718\n",
      "Train Epoch: 41 [28800/50000 (58%)]\tLoss: 0.191085\n",
      "Train Epoch: 41 [32000/50000 (64%)]\tLoss: 0.114457\n",
      "Train Epoch: 41 [35200/50000 (70%)]\tLoss: 0.020991\n",
      "Train Epoch: 41 [38400/50000 (77%)]\tLoss: 0.110551\n",
      "Train Epoch: 41 [41600/50000 (83%)]\tLoss: 0.016136\n",
      "Train Epoch: 41 [44800/50000 (90%)]\tLoss: 0.029777\n",
      "Train Epoch: 41 [48000/50000 (96%)]\tLoss: 0.021635\n"
     ]
    },
    {
     "name": "stderr",
     "output_type": "stream",
     "text": [
      "\r",
      " 82%|████████▏ | 41/50 [2:37:08<31:23, 209.29s/it]"
     ]
    },
    {
     "name": "stdout",
     "output_type": "stream",
     "text": [
      "\n",
      "Train loss: 0.06593098671040366\n",
      "Train Epoch: 42 [0/50000 (0%)]\tLoss: 0.013522\n",
      "Train Epoch: 42 [3200/50000 (6%)]\tLoss: 0.008215\n",
      "Train Epoch: 42 [6400/50000 (13%)]\tLoss: 0.069605\n",
      "Train Epoch: 42 [9600/50000 (19%)]\tLoss: 0.068303\n",
      "Train Epoch: 42 [12800/50000 (26%)]\tLoss: 0.119381\n",
      "Train Epoch: 42 [16000/50000 (32%)]\tLoss: 0.050944\n",
      "Train Epoch: 42 [19200/50000 (38%)]\tLoss: 0.073478\n",
      "Train Epoch: 42 [22400/50000 (45%)]\tLoss: 0.142630\n",
      "Train Epoch: 42 [25600/50000 (51%)]\tLoss: 0.052895\n",
      "Train Epoch: 42 [28800/50000 (58%)]\tLoss: 0.010593\n",
      "Train Epoch: 42 [32000/50000 (64%)]\tLoss: 0.023085\n",
      "Train Epoch: 42 [35200/50000 (70%)]\tLoss: 0.039898\n",
      "Train Epoch: 42 [38400/50000 (77%)]\tLoss: 0.012893\n",
      "Train Epoch: 42 [41600/50000 (83%)]\tLoss: 0.164930\n",
      "Train Epoch: 42 [44800/50000 (90%)]\tLoss: 0.079357\n",
      "Train Epoch: 42 [48000/50000 (96%)]\tLoss: 0.028093\n"
     ]
    },
    {
     "name": "stderr",
     "output_type": "stream",
     "text": [
      "\r",
      " 84%|████████▍ | 42/50 [2:40:37<27:54, 209.28s/it]"
     ]
    },
    {
     "name": "stdout",
     "output_type": "stream",
     "text": [
      "\n",
      "Train loss: 0.06131646067858019\n",
      "Train Epoch: 43 [0/50000 (0%)]\tLoss: 0.036158\n",
      "Train Epoch: 43 [3200/50000 (6%)]\tLoss: 0.026042\n",
      "Train Epoch: 43 [6400/50000 (13%)]\tLoss: 0.079806\n",
      "Train Epoch: 43 [9600/50000 (19%)]\tLoss: 0.115387\n",
      "Train Epoch: 43 [12800/50000 (26%)]\tLoss: 0.035028\n",
      "Train Epoch: 43 [16000/50000 (32%)]\tLoss: 0.017717\n",
      "Train Epoch: 43 [19200/50000 (38%)]\tLoss: 0.012013\n",
      "Train Epoch: 43 [22400/50000 (45%)]\tLoss: 0.067729\n",
      "Train Epoch: 43 [25600/50000 (51%)]\tLoss: 0.044379\n",
      "Train Epoch: 43 [28800/50000 (58%)]\tLoss: 0.042988\n",
      "Train Epoch: 43 [32000/50000 (64%)]\tLoss: 0.264149\n",
      "Train Epoch: 43 [35200/50000 (70%)]\tLoss: 0.033915\n",
      "Train Epoch: 43 [38400/50000 (77%)]\tLoss: 0.192055\n",
      "Train Epoch: 43 [41600/50000 (83%)]\tLoss: 0.006071\n",
      "Train Epoch: 43 [44800/50000 (90%)]\tLoss: 0.149205\n",
      "Train Epoch: 43 [48000/50000 (96%)]\tLoss: 0.123437\n"
     ]
    },
    {
     "name": "stderr",
     "output_type": "stream",
     "text": [
      "\r",
      " 86%|████████▌ | 43/50 [2:44:06<24:24, 209.25s/it]"
     ]
    },
    {
     "name": "stdout",
     "output_type": "stream",
     "text": [
      "\n",
      "Train loss: 0.058877520947395574\n",
      "Train Epoch: 44 [0/50000 (0%)]\tLoss: 0.022340\n",
      "Train Epoch: 44 [3200/50000 (6%)]\tLoss: 0.078063\n",
      "Train Epoch: 44 [6400/50000 (13%)]\tLoss: 0.009966\n",
      "Train Epoch: 44 [9600/50000 (19%)]\tLoss: 0.016442\n",
      "Train Epoch: 44 [12800/50000 (26%)]\tLoss: 0.044282\n",
      "Train Epoch: 44 [16000/50000 (32%)]\tLoss: 0.016561\n",
      "Train Epoch: 44 [19200/50000 (38%)]\tLoss: 0.047419\n",
      "Train Epoch: 44 [22400/50000 (45%)]\tLoss: 0.153193\n",
      "Train Epoch: 44 [25600/50000 (51%)]\tLoss: 0.047235\n",
      "Train Epoch: 44 [28800/50000 (58%)]\tLoss: 0.028004\n",
      "Train Epoch: 44 [32000/50000 (64%)]\tLoss: 0.078411\n",
      "Train Epoch: 44 [35200/50000 (70%)]\tLoss: 0.010403\n",
      "Train Epoch: 44 [38400/50000 (77%)]\tLoss: 0.108360\n",
      "Train Epoch: 44 [41600/50000 (83%)]\tLoss: 0.294048\n",
      "Train Epoch: 44 [44800/50000 (90%)]\tLoss: 0.016461\n",
      "Train Epoch: 44 [48000/50000 (96%)]\tLoss: 0.136211\n"
     ]
    },
    {
     "name": "stderr",
     "output_type": "stream",
     "text": [
      "\r",
      " 88%|████████▊ | 44/50 [2:47:35<20:54, 209.14s/it]"
     ]
    },
    {
     "name": "stdout",
     "output_type": "stream",
     "text": [
      "\n",
      "Train loss: 0.059714572049517786\n",
      "Train Epoch: 45 [0/50000 (0%)]\tLoss: 0.023637\n",
      "Train Epoch: 45 [3200/50000 (6%)]\tLoss: 0.026835\n",
      "Train Epoch: 45 [6400/50000 (13%)]\tLoss: 0.017082\n",
      "Train Epoch: 45 [9600/50000 (19%)]\tLoss: 0.039594\n",
      "Train Epoch: 45 [12800/50000 (26%)]\tLoss: 0.093453\n",
      "Train Epoch: 45 [16000/50000 (32%)]\tLoss: 0.114587\n",
      "Train Epoch: 45 [19200/50000 (38%)]\tLoss: 0.095062\n",
      "Train Epoch: 45 [22400/50000 (45%)]\tLoss: 0.040936\n",
      "Train Epoch: 45 [25600/50000 (51%)]\tLoss: 0.014650\n",
      "Train Epoch: 45 [28800/50000 (58%)]\tLoss: 0.063493\n",
      "Train Epoch: 45 [32000/50000 (64%)]\tLoss: 0.024836\n",
      "Train Epoch: 45 [35200/50000 (70%)]\tLoss: 0.134250\n",
      "Train Epoch: 45 [38400/50000 (77%)]\tLoss: 0.058957\n",
      "Train Epoch: 45 [41600/50000 (83%)]\tLoss: 0.075073\n",
      "Train Epoch: 45 [44800/50000 (90%)]\tLoss: 0.053914\n",
      "Train Epoch: 45 [48000/50000 (96%)]\tLoss: 0.045831\n"
     ]
    },
    {
     "name": "stderr",
     "output_type": "stream",
     "text": [
      "\r",
      " 90%|█████████ | 45/50 [2:51:06<17:28, 209.68s/it]"
     ]
    },
    {
     "name": "stdout",
     "output_type": "stream",
     "text": [
      "\n",
      "Train loss: 0.06025348846634488\n",
      "Train Epoch: 46 [0/50000 (0%)]\tLoss: 0.128558\n",
      "Train Epoch: 46 [3200/50000 (6%)]\tLoss: 0.109469\n",
      "Train Epoch: 46 [6400/50000 (13%)]\tLoss: 0.012500\n",
      "Train Epoch: 46 [9600/50000 (19%)]\tLoss: 0.016927\n",
      "Train Epoch: 46 [12800/50000 (26%)]\tLoss: 0.108928\n",
      "Train Epoch: 46 [16000/50000 (32%)]\tLoss: 0.092126\n",
      "Train Epoch: 46 [19200/50000 (38%)]\tLoss: 0.036982\n",
      "Train Epoch: 46 [22400/50000 (45%)]\tLoss: 0.057052\n",
      "Train Epoch: 46 [25600/50000 (51%)]\tLoss: 0.065262\n",
      "Train Epoch: 46 [28800/50000 (58%)]\tLoss: 0.043752\n",
      "Train Epoch: 46 [32000/50000 (64%)]\tLoss: 0.030466\n",
      "Train Epoch: 46 [35200/50000 (70%)]\tLoss: 0.042913\n",
      "Train Epoch: 46 [38400/50000 (77%)]\tLoss: 0.057227\n",
      "Train Epoch: 46 [41600/50000 (83%)]\tLoss: 0.048807\n",
      "Train Epoch: 46 [44800/50000 (90%)]\tLoss: 0.034112\n",
      "Train Epoch: 46 [48000/50000 (96%)]\tLoss: 0.060232\n"
     ]
    },
    {
     "name": "stderr",
     "output_type": "stream",
     "text": [
      "\r",
      " 92%|█████████▏| 46/50 [2:54:34<13:57, 209.38s/it]"
     ]
    },
    {
     "name": "stdout",
     "output_type": "stream",
     "text": [
      "\n",
      "Train loss: 0.05679007783538693\n",
      "Train Epoch: 47 [0/50000 (0%)]\tLoss: 0.034356\n",
      "Train Epoch: 47 [3200/50000 (6%)]\tLoss: 0.029198\n",
      "Train Epoch: 47 [6400/50000 (13%)]\tLoss: 0.054660\n",
      "Train Epoch: 47 [9600/50000 (19%)]\tLoss: 0.045320\n",
      "Train Epoch: 47 [12800/50000 (26%)]\tLoss: 0.081221\n",
      "Train Epoch: 47 [16000/50000 (32%)]\tLoss: 0.061311\n",
      "Train Epoch: 47 [19200/50000 (38%)]\tLoss: 0.067439\n",
      "Train Epoch: 47 [22400/50000 (45%)]\tLoss: 0.014319\n",
      "Train Epoch: 47 [25600/50000 (51%)]\tLoss: 0.027546\n",
      "Train Epoch: 47 [28800/50000 (58%)]\tLoss: 0.050634\n",
      "Train Epoch: 47 [32000/50000 (64%)]\tLoss: 0.009019\n",
      "Train Epoch: 47 [35200/50000 (70%)]\tLoss: 0.074098\n",
      "Train Epoch: 47 [38400/50000 (77%)]\tLoss: 0.072491\n",
      "Train Epoch: 47 [41600/50000 (83%)]\tLoss: 0.107775\n",
      "Train Epoch: 47 [44800/50000 (90%)]\tLoss: 0.046064\n",
      "Train Epoch: 47 [48000/50000 (96%)]\tLoss: 0.036680\n"
     ]
    },
    {
     "name": "stderr",
     "output_type": "stream",
     "text": [
      "\r",
      " 94%|█████████▍| 47/50 [2:58:05<10:28, 209.60s/it]"
     ]
    },
    {
     "name": "stdout",
     "output_type": "stream",
     "text": [
      "\n",
      "Train loss: 0.05242871751715822\n",
      "Train Epoch: 48 [0/50000 (0%)]\tLoss: 0.194488\n",
      "Train Epoch: 48 [3200/50000 (6%)]\tLoss: 0.100330\n",
      "Train Epoch: 48 [6400/50000 (13%)]\tLoss: 0.027234\n",
      "Train Epoch: 48 [9600/50000 (19%)]\tLoss: 0.058514\n",
      "Train Epoch: 48 [12800/50000 (26%)]\tLoss: 0.040039\n",
      "Train Epoch: 48 [16000/50000 (32%)]\tLoss: 0.020072\n",
      "Train Epoch: 48 [19200/50000 (38%)]\tLoss: 0.171985\n",
      "Train Epoch: 48 [22400/50000 (45%)]\tLoss: 0.083806\n",
      "Train Epoch: 48 [25600/50000 (51%)]\tLoss: 0.003717\n",
      "Train Epoch: 48 [28800/50000 (58%)]\tLoss: 0.071986\n",
      "Train Epoch: 48 [32000/50000 (64%)]\tLoss: 0.039528\n",
      "Train Epoch: 48 [35200/50000 (70%)]\tLoss: 0.002855\n",
      "Train Epoch: 48 [38400/50000 (77%)]\tLoss: 0.027614\n",
      "Train Epoch: 48 [41600/50000 (83%)]\tLoss: 0.051696\n",
      "Train Epoch: 48 [44800/50000 (90%)]\tLoss: 0.006734\n",
      "Train Epoch: 48 [48000/50000 (96%)]\tLoss: 0.047918\n"
     ]
    },
    {
     "name": "stderr",
     "output_type": "stream",
     "text": [
      "\r",
      " 96%|█████████▌| 48/50 [3:01:35<06:59, 209.76s/it]"
     ]
    },
    {
     "name": "stdout",
     "output_type": "stream",
     "text": [
      "\n",
      "Train loss: 0.047017143809419994\n",
      "Train Epoch: 49 [0/50000 (0%)]\tLoss: 0.042122\n",
      "Train Epoch: 49 [3200/50000 (6%)]\tLoss: 0.059672\n",
      "Train Epoch: 49 [6400/50000 (13%)]\tLoss: 0.033976\n",
      "Train Epoch: 49 [9600/50000 (19%)]\tLoss: 0.040114\n",
      "Train Epoch: 49 [12800/50000 (26%)]\tLoss: 0.040216\n",
      "Train Epoch: 49 [16000/50000 (32%)]\tLoss: 0.003958\n",
      "Train Epoch: 49 [19200/50000 (38%)]\tLoss: 0.016047\n",
      "Train Epoch: 49 [22400/50000 (45%)]\tLoss: 0.007333\n",
      "Train Epoch: 49 [25600/50000 (51%)]\tLoss: 0.083027\n",
      "Train Epoch: 49 [28800/50000 (58%)]\tLoss: 0.072244\n",
      "Train Epoch: 49 [32000/50000 (64%)]\tLoss: 0.043978\n",
      "Train Epoch: 49 [35200/50000 (70%)]\tLoss: 0.032291\n",
      "Train Epoch: 49 [38400/50000 (77%)]\tLoss: 0.007057\n",
      "Train Epoch: 49 [41600/50000 (83%)]\tLoss: 0.038928\n",
      "Train Epoch: 49 [44800/50000 (90%)]\tLoss: 0.039552\n",
      "Train Epoch: 49 [48000/50000 (96%)]\tLoss: 0.017287\n"
     ]
    },
    {
     "name": "stderr",
     "output_type": "stream",
     "text": [
      "\r",
      " 98%|█████████▊| 49/50 [3:05:04<03:29, 209.53s/it]"
     ]
    },
    {
     "name": "stdout",
     "output_type": "stream",
     "text": [
      "\n",
      "Train loss: 0.05019894221980992\n",
      "Train Epoch: 50 [0/50000 (0%)]\tLoss: 0.010202\n",
      "Train Epoch: 50 [3200/50000 (6%)]\tLoss: 0.089626\n",
      "Train Epoch: 50 [6400/50000 (13%)]\tLoss: 0.168866\n",
      "Train Epoch: 50 [9600/50000 (19%)]\tLoss: 0.044486\n",
      "Train Epoch: 50 [12800/50000 (26%)]\tLoss: 0.021021\n",
      "Train Epoch: 50 [16000/50000 (32%)]\tLoss: 0.041361\n",
      "Train Epoch: 50 [19200/50000 (38%)]\tLoss: 0.046590\n",
      "Train Epoch: 50 [22400/50000 (45%)]\tLoss: 0.010094\n",
      "Train Epoch: 50 [25600/50000 (51%)]\tLoss: 0.011319\n",
      "Train Epoch: 50 [28800/50000 (58%)]\tLoss: 0.033523\n",
      "Train Epoch: 50 [32000/50000 (64%)]\tLoss: 0.110713\n",
      "Train Epoch: 50 [35200/50000 (70%)]\tLoss: 0.002806\n",
      "Train Epoch: 50 [38400/50000 (77%)]\tLoss: 0.129452\n",
      "Train Epoch: 50 [41600/50000 (83%)]\tLoss: 0.011620\n",
      "Train Epoch: 50 [44800/50000 (90%)]\tLoss: 0.017865\n",
      "Train Epoch: 50 [48000/50000 (96%)]\tLoss: 0.099663\n"
     ]
    },
    {
     "name": "stderr",
     "output_type": "stream",
     "text": [
      "100%|██████████| 50/50 [3:08:32<00:00, 226.24s/it]"
     ]
    },
    {
     "name": "stdout",
     "output_type": "stream",
     "text": [
      "\n",
      "Train loss: 0.04861069787987401\n"
     ]
    },
    {
     "name": "stderr",
     "output_type": "stream",
     "text": [
      "\n"
     ]
    },
    {
     "name": "stdout",
     "output_type": "stream",
     "text": [
      "Test on 10000 samples\n",
      "Test Accuracy: 86.22%\n"
     ]
    },
    {
     "data": {
      "image/png": "[encoded data removed]",
      "text/plain": [
       "<Figure size 432x288 with 1 Axes>"
      ]
     },
     "metadata": {
      "needs_background": "light"
     },
     "output_type": "display_data"
    }
   ],
   "source": [
    "%run src/baseline_main.py --model=test --dataset=cifar --gpu=0 --epochs=50 --lr=0.01 --local_bs=50  --num_users=1 --frac=0.25"
   ]
  },
  {
   "cell_type": "code",
   "execution_count": null,
   "metadata": {},
   "outputs": [
    {
     "name": "stdout",
     "output_type": "stream",
     "text": [
      "Files already downloaded and verified\n",
      "Files already downloaded and verified\n"
     ]
    },
    {
     "name": "stderr",
     "output_type": "stream",
     "text": [
      "\r",
      "  0%|          | 0/50 [00:00<?, ?it/s]"
     ]
    },
    {
     "name": "stdout",
     "output_type": "stream",
     "text": [
      "TestmyNet(\n",
      "  (conv1): Conv2d(3, 64, kernel_size=(3, 3), stride=(1, 1), padding=(1, 1))\n",
      "  (conv2): Conv2d(64, 64, kernel_size=(3, 3), stride=(1, 1), padding=(1, 1))\n",
      "  (pool1): MaxPool2d(kernel_size=2, stride=2, padding=0, dilation=1, ceil_mode=False)\n",
      "  (bn1): BatchNorm2d(64, eps=1e-05, momentum=0.1, affine=True, track_running_stats=True)\n",
      "  (relu1): ReLU()\n",
      "  (conv3): Conv2d(64, 128, kernel_size=(3, 3), stride=(1, 1), padding=(1, 1))\n",
      "  (conv4): Conv2d(128, 128, kernel_size=(3, 3), stride=(1, 1), padding=(1, 1))\n",
      "  (pool2): MaxPool2d(kernel_size=2, stride=2, padding=1, dilation=1, ceil_mode=False)\n",
      "  (bn2): BatchNorm2d(128, eps=1e-05, momentum=0.1, affine=True, track_running_stats=True)\n",
      "  (relu2): ReLU()\n",
      "  (conv5): Conv2d(128, 128, kernel_size=(3, 3), stride=(1, 1), padding=(1, 1))\n",
      "  (conv6): Conv2d(128, 128, kernel_size=(3, 3), stride=(1, 1), padding=(1, 1))\n",
      "  (conv7): Conv2d(128, 128, kernel_size=(1, 1), stride=(1, 1), padding=(1, 1))\n",
      "  (pool3): MaxPool2d(kernel_size=2, stride=2, padding=1, dilation=1, ceil_mode=False)\n",
      "  (bn3): BatchNorm2d(128, eps=1e-05, momentum=0.1, affine=True, track_running_stats=True)\n",
      "  (relu3): ReLU()\n",
      "  (conv8): Conv2d(128, 256, kernel_size=(3, 3), stride=(1, 1), padding=(1, 1))\n",
      "  (conv9): Conv2d(256, 256, kernel_size=(3, 3), stride=(1, 1), padding=(1, 1))\n",
      "  (conv10): Conv2d(256, 256, kernel_size=(1, 1), stride=(1, 1), padding=(1, 1))\n",
      "  (pool4): MaxPool2d(kernel_size=2, stride=2, padding=1, dilation=1, ceil_mode=False)\n",
      "  (bn4): BatchNorm2d(256, eps=1e-05, momentum=0.1, affine=True, track_running_stats=True)\n",
      "  (relu4): ReLU()\n",
      "  (conv11): Conv2d(256, 512, kernel_size=(3, 3), stride=(1, 1), padding=(1, 1))\n",
      "  (conv12): Conv2d(512, 512, kernel_size=(3, 3), stride=(1, 1), padding=(1, 1))\n",
      "  (conv13): Conv2d(512, 512, kernel_size=(1, 1), stride=(1, 1), padding=(1, 1))\n",
      "  (pool5): MaxPool2d(kernel_size=2, stride=2, padding=1, dilation=1, ceil_mode=False)\n",
      "  (bn5): BatchNorm2d(512, eps=1e-05, momentum=0.1, affine=True, track_running_stats=True)\n",
      "  (relu5): ReLU()\n",
      "  (fc14): Linear(in_features=8192, out_features=1024, bias=True)\n",
      "  (drop1): Dropout2d(p=0.5, inplace=False)\n",
      "  (fc15): Linear(in_features=1024, out_features=1024, bias=True)\n",
      "  (drop2): Dropout2d(p=0.5, inplace=False)\n",
      "  (fc16): Linear(in_features=1024, out_features=10, bias=True)\n",
      ")\n",
      "Train Epoch: 1 [0/50000 (0%)]\tLoss: 2.301354\n",
      "Train Epoch: 1 [3200/50000 (6%)]\tLoss: 1.951901\n",
      "Train Epoch: 1 [6400/50000 (13%)]\tLoss: 1.851639\n",
      "Train Epoch: 1 [9600/50000 (19%)]\tLoss: 1.554098\n",
      "Train Epoch: 1 [12800/50000 (26%)]\tLoss: 1.613488\n",
      "Train Epoch: 1 [16000/50000 (32%)]\tLoss: 1.469193\n",
      "Train Epoch: 1 [19200/50000 (38%)]\tLoss: 1.374244\n",
      "Train Epoch: 1 [22400/50000 (45%)]\tLoss: 1.355961\n",
      "Train Epoch: 1 [25600/50000 (51%)]\tLoss: 1.467931\n",
      "Train Epoch: 1 [28800/50000 (58%)]\tLoss: 1.316780\n",
      "Train Epoch: 1 [32000/50000 (64%)]\tLoss: 0.999370\n",
      "Train Epoch: 1 [35200/50000 (70%)]\tLoss: 1.337087\n",
      "Train Epoch: 1 [38400/50000 (77%)]\tLoss: 1.145843\n",
      "Train Epoch: 1 [41600/50000 (83%)]\tLoss: 1.196218\n",
      "Train Epoch: 1 [44800/50000 (90%)]\tLoss: 1.520126\n",
      "Train Epoch: 1 [48000/50000 (96%)]\tLoss: 1.086806\n"
     ]
    },
    {
     "name": "stderr",
     "output_type": "stream",
     "text": [
      "\r",
      "  2%|▏         | 1/50 [04:03<3:18:35, 243.17s/it]"
     ]
    },
    {
     "name": "stdout",
     "output_type": "stream",
     "text": [
      "\n",
      "Train loss: 1.4357860062433325\n",
      "Train Epoch: 2 [0/50000 (0%)]\tLoss: 0.825234\n",
      "Train Epoch: 2 [3200/50000 (6%)]\tLoss: 0.858151\n",
      "Train Epoch: 2 [6400/50000 (13%)]\tLoss: 0.975558\n"
     ]
    }
   ],
   "source": [
    "%run src/baseline_main.py --model=test --dataset=cifar --gpu=0 --epochs=50 --lr=0.01 --local_bs=50  --num_users=10 --frac=0.1"
   ]
  },
  {
   "cell_type": "markdown",
   "metadata": {},
   "source": [
    "%run src/federated_main.py --model=cnn --dataset=cifar --gpu=0 --iid=0 --epochs=10"
   ]
  },
  {
   "cell_type": "markdown",
   "metadata": {},
   "source": [
    "%run src/federated_main.py --model=mlp --dataset=cifar --gpu=0 --iid=0 --epochs=10"
   ]
  }
 ],
 "metadata": {
  "kernelspec": {
   "display_name": "Python 3",
   "language": "python",
   "name": "python3"
  },
  "language_info": {
   "codemirror_mode": {
    "name": "ipython",
    "version": 3
   },
   "file_extension": ".py",
   "mimetype": "text/x-python",
   "name": "python",
   "nbconvert_exporter": "python",
   "pygments_lexer": "ipython3",
   "version": "3.6.9"
  }
 },
 "nbformat": 4,
 "nbformat_minor": 4
}
