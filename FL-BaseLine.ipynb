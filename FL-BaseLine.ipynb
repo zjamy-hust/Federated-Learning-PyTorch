{
 "cells": [
  {
   "cell_type": "markdown",
   "metadata": {},
   "source": [
    "**Federated-Learning-PyTorch**\n",
    "\n",
    "*reproducing by Zhao Juan*\n",
    "\n",
    "Paper Title: **Communication-Efficient Learning of Deep Networks from Decentralized Data**\n",
    "\n",
    "source code from: https://github.com/AshwinRJ/Federated-Learning-PyTorch\n",
    "\n",
    "Problem Statement: **I can't reproduce the paper's Figure 4's good result.How is your reproducint result?**\n",
    "\n",
    "gitdiff (the code I modified)\n",
    "\n"
   ]
  },
  {
   "cell_type": "code",
   "execution_count": null,
   "metadata": {},
   "outputs": [],
   "source": [
    "%run src/baseline_main.py --model=test --dataset=cifar --gpu=0 --epochs=50 --lr=0.01 --local_bs=50  --num_users=1 --frac=1"
   ]
  },
  {
   "cell_type": "code",
   "execution_count": null,
   "metadata": {},
   "outputs": [],
   "source": []
  },
  {
   "cell_type": "code",
   "execution_count": null,
   "metadata": {},
   "outputs": [],
   "source": []
  },
  {
   "cell_type": "markdown",
   "metadata": {},
   "source": [
    "%run src/federated_main.py --model=cnn --dataset=cifar --gpu=0 --iid=0 --epochs=10"
   ]
  },
  {
   "cell_type": "markdown",
   "metadata": {},
   "source": [
    "%run src/federated_main.py --model=mlp --dataset=cifar --gpu=0 --iid=0 --epochs=10"
   ]
  }
 ],
 "metadata": {
  "kernelspec": {
   "display_name": "Python 3",
   "language": "python",
   "name": "python3"
  },
  "language_info": {
   "codemirror_mode": {
    "name": "ipython",
    "version": 3
   },
   "file_extension": ".py",
   "mimetype": "text/x-python",
   "name": "python",
   "nbconvert_exporter": "python",
   "pygments_lexer": "ipython3",
   "version": "3.6.9"
  }
 },
 "nbformat": 4,
 "nbformat_minor": 4
}
